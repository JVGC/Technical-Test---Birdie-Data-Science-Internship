{
 "cells": [
  {
   "cell_type": "code",
   "execution_count": 1,
   "metadata": {},
   "outputs": [
    {
     "name": "stderr",
     "output_type": "stream",
     "text": [
      "/home/joaogarcia/Documents/DataScience/venv/lib/python3.6/site-packages/matplotlib/__init__.py:886: MatplotlibDeprecationWarning: \n",
      "examples.directory is deprecated; in the future, examples will be found relative to the 'datapath' directory.\n",
      "  \"found relative to the 'datapath' directory.\".format(key))\n"
     ]
    }
   ],
   "source": [
    "import numpy as np\n",
    "import pandas as pd\n",
    "import matplotlib.pyplot as plt\n",
    "import seaborn as sns"
   ]
  },
  {
   "cell_type": "code",
   "execution_count": 2,
   "metadata": {},
   "outputs": [
    {
     "data": {
      "text/html": [
       "<div>\n",
       "<style scoped>\n",
       "    .dataframe tbody tr th:only-of-type {\n",
       "        vertical-align: middle;\n",
       "    }\n",
       "\n",
       "    .dataframe tbody tr th {\n",
       "        vertical-align: top;\n",
       "    }\n",
       "\n",
       "    .dataframe thead th {\n",
       "        text-align: right;\n",
       "    }\n",
       "</style>\n",
       "<table border=\"1\" class=\"dataframe\">\n",
       "  <thead>\n",
       "    <tr style=\"text-align: right;\">\n",
       "      <th></th>\n",
       "      <th>lowes</th>\n",
       "      <th>Refrigerators</th>\n",
       "      <th>[\"Appliances\", \"Refrigerators\", \"Side-by-Side Refrigerators\"]</th>\n",
       "      <th>General Electric</th>\n",
       "      <th>https://www.lowes.com/pd/GE-25-3-cu-ft-Side-by-Side-Refrigerator-with-Ice-Maker-Fingerprint-Resistant-Stainless-Steel/1000859768</th>\n",
       "      <th>1000859768</th>\n",
       "      <th>lowes.1</th>\n",
       "      <th>GE 25.3-cu ft Side-by-Side Refrigerator with Ice Maker (Fingerprint-Resistant Stainless Steel)</th>\n",
       "      <th>'25.3':2 'by':7 'cu':3 'fingerprint':14 'fingerprint-resistant':13 'ft':4 'ge':1 'ice':11 'maker':12 'refrigerator':9 'resistant':15 'side':6,8 'side-by-side':5 'stainless':16 'steel':17 'with':10</th>\n",
       "      <th>Unnamed: 9</th>\n",
       "      <th>...</th>\n",
       "      <th>3.00</th>\n",
       "      <th>2020-03-23</th>\n",
       "      <th>2020</th>\n",
       "      <th>3</th>\n",
       "      <th>13</th>\n",
       "      <th>23</th>\n",
       "      <th>2020-04-24 15:58:56.293182</th>\n",
       "      <th>us</th>\n",
       "      <th>True</th>\n",
       "      <th>['1000859768', '1000859852']</th>\n",
       "    </tr>\n",
       "  </thead>\n",
       "  <tbody>\n",
       "    <tr>\n",
       "      <th>0</th>\n",
       "      <td>lowes</td>\n",
       "      <td>Refrigerators</td>\n",
       "      <td>[\"Appliances\", \"Refrigerators\", \"Side-by-Side ...</td>\n",
       "      <td>General Electric</td>\n",
       "      <td>https://www.lowes.com/pd/GE-25-1-cu-ft-Side-by...</td>\n",
       "      <td>1000859852</td>\n",
       "      <td>lowes</td>\n",
       "      <td>GE 25.1-cu ft Side-by-Side Refrigerator with I...</td>\n",
       "      <td>'25.1':2 'black':13 'by':7 'cu':3 'ft':4 'ge':...</td>\n",
       "      <td>NaN</td>\n",
       "      <td>...</td>\n",
       "      <td>3.0</td>\n",
       "      <td>2020-03-23</td>\n",
       "      <td>2020</td>\n",
       "      <td>3</td>\n",
       "      <td>13</td>\n",
       "      <td>23</td>\n",
       "      <td>2020-04-24 14:55:13.485647</td>\n",
       "      <td>us</td>\n",
       "      <td>False</td>\n",
       "      <td>['1000859768', '1000859852']</td>\n",
       "    </tr>\n",
       "  </tbody>\n",
       "</table>\n",
       "<p>1 rows × 25 columns</p>\n",
       "</div>"
      ],
      "text/plain": [
       "   lowes  Refrigerators  \\\n",
       "0  lowes  Refrigerators   \n",
       "\n",
       "  [\"Appliances\", \"Refrigerators\", \"Side-by-Side Refrigerators\"]  \\\n",
       "0  [\"Appliances\", \"Refrigerators\", \"Side-by-Side ...              \n",
       "\n",
       "   General Electric  \\\n",
       "0  General Electric   \n",
       "\n",
       "  https://www.lowes.com/pd/GE-25-3-cu-ft-Side-by-Side-Refrigerator-with-Ice-Maker-Fingerprint-Resistant-Stainless-Steel/1000859768  \\\n",
       "0  https://www.lowes.com/pd/GE-25-1-cu-ft-Side-by...                                                                                 \n",
       "\n",
       "   1000859768 lowes.1  \\\n",
       "0  1000859852   lowes   \n",
       "\n",
       "  GE 25.3-cu ft Side-by-Side Refrigerator with Ice Maker (Fingerprint-Resistant Stainless Steel)  \\\n",
       "0  GE 25.1-cu ft Side-by-Side Refrigerator with I...                                               \n",
       "\n",
       "  '25.3':2 'by':7 'cu':3 'fingerprint':14 'fingerprint-resistant':13 'ft':4 'ge':1 'ice':11 'maker':12 'refrigerator':9 'resistant':15 'side':6,8 'side-by-side':5 'stainless':16 'steel':17 'with':10  \\\n",
       "0  '25.1':2 'black':13 'by':7 'cu':3 'ft':4 'ge':...                                                                                                                                                     \n",
       "\n",
       "   Unnamed: 9              ...              3.00  2020-03-23  2020  3  13  23  \\\n",
       "0         NaN              ...               3.0  2020-03-23  2020  3  13  23   \n",
       "\n",
       "   2020-04-24 15:58:56.293182  us   True  ['1000859768', '1000859852']  \n",
       "0  2020-04-24 14:55:13.485647  us  False  ['1000859768', '1000859852']  \n",
       "\n",
       "[1 rows x 25 columns]"
      ]
     },
     "execution_count": 2,
     "metadata": {},
     "output_type": "execute_result"
    }
   ],
   "source": [
    "data = pd.read_csv('./Dataset/tech_test.tsv')\n",
    "data.head(1)"
   ]
  },
  {
   "cell_type": "code",
   "execution_count": 3,
   "metadata": {},
   "outputs": [
    {
     "data": {
      "text/plain": [
       "(20472, 25)"
      ]
     },
     "execution_count": 3,
     "metadata": {},
     "output_type": "execute_result"
    }
   ],
   "source": [
    "data.shape"
   ]
  },
  {
   "cell_type": "code",
   "execution_count": 4,
   "metadata": {},
   "outputs": [
    {
     "data": {
      "text/plain": [
       "Index(['lowes', 'Refrigerators',\n",
       "       '[\"Appliances\", \"Refrigerators\", \"Side-by-Side Refrigerators\"]',\n",
       "       'General Electric',\n",
       "       'https://www.lowes.com/pd/GE-25-3-cu-ft-Side-by-Side-Refrigerator-with-Ice-Maker-Fingerprint-Resistant-Stainless-Steel/1000859768',\n",
       "       '1000859768', 'lowes.1',\n",
       "       'GE 25.3-cu ft Side-by-Side Refrigerator with Ice Maker (Fingerprint-Resistant Stainless Steel)',\n",
       "       ''25.3':2 'by':7 'cu':3 'fingerprint':14 'fingerprint-resistant':13 'ft':4 'ge':1 'ice':11 'maker':12 'refrigerator':9 'resistant':15 'side':6,8 'side-by-side':5 'stainless':16 'steel':17 'with':10',\n",
       "       'Unnamed: 9',\n",
       "       '{'brand': ['GE', 'Ge'], 'model': ['GSS25IYNFS', 'GSS25IYNFS'], 'style': ['Side-by-Side'], 'title': 'GE 25.3-cu ft Side-by-Side Refrigerator with Ice Maker (Fingerprint-Resistant Stainless Steel)', 'UNSPSC': ['52141500'], 'Built-In': ['No'], 'Warranty': ['1-year limited'], 'warranty': ['1-year limited'], 'Ice Maker': ['Single'], 'Sub-Brand': ['N/A'], 'Depth Type': ['Standard-Depth'], 'Door Alarm': ['Yes'], 'Door Style': ['Contoured'], 'Frost-Free': ['Yes'], 'breadcrumb': ['Appliances', 'Refrigerators', 'Side-by-Side Refrigerators'], 'Handle Type': ['Standard'], 'Series Name': ['N/A'], 'Door Shelves': ['4'], 'Door Texture': ['Smooth'], 'Handle Color': ['Stainless steel'], 'Hidden Hinge': ['Yes'], 'Hub Required': ['No'], 'ADA Compliant': ['No'], 'Cabinet Color': ['Gray'], 'Freezer Light': ['Yes'], 'See-Thru Door': ['No'], 'Shelf Options': ['Adjustable spillproof sliding glass shelves'], 'Air Filtration': ['Yes'], 'Safety Listing': ['UL safety listing'], 'Works with iOS': ['No'], 'Dispenser Light': ['Yes'], 'Freezer Baskets': ['2'], 'Freezer Shelves': ['3'], 'Door within Door': ['No'], \"Lowe's Exclusive\": ['No'], 'Toe Grille Color': ['Gray'], 'Voice Controlled': ['No'], 'Water Filtration': ['Yes'], 'voice_controlled': ['No'], 'App Compatibility': ['No'], 'Dispenser Options': ['Filtered water and cubed/crushed ice'], 'Freezer Door Bins': ['0'], 'Refrigerator Size': ['Large (>36-in)'], 'Snack/Deli Drawer': ['No'], 'CEE Tier Qualified': ['N/A'], 'Child Safety Locks': ['Yes'], 'Works with Android': ['No'], 'Gallon Door Storage': ['Yes'], 'Wi-Fi Compatibility': ['No'], 'Freezer Door Shelves': ['5'], 'Actual Width (Inches)': ['36.25'], 'Common Width (Inches)': ['36'], 'ENERGY STAR Certified': ['No'], 'Fingerprint-Resistant': ['Yes'], 'Appliance Color/Finish': ['Stainless steel'], 'Water Filter Indicator': ['Yes'], 'Works with SmartThings': ['No'], 'Bluetooth Compatibility': ['No'], 'Works with Amazon Alexa': ['No'], 'Approved for Outdoor Use': ['No'], 'Space-Saving In-Door Ice': ['No'], 'Works with Apple HomeKit': ['No'], 'Manufacturer Color/Finish': ['Stainless Steel'], 'Custom Door Kit Compatible': ['No'], 'Depth (Less Door) (Inches)': ['28.5'], 'Freezer Capacity (Cu. Feet)': ['9.6'], 'Overall Capacity (Cu. Feet)': ['25.3'], 'Humidity-Controlled Crispers': ['1'], 'Depth with Door Open (Inches)': ['51.125'], 'Matching Air Filter (Model #)': ['N/A'], 'Temperature Controlled Drawer': ['No'], 'Dual Evaporator Cooling System': ['No'], 'Electronic Temperature Control': ['Yes'], 'Height to Top of Case (Inches)': ['68.75'], 'Height to Top of Door (Inches)': ['70.125'], 'Refrigerator Interior Lighting': ['LED'], 'Works with the Google Assistant': ['No'], 'CA Residents: Prop 65 Warning(s)': ['Yes'], 'Refrigerator Capacity (Cu. Feet)': ['15.7'], 'Depth (Excluding Handles) (Inches)': ['32.25'], 'Depth (Including Handles) (Inches)': ['33.875'], 'Compatible Ice Maker Model Number(s)': ['Factory-Installed'], 'Height to Top of Door Hinge (Inches)': ['69.75'], 'Matching Replacement Water Filter Model': ['XWF']}',\n",
       "       '2020-05-26 21:51:27.805520', '218183104', 'Functional',\n",
       "       'Pros: fingerprint resistant so you don't have to constantly wipe it down. Drawers are good size and are plentiful. Water dispenser works great. Cons: it's noisy when making ice to the point you think one thing is wrong with it.',\n",
       "       '3.00', '2020-03-23', '2020', '3', '13', '23',\n",
       "       '2020-04-24 15:58:56.293182', 'us', 'True',\n",
       "       '['1000859768', '1000859852']'],\n",
       "      dtype='object')"
      ]
     },
     "execution_count": 4,
     "metadata": {},
     "output_type": "execute_result"
    }
   ],
   "source": [
    "data.columns"
   ]
  },
  {
   "cell_type": "code",
   "execution_count": 5,
   "metadata": {
    "scrolled": true
   },
   "outputs": [
    {
     "data": {
      "text/html": [
       "<div>\n",
       "<style scoped>\n",
       "    .dataframe tbody tr th:only-of-type {\n",
       "        vertical-align: middle;\n",
       "    }\n",
       "\n",
       "    .dataframe tbody tr th {\n",
       "        vertical-align: top;\n",
       "    }\n",
       "\n",
       "    .dataframe thead th {\n",
       "        text-align: right;\n",
       "    }\n",
       "</style>\n",
       "<table border=\"1\" class=\"dataframe\">\n",
       "  <thead>\n",
       "    <tr style=\"text-align: right;\">\n",
       "      <th></th>\n",
       "      <th>lowes</th>\n",
       "      <th>Refrigerators</th>\n",
       "      <th>[\"Appliances\", \"Refrigerators\", \"Side-by-Side Refrigerators\"]</th>\n",
       "      <th>General Electric</th>\n",
       "      <th>https://www.lowes.com/pd/GE-25-3-cu-ft-Side-by-Side-Refrigerator-with-Ice-Maker-Fingerprint-Resistant-Stainless-Steel/1000859768</th>\n",
       "      <th>1000859768</th>\n",
       "      <th>lowes.1</th>\n",
       "      <th>GE 25.3-cu ft Side-by-Side Refrigerator with Ice Maker (Fingerprint-Resistant Stainless Steel)</th>\n",
       "      <th>'25.3':2 'by':7 'cu':3 'fingerprint':14 'fingerprint-resistant':13 'ft':4 'ge':1 'ice':11 'maker':12 'refrigerator':9 'resistant':15 'side':6,8 'side-by-side':5 'stainless':16 'steel':17 'with':10</th>\n",
       "      <th>Unnamed: 9</th>\n",
       "      <th>...</th>\n",
       "      <th>3.00</th>\n",
       "      <th>2020-03-23</th>\n",
       "      <th>2020</th>\n",
       "      <th>3</th>\n",
       "      <th>13</th>\n",
       "      <th>23</th>\n",
       "      <th>2020-04-24 15:58:56.293182</th>\n",
       "      <th>us</th>\n",
       "      <th>True</th>\n",
       "      <th>['1000859768', '1000859852']</th>\n",
       "    </tr>\n",
       "  </thead>\n",
       "  <tbody>\n",
       "    <tr>\n",
       "      <th>0</th>\n",
       "      <td>lowes</td>\n",
       "      <td>Refrigerators</td>\n",
       "      <td>[\"Appliances\", \"Refrigerators\", \"Side-by-Side ...</td>\n",
       "      <td>General Electric</td>\n",
       "      <td>https://www.lowes.com/pd/GE-25-1-cu-ft-Side-by...</td>\n",
       "      <td>1000859852</td>\n",
       "      <td>lowes</td>\n",
       "      <td>GE 25.1-cu ft Side-by-Side Refrigerator with I...</td>\n",
       "      <td>'25.1':2 'black':13 'by':7 'cu':3 'ft':4 'ge':...</td>\n",
       "      <td>NaN</td>\n",
       "      <td>...</td>\n",
       "      <td>3.0</td>\n",
       "      <td>2020-03-23</td>\n",
       "      <td>2020</td>\n",
       "      <td>3</td>\n",
       "      <td>13</td>\n",
       "      <td>23</td>\n",
       "      <td>2020-04-24 14:55:13.485647</td>\n",
       "      <td>us</td>\n",
       "      <td>False</td>\n",
       "      <td>['1000859768', '1000859852']</td>\n",
       "    </tr>\n",
       "  </tbody>\n",
       "</table>\n",
       "<p>1 rows × 25 columns</p>\n",
       "</div>"
      ],
      "text/plain": [
       "   lowes  Refrigerators  \\\n",
       "0  lowes  Refrigerators   \n",
       "\n",
       "  [\"Appliances\", \"Refrigerators\", \"Side-by-Side Refrigerators\"]  \\\n",
       "0  [\"Appliances\", \"Refrigerators\", \"Side-by-Side ...              \n",
       "\n",
       "   General Electric  \\\n",
       "0  General Electric   \n",
       "\n",
       "  https://www.lowes.com/pd/GE-25-3-cu-ft-Side-by-Side-Refrigerator-with-Ice-Maker-Fingerprint-Resistant-Stainless-Steel/1000859768  \\\n",
       "0  https://www.lowes.com/pd/GE-25-1-cu-ft-Side-by...                                                                                 \n",
       "\n",
       "   1000859768 lowes.1  \\\n",
       "0  1000859852   lowes   \n",
       "\n",
       "  GE 25.3-cu ft Side-by-Side Refrigerator with Ice Maker (Fingerprint-Resistant Stainless Steel)  \\\n",
       "0  GE 25.1-cu ft Side-by-Side Refrigerator with I...                                               \n",
       "\n",
       "  '25.3':2 'by':7 'cu':3 'fingerprint':14 'fingerprint-resistant':13 'ft':4 'ge':1 'ice':11 'maker':12 'refrigerator':9 'resistant':15 'side':6,8 'side-by-side':5 'stainless':16 'steel':17 'with':10  \\\n",
       "0  '25.1':2 'black':13 'by':7 'cu':3 'ft':4 'ge':...                                                                                                                                                     \n",
       "\n",
       "   Unnamed: 9              ...              3.00  2020-03-23  2020  3  13  23  \\\n",
       "0         NaN              ...               3.0  2020-03-23  2020  3  13  23   \n",
       "\n",
       "   2020-04-24 15:58:56.293182  us   True  ['1000859768', '1000859852']  \n",
       "0  2020-04-24 14:55:13.485647  us  False  ['1000859768', '1000859852']  \n",
       "\n",
       "[1 rows x 25 columns]"
      ]
     },
     "execution_count": 5,
     "metadata": {},
     "output_type": "execute_result"
    }
   ],
   "source": [
    "data.head(1)"
   ]
  },
  {
   "cell_type": "markdown",
   "metadata": {},
   "source": [
    "O dataset parece não ter as colunas bem estabelecidas, então é bom eu estabelecer isso antes"
   ]
  },
  {
   "cell_type": "markdown",
   "metadata": {},
   "source": [
    "# 1 - Limpando os dados"
   ]
  },
  {
   "cell_type": "markdown",
   "metadata": {},
   "source": [
    "## 1.1 - Identificando e Entendendo as Colunas"
   ]
  },
  {
   "cell_type": "code",
   "execution_count": 6,
   "metadata": {},
   "outputs": [],
   "source": [
    "new_columns =[]"
   ]
  },
  {
   "cell_type": "code",
   "execution_count": 7,
   "metadata": {},
   "outputs": [
    {
     "data": {
      "text/plain": [
       "array(['lowes', 'bestbuy_us', 'homedepot', 'costco_us', 'whirlpool',\n",
       "       'samsclub', 'maytag', 'walmart_us', 'ge_appliance_us', 'target',\n",
       "       'lg_us', 'samsung_us', 'magalu'], dtype=object)"
      ]
     },
     "execution_count": 7,
     "metadata": {},
     "output_type": "execute_result"
    }
   ],
   "source": [
    "data['lowes'].unique()"
   ]
  },
  {
   "cell_type": "markdown",
   "metadata": {},
   "source": [
    "Essa é a coluna com o nome das empresas/sites que foram coletados os dados"
   ]
  },
  {
   "cell_type": "code",
   "execution_count": 8,
   "metadata": {
    "scrolled": false
   },
   "outputs": [
    {
     "data": {
      "text/plain": [
       "['Company']"
      ]
     },
     "execution_count": 8,
     "metadata": {},
     "output_type": "execute_result"
    }
   ],
   "source": [
    "new_columns.append('Company')\n",
    "new_columns"
   ]
  },
  {
   "cell_type": "code",
   "execution_count": 9,
   "metadata": {},
   "outputs": [
    {
     "data": {
      "text/plain": [
       "array(['Refrigerators'], dtype=object)"
      ]
     },
     "execution_count": 9,
     "metadata": {},
     "output_type": "execute_result"
    }
   ],
   "source": [
    "data['Refrigerators'].unique()"
   ]
  },
  {
   "cell_type": "markdown",
   "metadata": {},
   "source": [
    "Essa coluna só tem um valor, ela indica o produto, no caso, só tem refrigerator"
   ]
  },
  {
   "cell_type": "code",
   "execution_count": 10,
   "metadata": {
    "scrolled": false
   },
   "outputs": [
    {
     "data": {
      "text/plain": [
       "['Company', 'Product']"
      ]
     },
     "execution_count": 10,
     "metadata": {},
     "output_type": "execute_result"
    }
   ],
   "source": [
    "new_columns.append('Product')\n",
    "new_columns"
   ]
  },
  {
   "cell_type": "code",
   "execution_count": 11,
   "metadata": {
    "scrolled": true
   },
   "outputs": [
    {
     "data": {
      "text/plain": [
       "array(['[\"Appliances\", \"Refrigerators\", \"Side-by-Side Refrigerators\"]',\n",
       "       '[\"Appliances\", \"Refrigerators\", \"French Door Refrigerators\"]',\n",
       "       '[\"Best Buy\", \"Appliances\", \"Refrigerators\", \"Bottom-Freezer Refrigerators\"]',\n",
       "       nan,\n",
       "       '[\"Whirlpool Brand U.S.A.\", \"Kitchen Appliances\", \"Refrigerators\", \"Refrigerators\", \"Side by Side Refrigerators\"]',\n",
       "       '[\"Best Buy\", \"Appliances\", \"Refrigerators\", \"All Refrigerators\"]',\n",
       "       '[\"All Departments\", \"Home\", \"Appliances\", \"Refrigerators & Freezers\", \"Refrigerators\", \"Side by Side Refrigerators\"]',\n",
       "       '[\"Appliances\", \"Refrigerators\", \"Top-Freezer Refrigerators\"]',\n",
       "       '[\"Appliances\", \"Refrigerators\", \"Bottom-Freezer Refrigerators\"]',\n",
       "       '[\"Best Buy\", \"Appliances\", \"Freezers & Ice Makers\", \"Chest Freezers\"]',\n",
       "       '[\"Home\", \"Kitchen\", \"Refrigeration\", \"Refrigerators\"]',\n",
       "       '[\"Whirlpool Brand U.S.A.\", \"Kitchen Appliances\", \"Refrigerators\", \"Refrigerators\", \"Top Freezer Refrigerators\"]',\n",
       "       '[\"Best Buy\", \"Appliances\", \"Refrigerators\", \"Top-Freezer Refrigerators\"]',\n",
       "       '[\"Home\", \"Appliances\", \"Refrigerators\", \"French door refrigerators\"]',\n",
       "       '[\"Refrigerators\"]',\n",
       "       '[\"Home\", \"Appliances\", \"Refrigerators\", \"Frigidaire refrigerators\"]',\n",
       "       '[\"Best Buy\", \"Appliances\", \"Refrigerators\", \"French Door Refrigerators\"]',\n",
       "       '[\"Kitchen & Dining\", \"Kitchen Appliances\", \"Refrigerators & Freezers\"]',\n",
       "       '[\"HOME\", \"Kitchen\", \"Refrigerators\"]',\n",
       "       '[\"Home\", \"Appliances\", \"Refrigerators\", \"Top freezer refrigerators\"]',\n",
       "       '[\"Home\", \"Appliances\", \"Appliances parts & accessories\", \"Ge\"]',\n",
       "       '[\"All Departments\", \"Home\", \"Appliances\", \"Refrigerators & Freezers\", \"Refrigerators\", \"French Door Refrigerators\"]',\n",
       "       '[\"Home\", \"Appliances\", \"Refrigerators\", \"Full Size Refrigerators\", \"Bottom Freezer Refrigerator\"]',\n",
       "       '[\"Whirlpool Brand U.S.A.\", \"Kitchen Appliances\", \"Refrigerators\", \"Refrigerators\", \"Bottom Freezer Refrigerators\"]',\n",
       "       '[\"Home\", \"Appliances\", \"Refrigerators\", \"Side-by-side refrigerators\"]',\n",
       "       '[\"Appliances\", \"Refrigerators\", \"Mini Fridges\"]',\n",
       "       '[\"All Departments\", \"Home\", \"Appliances\", \"Refrigerators & Freezers\", \"Refrigerators\", \"4 Door Refrigerators\"]',\n",
       "       '[\"Home\", \"Appliances\", \"Refrigerators\", \"Bottom freezer refrigerators\"]',\n",
       "       '[\"Home\", \"Appliances\", \"Refrigerators\", \"Full size refrigerators\", \"Bottom freezer refrigerator\"]',\n",
       "       '[\"Shocking Values\"]',\n",
       "       '[\"Home\", \"Home Appliances\", \"Refrigerators\", \"All Refrigerators\", \"4 Door French Door\"]',\n",
       "       '[\"Home\", \"Appliances\", \"Refrigerators\", \"Side-by-Side Refrigerators\"]',\n",
       "       '[\"Home\", \"Appliances\", \"Refrigerators\", \"Mini fridges & compact refrigerators\", \"Mini fridges with freezers\"]',\n",
       "       '[\"All Departments\", \"Home\", \"Appliances\", \"Refrigerators & Freezers\", \"Refrigerators\", \"Top Freezer Refrigerators\"]',\n",
       "       '[\"Home\", \"Home Appliances\", \"Refrigerators\", \"All Refrigerators\", \"Top Freezer\"]',\n",
       "       '[\"Kitchen & Dining\", \"Bar & Wine\", \"Bar & Wine Refrigerators\"]',\n",
       "       '[\"Home\", \"Home Appliances\", \"Refrigerators\", \"All Refrigerators\", \"4 Door Flex\"]',\n",
       "       '[\"Appliances\", \"Refrigerators\", \"Freezerless Refrigerators\"]',\n",
       "       '[\"Home\", \"Home Appliances\", \"Refrigerators\", \"All Refrigerators\", \"3 Door French Door\"]',\n",
       "       '[\"All Departments\", \"Home\", \"Appliances\", \"Refrigerators & Freezers\", \"Refrigerators\", \"Compact Refrigerators\"]',\n",
       "       '[\"Home\", \"Appliances\", \"Refrigerators\", \"Full size refrigerators\"]',\n",
       "       '[\"Eletrodomésticos\", \"Geladeira / Refrigerador\"]',\n",
       "       '[\"Electronics\", \"Smart home\", \"Works with google assistant\", \"Smart kitchen appliances that work with google assistant\"]',\n",
       "       '[\"Home\", \"Appliances\", \"Refrigerators\", \"Frigidaire mini fridges\"]',\n",
       "       '[\"Best Buy\", \"Appliances\", \"Refrigerators\", \"Side-by-Side Refrigerators\"]',\n",
       "       '[\"Home\", \"Appliances\", \"Refrigerators\", \"Mini fridges & compact refrigerators\", \"Freezerless mini fridges\"]',\n",
       "       '[\"Home\", \"Appliances\", \"Refrigerators\", \"Mini fridges & compact refrigerators\", \"One door mini fridges\"]',\n",
       "       '[]',\n",
       "       '[\"Home\", \"Home Appliances\", \"Refrigerators\", \"All Refrigerators\", \"Side By Side\"]'],\n",
       "      dtype=object)"
      ]
     },
     "execution_count": 11,
     "metadata": {},
     "output_type": "execute_result"
    }
   ],
   "source": [
    "data['[\"Appliances\", \"Refrigerators\", \"Side-by-Side Refrigerators\"]'].unique()"
   ]
  },
  {
   "cell_type": "markdown",
   "metadata": {},
   "source": [
    "Parece ser o caminho de páginas no site que foram percorridas para chegar no produto"
   ]
  },
  {
   "cell_type": "code",
   "execution_count": 12,
   "metadata": {},
   "outputs": [
    {
     "data": {
      "text/plain": [
       "['Company', 'Product', 'Website Path']"
      ]
     },
     "execution_count": 12,
     "metadata": {},
     "output_type": "execute_result"
    }
   ],
   "source": [
    "new_columns.append('Website Path')\n",
    "new_columns"
   ]
  },
  {
   "cell_type": "code",
   "execution_count": 13,
   "metadata": {
    "scrolled": true
   },
   "outputs": [
    {
     "data": {
      "text/plain": [
       "array(['General Electric', 'Frigidaire', 'Whirlpool',\n",
       "       'Frigidaire Gallery', 'LG', 'Magic Chef', 'Samsung', 'Haier',\n",
       "       'Kitchenaid', 'Newair', 'Monogram', 'Rca', 'Maytag', 'Insignia™',\n",
       "       'Hotpoint', 'Bosch', 'Café', 'Amana', 'Cafe', 'Thor Kitchen',\n",
       "       'Whynter', 'Vinotemp', 'Danby', 'Wine Enthusiast', 'Premium',\n",
       "       'Galanz', 'Pepsi', 'Nostalgia', 'Arctic King', 'Chambers',\n",
       "       'Summit Appliance', 'Silhouette', 'Norpole', 'Edgestar',\n",
       "       'Fisher & Paykel', 'Avallon', 'Hisense', 'Kalamera',\n",
       "       'Arctic Fresh', 'Avanti', 'Gladiator', 'Thermador', 'Cosmo',\n",
       "       'Sunbeam', 'Kucht', 'Unique', 'Akdy', 'Saba', 'Danby Designer',\n",
       "       'Thomson', 'Coca-Cola', 'Farberware'], dtype=object)"
      ]
     },
     "execution_count": 13,
     "metadata": {},
     "output_type": "execute_result"
    }
   ],
   "source": [
    "data['General Electric'].unique()"
   ]
  },
  {
   "cell_type": "markdown",
   "metadata": {},
   "source": [
    "Marca da Geladeira"
   ]
  },
  {
   "cell_type": "code",
   "execution_count": 14,
   "metadata": {},
   "outputs": [
    {
     "data": {
      "text/plain": [
       "['Company', 'Product', 'Website Path', 'Brand']"
      ]
     },
     "execution_count": 14,
     "metadata": {},
     "output_type": "execute_result"
    }
   ],
   "source": [
    "new_columns.append('Brand')\n",
    "new_columns"
   ]
  },
  {
   "cell_type": "code",
   "execution_count": 15,
   "metadata": {},
   "outputs": [
    {
     "data": {
      "text/plain": [
       "array(['https://www.lowes.com/pd/GE-25-1-cu-ft-Side-by-Side-Refrigerator-with-Ice-Maker-Black-Stainless/1000859852',\n",
       "       'https://www.lowes.com/pd/Frigidaire-Gallery-21-7-cu-ft-Counter-depth-French-Door-Refrigerator-with-Dual-Ice-Maker-Smudge-Proof-Stainless-Steel-ENERGY-STAR/1000289721',\n",
       "       'https://www.bestbuy.com/site/whirlpool-21-9-cu-ft-bottom-freezer-refrigerator-stainless-steel/3928039.p?skuId=3928039',\n",
       "       ...,\n",
       "       'https://www.whirlpool.com/kitchen/refrigeration/refrigerators/side-by-side/p.36-inch-wide-side-by-side-counter-depth-refrigerator-23-cu.-ft.wrs973cihz.html',\n",
       "       'https://www.whirlpool.com/kitchen/refrigeration/refrigerators/side-by-side/p.36-inch-wide-side-by-side-counter-depth-refrigerator-23-cu.-ft.wrs973cihv.html',\n",
       "       'https://www.homedepot.com//p/Samsung-33-in-W-19-4-cu-ft-French-Door-Refrigerator-in-Stainless-Steel-RF20HFENBSR/205541436'],\n",
       "      dtype=object)"
      ]
     },
     "execution_count": 15,
     "metadata": {},
     "output_type": "execute_result"
    }
   ],
   "source": [
    "data['https://www.lowes.com/pd/GE-25-3-cu-ft-Side-by-Side-Refrigerator-with-Ice-Maker-Fingerprint-Resistant-Stainless-Steel/1000859768'].unique()"
   ]
  },
  {
   "cell_type": "markdown",
   "metadata": {},
   "source": [
    "URL da geladeira"
   ]
  },
  {
   "cell_type": "code",
   "execution_count": 16,
   "metadata": {},
   "outputs": [
    {
     "data": {
      "text/plain": [
       "['Company', 'Product', 'Website Path', 'Brand', 'URL']"
      ]
     },
     "execution_count": 16,
     "metadata": {},
     "output_type": "execute_result"
    }
   ],
   "source": [
    "new_columns.append('URL')\n",
    "new_columns"
   ]
  },
  {
   "cell_type": "code",
   "execution_count": 17,
   "metadata": {
    "scrolled": false
   },
   "outputs": [
    {
     "data": {
      "text/plain": [
       "array(['lowes', 'bestbuy_us', 'homedepot', 'costco_us', 'whirlpool',\n",
       "       'samsclub', 'maytag', 'walmart_us', 'ge_appliance_us', 'target',\n",
       "       'lg_us', 'samsung_us', 'magalu'], dtype=object)"
      ]
     },
     "execution_count": 17,
     "metadata": {},
     "output_type": "execute_result"
    }
   ],
   "source": [
    "data['lowes.1'].unique()"
   ]
  },
  {
   "cell_type": "code",
   "execution_count": 18,
   "metadata": {},
   "outputs": [
    {
     "data": {
      "text/plain": [
       "0"
      ]
     },
     "execution_count": 18,
     "metadata": {},
     "output_type": "execute_result"
    }
   ],
   "source": [
    "len(data.loc[data['lowes.1'] == 'lowes.1'])"
   ]
  },
  {
   "cell_type": "code",
   "execution_count": 19,
   "metadata": {},
   "outputs": [
    {
     "data": {
      "text/plain": [
       "(20472, 25)"
      ]
     },
     "execution_count": 19,
     "metadata": {},
     "output_type": "execute_result"
    }
   ],
   "source": [
    "data.loc[data['lowes']== data['lowes.1']].shape"
   ]
  },
  {
   "cell_type": "markdown",
   "metadata": {},
   "source": [
    "As duas colunas são iguais, tirando a linha (que na verdade tá sendo lida como o nome da coluna nesse momento)\n",
    "que tem o valor como lowes.1. \n",
    "\n",
    "Parece ser só um outlier, ou algum erro na coleta dos dados\n",
    "\n",
    "Vou só dropar essa coluna da tabela mesmo."
   ]
  },
  {
   "cell_type": "code",
   "execution_count": 20,
   "metadata": {},
   "outputs": [
    {
     "data": {
      "text/html": [
       "<div>\n",
       "<style scoped>\n",
       "    .dataframe tbody tr th:only-of-type {\n",
       "        vertical-align: middle;\n",
       "    }\n",
       "\n",
       "    .dataframe tbody tr th {\n",
       "        vertical-align: top;\n",
       "    }\n",
       "\n",
       "    .dataframe thead th {\n",
       "        text-align: right;\n",
       "    }\n",
       "</style>\n",
       "<table border=\"1\" class=\"dataframe\">\n",
       "  <thead>\n",
       "    <tr style=\"text-align: right;\">\n",
       "      <th></th>\n",
       "      <th>lowes</th>\n",
       "      <th>Refrigerators</th>\n",
       "      <th>[\"Appliances\", \"Refrigerators\", \"Side-by-Side Refrigerators\"]</th>\n",
       "      <th>General Electric</th>\n",
       "      <th>https://www.lowes.com/pd/GE-25-3-cu-ft-Side-by-Side-Refrigerator-with-Ice-Maker-Fingerprint-Resistant-Stainless-Steel/1000859768</th>\n",
       "      <th>1000859768</th>\n",
       "      <th>GE 25.3-cu ft Side-by-Side Refrigerator with Ice Maker (Fingerprint-Resistant Stainless Steel)</th>\n",
       "      <th>'25.3':2 'by':7 'cu':3 'fingerprint':14 'fingerprint-resistant':13 'ft':4 'ge':1 'ice':11 'maker':12 'refrigerator':9 'resistant':15 'side':6,8 'side-by-side':5 'stainless':16 'steel':17 'with':10</th>\n",
       "      <th>Unnamed: 9</th>\n",
       "      <th>{'brand': ['GE', 'Ge'], 'model': ['GSS25IYNFS', 'GSS25IYNFS'], 'style': ['Side-by-Side'], 'title': 'GE 25.3-cu ft Side-by-Side Refrigerator with Ice Maker (Fingerprint-Resistant Stainless Steel)', 'UNSPSC': ['52141500'], 'Built-In': ['No'], 'Warranty': ['1-year limited'], 'warranty': ['1-year limited'], 'Ice Maker': ['Single'], 'Sub-Brand': ['N/A'], 'Depth Type': ['Standard-Depth'], 'Door Alarm': ['Yes'], 'Door Style': ['Contoured'], 'Frost-Free': ['Yes'], 'breadcrumb': ['Appliances', 'Refrigerators', 'Side-by-Side Refrigerators'], 'Handle Type': ['Standard'], 'Series Name': ['N/A'], 'Door Shelves': ['4'], 'Door Texture': ['Smooth'], 'Handle Color': ['Stainless steel'], 'Hidden Hinge': ['Yes'], 'Hub Required': ['No'], 'ADA Compliant': ['No'], 'Cabinet Color': ['Gray'], 'Freezer Light': ['Yes'], 'See-Thru Door': ['No'], 'Shelf Options': ['Adjustable spillproof sliding glass shelves'], 'Air Filtration': ['Yes'], 'Safety Listing': ['UL safety listing'], 'Works with iOS': ['No'], 'Dispenser Light': ['Yes'], 'Freezer Baskets': ['2'], 'Freezer Shelves': ['3'], 'Door within Door': ['No'], \"Lowe's Exclusive\": ['No'], 'Toe Grille Color': ['Gray'], 'Voice Controlled': ['No'], 'Water Filtration': ['Yes'], 'voice_controlled': ['No'], 'App Compatibility': ['No'], 'Dispenser Options': ['Filtered water and cubed/crushed ice'], 'Freezer Door Bins': ['0'], 'Refrigerator Size': ['Large (&gt;36-in)'], 'Snack/Deli Drawer': ['No'], 'CEE Tier Qualified': ['N/A'], 'Child Safety Locks': ['Yes'], 'Works with Android': ['No'], 'Gallon Door Storage': ['Yes'], 'Wi-Fi Compatibility': ['No'], 'Freezer Door Shelves': ['5'], 'Actual Width (Inches)': ['36.25'], 'Common Width (Inches)': ['36'], 'ENERGY STAR Certified': ['No'], 'Fingerprint-Resistant': ['Yes'], 'Appliance Color/Finish': ['Stainless steel'], 'Water Filter Indicator': ['Yes'], 'Works with SmartThings': ['No'], 'Bluetooth Compatibility': ['No'], 'Works with Amazon Alexa': ['No'], 'Approved for Outdoor Use': ['No'], 'Space-Saving In-Door Ice': ['No'], 'Works with Apple HomeKit': ['No'], 'Manufacturer Color/Finish': ['Stainless Steel'], 'Custom Door Kit Compatible': ['No'], 'Depth (Less Door) (Inches)': ['28.5'], 'Freezer Capacity (Cu. Feet)': ['9.6'], 'Overall Capacity (Cu. Feet)': ['25.3'], 'Humidity-Controlled Crispers': ['1'], 'Depth with Door Open (Inches)': ['51.125'], 'Matching Air Filter (Model #)': ['N/A'], 'Temperature Controlled Drawer': ['No'], 'Dual Evaporator Cooling System': ['No'], 'Electronic Temperature Control': ['Yes'], 'Height to Top of Case (Inches)': ['68.75'], 'Height to Top of Door (Inches)': ['70.125'], 'Refrigerator Interior Lighting': ['LED'], 'Works with the Google Assistant': ['No'], 'CA Residents: Prop 65 Warning(s)': ['Yes'], 'Refrigerator Capacity (Cu. Feet)': ['15.7'], 'Depth (Excluding Handles) (Inches)': ['32.25'], 'Depth (Including Handles) (Inches)': ['33.875'], 'Compatible Ice Maker Model Number(s)': ['Factory-Installed'], 'Height to Top of Door Hinge (Inches)': ['69.75'], 'Matching Replacement Water Filter Model': ['XWF']}</th>\n",
       "      <th>...</th>\n",
       "      <th>3.00</th>\n",
       "      <th>2020-03-23</th>\n",
       "      <th>2020</th>\n",
       "      <th>3</th>\n",
       "      <th>13</th>\n",
       "      <th>23</th>\n",
       "      <th>2020-04-24 15:58:56.293182</th>\n",
       "      <th>us</th>\n",
       "      <th>True</th>\n",
       "      <th>['1000859768', '1000859852']</th>\n",
       "    </tr>\n",
       "  </thead>\n",
       "  <tbody>\n",
       "    <tr>\n",
       "      <th>0</th>\n",
       "      <td>lowes</td>\n",
       "      <td>Refrigerators</td>\n",
       "      <td>[\"Appliances\", \"Refrigerators\", \"Side-by-Side ...</td>\n",
       "      <td>General Electric</td>\n",
       "      <td>https://www.lowes.com/pd/GE-25-1-cu-ft-Side-by...</td>\n",
       "      <td>1000859852</td>\n",
       "      <td>GE 25.1-cu ft Side-by-Side Refrigerator with I...</td>\n",
       "      <td>'25.1':2 'black':13 'by':7 'cu':3 'ft':4 'ge':...</td>\n",
       "      <td>NaN</td>\n",
       "      <td>{'brand': ['GE', 'Ge'], 'model': ['GSS25IBNTS'...</td>\n",
       "      <td>...</td>\n",
       "      <td>3.0</td>\n",
       "      <td>2020-03-23</td>\n",
       "      <td>2020</td>\n",
       "      <td>3</td>\n",
       "      <td>13</td>\n",
       "      <td>23</td>\n",
       "      <td>2020-04-24 14:55:13.485647</td>\n",
       "      <td>us</td>\n",
       "      <td>False</td>\n",
       "      <td>['1000859768', '1000859852']</td>\n",
       "    </tr>\n",
       "  </tbody>\n",
       "</table>\n",
       "<p>1 rows × 24 columns</p>\n",
       "</div>"
      ],
      "text/plain": [
       "   lowes  Refrigerators  \\\n",
       "0  lowes  Refrigerators   \n",
       "\n",
       "  [\"Appliances\", \"Refrigerators\", \"Side-by-Side Refrigerators\"]  \\\n",
       "0  [\"Appliances\", \"Refrigerators\", \"Side-by-Side ...              \n",
       "\n",
       "   General Electric  \\\n",
       "0  General Electric   \n",
       "\n",
       "  https://www.lowes.com/pd/GE-25-3-cu-ft-Side-by-Side-Refrigerator-with-Ice-Maker-Fingerprint-Resistant-Stainless-Steel/1000859768  \\\n",
       "0  https://www.lowes.com/pd/GE-25-1-cu-ft-Side-by...                                                                                 \n",
       "\n",
       "   1000859768  \\\n",
       "0  1000859852   \n",
       "\n",
       "  GE 25.3-cu ft Side-by-Side Refrigerator with Ice Maker (Fingerprint-Resistant Stainless Steel)  \\\n",
       "0  GE 25.1-cu ft Side-by-Side Refrigerator with I...                                               \n",
       "\n",
       "  '25.3':2 'by':7 'cu':3 'fingerprint':14 'fingerprint-resistant':13 'ft':4 'ge':1 'ice':11 'maker':12 'refrigerator':9 'resistant':15 'side':6,8 'side-by-side':5 'stainless':16 'steel':17 'with':10  \\\n",
       "0  '25.1':2 'black':13 'by':7 'cu':3 'ft':4 'ge':...                                                                                                                                                     \n",
       "\n",
       "   Unnamed: 9  \\\n",
       "0         NaN   \n",
       "\n",
       "  {'brand': ['GE', 'Ge'], 'model': ['GSS25IYNFS', 'GSS25IYNFS'], 'style': ['Side-by-Side'], 'title': 'GE 25.3-cu ft Side-by-Side Refrigerator with Ice Maker (Fingerprint-Resistant Stainless Steel)', 'UNSPSC': ['52141500'], 'Built-In': ['No'], 'Warranty': ['1-year limited'], 'warranty': ['1-year limited'], 'Ice Maker': ['Single'], 'Sub-Brand': ['N/A'], 'Depth Type': ['Standard-Depth'], 'Door Alarm': ['Yes'], 'Door Style': ['Contoured'], 'Frost-Free': ['Yes'], 'breadcrumb': ['Appliances', 'Refrigerators', 'Side-by-Side Refrigerators'], 'Handle Type': ['Standard'], 'Series Name': ['N/A'], 'Door Shelves': ['4'], 'Door Texture': ['Smooth'], 'Handle Color': ['Stainless steel'], 'Hidden Hinge': ['Yes'], 'Hub Required': ['No'], 'ADA Compliant': ['No'], 'Cabinet Color': ['Gray'], 'Freezer Light': ['Yes'], 'See-Thru Door': ['No'], 'Shelf Options': ['Adjustable spillproof sliding glass shelves'], 'Air Filtration': ['Yes'], 'Safety Listing': ['UL safety listing'], 'Works with iOS': ['No'], 'Dispenser Light': ['Yes'], 'Freezer Baskets': ['2'], 'Freezer Shelves': ['3'], 'Door within Door': ['No'], \"Lowe's Exclusive\": ['No'], 'Toe Grille Color': ['Gray'], 'Voice Controlled': ['No'], 'Water Filtration': ['Yes'], 'voice_controlled': ['No'], 'App Compatibility': ['No'], 'Dispenser Options': ['Filtered water and cubed/crushed ice'], 'Freezer Door Bins': ['0'], 'Refrigerator Size': ['Large (>36-in)'], 'Snack/Deli Drawer': ['No'], 'CEE Tier Qualified': ['N/A'], 'Child Safety Locks': ['Yes'], 'Works with Android': ['No'], 'Gallon Door Storage': ['Yes'], 'Wi-Fi Compatibility': ['No'], 'Freezer Door Shelves': ['5'], 'Actual Width (Inches)': ['36.25'], 'Common Width (Inches)': ['36'], 'ENERGY STAR Certified': ['No'], 'Fingerprint-Resistant': ['Yes'], 'Appliance Color/Finish': ['Stainless steel'], 'Water Filter Indicator': ['Yes'], 'Works with SmartThings': ['No'], 'Bluetooth Compatibility': ['No'], 'Works with Amazon Alexa': ['No'], 'Approved for Outdoor Use': ['No'], 'Space-Saving In-Door Ice': ['No'], 'Works with Apple HomeKit': ['No'], 'Manufacturer Color/Finish': ['Stainless Steel'], 'Custom Door Kit Compatible': ['No'], 'Depth (Less Door) (Inches)': ['28.5'], 'Freezer Capacity (Cu. Feet)': ['9.6'], 'Overall Capacity (Cu. Feet)': ['25.3'], 'Humidity-Controlled Crispers': ['1'], 'Depth with Door Open (Inches)': ['51.125'], 'Matching Air Filter (Model #)': ['N/A'], 'Temperature Controlled Drawer': ['No'], 'Dual Evaporator Cooling System': ['No'], 'Electronic Temperature Control': ['Yes'], 'Height to Top of Case (Inches)': ['68.75'], 'Height to Top of Door (Inches)': ['70.125'], 'Refrigerator Interior Lighting': ['LED'], 'Works with the Google Assistant': ['No'], 'CA Residents: Prop 65 Warning(s)': ['Yes'], 'Refrigerator Capacity (Cu. Feet)': ['15.7'], 'Depth (Excluding Handles) (Inches)': ['32.25'], 'Depth (Including Handles) (Inches)': ['33.875'], 'Compatible Ice Maker Model Number(s)': ['Factory-Installed'], 'Height to Top of Door Hinge (Inches)': ['69.75'], 'Matching Replacement Water Filter Model': ['XWF']}  \\\n",
       "0  {'brand': ['GE', 'Ge'], 'model': ['GSS25IBNTS'...                                                                                                                                                                                                                                                                                                                                                                                                                                                                                                                                                                                                                                                                                                                                                                                                                                                                                                                                                                                                                                                                                                                                                                                                                                                                                                                                                                                                                                                                                                                                                                                                                                                                                                                                                                                                                                                                                                                                                                                                                                                                                                                                                                                                                                                                                                                                                                                                                                                                                                                                                                                                                                                                                                                                                                                                                                                                                                                                                                                                                                                                                                                  \n",
       "\n",
       "               ...              3.00  2020-03-23  2020  3  13  23  \\\n",
       "0              ...               3.0  2020-03-23  2020  3  13  23   \n",
       "\n",
       "   2020-04-24 15:58:56.293182  us   True  ['1000859768', '1000859852']  \n",
       "0  2020-04-24 14:55:13.485647  us  False  ['1000859768', '1000859852']  \n",
       "\n",
       "[1 rows x 24 columns]"
      ]
     },
     "execution_count": 20,
     "metadata": {},
     "output_type": "execute_result"
    }
   ],
   "source": [
    "data = data.drop(columns=['lowes.1'])\n",
    "data.head(1)"
   ]
  },
  {
   "cell_type": "code",
   "execution_count": 21,
   "metadata": {
    "scrolled": true
   },
   "outputs": [
    {
     "data": {
      "text/plain": [
       "array(['1000859852', '1000289721', '3928039', ..., 'WRS973CIHZ',\n",
       "       'WRS973CIHV', '205541436'], dtype=object)"
      ]
     },
     "execution_count": 21,
     "metadata": {},
     "output_type": "execute_result"
    }
   ],
   "source": [
    "data['1000859768'].unique()"
   ]
  },
  {
   "cell_type": "markdown",
   "metadata": {},
   "source": [
    "Vo supor que é um ID para aquele produto no banco de dados do site\n",
    "\n",
    "Se eu tenho diversos sites no dataset, e cada um tem seu banco de dados, existe a possibilidade de produtos de sites diferentes terem o mesmo ID?\n",
    "\n",
    "Bom, depois de entender as colunas, eu vejo essa possibilidade, apesar que talvez não importe muito"
   ]
  },
  {
   "cell_type": "code",
   "execution_count": 22,
   "metadata": {
    "scrolled": true
   },
   "outputs": [
    {
     "data": {
      "text/plain": [
       "['Company', 'Product', 'Website Path', 'Brand', 'URL', 'ID']"
      ]
     },
     "execution_count": 22,
     "metadata": {},
     "output_type": "execute_result"
    }
   ],
   "source": [
    "new_columns.append('ID')\n",
    "new_columns"
   ]
  },
  {
   "cell_type": "code",
   "execution_count": 23,
   "metadata": {
    "scrolled": true
   },
   "outputs": [
    {
     "data": {
      "text/plain": [
       "array(['GE 25.1-cu ft Side-by-Side Refrigerator with Ice Maker (Black Stainless)',\n",
       "       'Frigidaire Gallery 21.7-cu ft Counter-depth French Door Refrigerator with Dual Ice Maker (Smudge-Proof Stainless Steel) ENERGY STAR',\n",
       "       'Whirlpool - 21.9 Cu. Ft. Bottom-Freezer Refrigerator - Stainless steel',\n",
       "       ...,\n",
       "       'Whirlpool 22.6-cu ft Counter-depth Side-by-Side Refrigerator with Ice Maker (Fingerprint-Resistant Black Stainless)',\n",
       "       '36-inch Wide Side-by-Side Counter Depth Refrigerator - 23 cu. ft.',\n",
       "       '33 in. W 19.4 cu. ft. French Door Refrigerator in Stainless Steel'],\n",
       "      dtype=object)"
      ]
     },
     "execution_count": 23,
     "metadata": {},
     "output_type": "execute_result"
    }
   ],
   "source": [
    "data['GE 25.3-cu ft Side-by-Side Refrigerator with Ice Maker (Fingerprint-Resistant Stainless Steel)'].unique()"
   ]
  },
  {
   "cell_type": "markdown",
   "metadata": {},
   "source": [
    "É tipo uma descrição sucinta do produto"
   ]
  },
  {
   "cell_type": "code",
   "execution_count": 24,
   "metadata": {},
   "outputs": [
    {
     "data": {
      "text/plain": [
       "['Company', 'Product', 'Website Path', 'Brand', 'URL', 'ID', 'Description']"
      ]
     },
     "execution_count": 24,
     "metadata": {},
     "output_type": "execute_result"
    }
   ],
   "source": [
    "new_columns.append('Description')\n",
    "new_columns"
   ]
  },
  {
   "cell_type": "code",
   "execution_count": 25,
   "metadata": {
    "scrolled": true
   },
   "outputs": [
    {
     "data": {
      "text/plain": [
       "array([\"'25.1':2 'black':13 'by':7 'cu':3 'ft':4 'ge':1 'ice':11 'maker':12 'refrigerator':9 'side':6,8 'side-by-side':5 'stainless':14 'with':10\",\n",
       "       \"'21.7':3 'counter':7 'counter-depth':6 'cu':4 'depth':8 'door':10 'dual':13 'energy':21 'french':9 'frigidaire':1 'ft':5 'gallery':2 'ice':14 'maker':15 'proof':18 'refrigerator':11 'smudge':17 'smudge-proof':16 'stainless':19 'star':22 'steel':20 'with':12\",\n",
       "       \"'21.9':2 'bottom':6 'bottom-freezer':5 'cu':3 'freezer':7 'ft':4 'refrigerator':8 'stainless':9 'steel':10 'whirlpool':1\",\n",
       "       ...,\n",
       "       \"'22.6':2 'black':19 'by':10 'counter':6 'counter-depth':5 'cu':3 'depth':7 'fingerprint':17 'fingerprint-resistant':16 'ft':4 'ice':14 'maker':15 'refrigerator':12 'resistant':18 'side':9,11 'side-by-side':8 'stainless':20 'whirlpool':1 'with':13\",\n",
       "       \"'23':11 '36':1 'by':6 'counter':8 'cu':12 'depth':9 'ft':13 'inch':2 'refrigerator':10 'side':5,7 'side-by-side':4 'wide':3\",\n",
       "       \"'19.4':4 '33':1 'cu':5 'door':8 'french':7 'ft':6 'in':2,10 'refrigerator':9 'stainless':11 'steel':12 'w':3\"],\n",
       "      dtype=object)"
      ]
     },
     "execution_count": 25,
     "metadata": {},
     "output_type": "execute_result"
    }
   ],
   "source": [
    "data[\"'25.3':2 'by':7 'cu':3 'fingerprint':14 'fingerprint-resistant':13 'ft':4 'ge':1 'ice':11 'maker':12 'refrigerator':9 'resistant':15 'side':6,8 'side-by-side':5 'stainless':16 'steel':17 'with':10\"].unique()"
   ]
  },
  {
   "cell_type": "markdown",
   "metadata": {},
   "source": [
    "Parecem características da geladeira, porém não parecem que cada geladeira se referem a um mesmo conjunto de características. Assim, eu não consigo transformar cada característica em coluna, porque senão vão ter muitos valores nulos na tabela.\n",
    "\n",
    "A príncipio vou só por um nome nessa coluna"
   ]
  },
  {
   "cell_type": "code",
   "execution_count": 26,
   "metadata": {},
   "outputs": [
    {
     "data": {
      "text/plain": [
       "['Company',\n",
       " 'Product',\n",
       " 'Website Path',\n",
       " 'Brand',\n",
       " 'URL',\n",
       " 'ID',\n",
       " 'Description',\n",
       " 'Technical Features']"
      ]
     },
     "execution_count": 26,
     "metadata": {},
     "output_type": "execute_result"
    }
   ],
   "source": [
    "new_columns.append('Technical Features')\n",
    "new_columns"
   ]
  },
  {
   "cell_type": "code",
   "execution_count": 27,
   "metadata": {
    "scrolled": true
   },
   "outputs": [
    {
     "data": {
      "text/plain": [
       "array([    nan, 3382.8 , 3124.8 , 2243.  , 1306.8 , 3598.8 , 3229.  ,\n",
       "       1062.  , 1176.  , 3378.  , 2343.6 , 2079.6 , 1973.  , 1433.  ,\n",
       "       1608.  , 1996.8 , 2502.  , 2152.8 , 1638.  , 2176.8 , 2068.8 ,\n",
       "       4144.8 , 1703.  , 2489.  , 3117.6 , 3495.6 ,  159.  ,  934.8 ,\n",
       "       3814.8 , 1978.8 , 1888.8 ,  946.8 , 2044.8 , 2860.8 , 2788.8 ,\n",
       "       4774.8 , 2116.8 ,  713.76, 3199.  ,  310.8 , 3676.8 ,  349.99,\n",
       "        499.99,  649.99,  519.99])"
      ]
     },
     "execution_count": 27,
     "metadata": {},
     "output_type": "execute_result"
    }
   ],
   "source": [
    "data['Unnamed: 9'].unique()"
   ]
  },
  {
   "cell_type": "markdown",
   "metadata": {},
   "source": [
    "Eu não faço ideia do que seja esse numero, mas vendo essa tabela agora, me faz pensar: Eu tenho linhas duplicadas?"
   ]
  },
  {
   "cell_type": "code",
   "execution_count": 28,
   "metadata": {
    "scrolled": true
   },
   "outputs": [
    {
     "data": {
      "text/plain": [
       "0        False\n",
       "1        False\n",
       "2        False\n",
       "3        False\n",
       "4        False\n",
       "5        False\n",
       "6        False\n",
       "7        False\n",
       "8        False\n",
       "9        False\n",
       "10       False\n",
       "11       False\n",
       "12       False\n",
       "13       False\n",
       "14       False\n",
       "15       False\n",
       "16       False\n",
       "17       False\n",
       "18       False\n",
       "19       False\n",
       "20       False\n",
       "21       False\n",
       "22       False\n",
       "23       False\n",
       "24       False\n",
       "25       False\n",
       "26       False\n",
       "27       False\n",
       "28       False\n",
       "29       False\n",
       "         ...  \n",
       "20442    False\n",
       "20443    False\n",
       "20444    False\n",
       "20445    False\n",
       "20446    False\n",
       "20447    False\n",
       "20448    False\n",
       "20449    False\n",
       "20450    False\n",
       "20451    False\n",
       "20452    False\n",
       "20453    False\n",
       "20454    False\n",
       "20455    False\n",
       "20456    False\n",
       "20457    False\n",
       "20458    False\n",
       "20459    False\n",
       "20460    False\n",
       "20461    False\n",
       "20462    False\n",
       "20463    False\n",
       "20464    False\n",
       "20465    False\n",
       "20466    False\n",
       "20467    False\n",
       "20468    False\n",
       "20469    False\n",
       "20470    False\n",
       "20471    False\n",
       "Length: 20472, dtype: bool"
      ]
     },
     "execution_count": 28,
     "metadata": {},
     "output_type": "execute_result"
    }
   ],
   "source": [
    "data.duplicated()"
   ]
  },
  {
   "cell_type": "markdown",
   "metadata": {},
   "source": [
    "Não. Mas possivelmente eu tenho produtos exatamente iguais, e avaliações e comentários diferentes.\n",
    "\n",
    "De qualquer forma, vou só dropar essa coluna"
   ]
  },
  {
   "cell_type": "code",
   "execution_count": 29,
   "metadata": {},
   "outputs": [],
   "source": [
    "data.drop(columns=['Unnamed: 9'], inplace=True)"
   ]
  },
  {
   "cell_type": "code",
   "execution_count": 30,
   "metadata": {
    "scrolled": false
   },
   "outputs": [
    {
     "data": {
      "text/plain": [
       "0    {'brand': ['GE', 'Ge'], 'model': ['GSS25IBNTS'...\n",
       "Name: {'brand': ['GE', 'Ge'], 'model': ['GSS25IYNFS', 'GSS25IYNFS'], 'style': ['Side-by-Side'], 'title': 'GE 25.3-cu ft Side-by-Side Refrigerator with Ice Maker (Fingerprint-Resistant Stainless Steel)', 'UNSPSC': ['52141500'], 'Built-In': ['No'], 'Warranty': ['1-year limited'], 'warranty': ['1-year limited'], 'Ice Maker': ['Single'], 'Sub-Brand': ['N/A'], 'Depth Type': ['Standard-Depth'], 'Door Alarm': ['Yes'], 'Door Style': ['Contoured'], 'Frost-Free': ['Yes'], 'breadcrumb': ['Appliances', 'Refrigerators', 'Side-by-Side Refrigerators'], 'Handle Type': ['Standard'], 'Series Name': ['N/A'], 'Door Shelves': ['4'], 'Door Texture': ['Smooth'], 'Handle Color': ['Stainless steel'], 'Hidden Hinge': ['Yes'], 'Hub Required': ['No'], 'ADA Compliant': ['No'], 'Cabinet Color': ['Gray'], 'Freezer Light': ['Yes'], 'See-Thru Door': ['No'], 'Shelf Options': ['Adjustable spillproof sliding glass shelves'], 'Air Filtration': ['Yes'], 'Safety Listing': ['UL safety listing'], 'Works with iOS': ['No'], 'Dispenser Light': ['Yes'], 'Freezer Baskets': ['2'], 'Freezer Shelves': ['3'], 'Door within Door': ['No'], \"Lowe's Exclusive\": ['No'], 'Toe Grille Color': ['Gray'], 'Voice Controlled': ['No'], 'Water Filtration': ['Yes'], 'voice_controlled': ['No'], 'App Compatibility': ['No'], 'Dispenser Options': ['Filtered water and cubed/crushed ice'], 'Freezer Door Bins': ['0'], 'Refrigerator Size': ['Large (>36-in)'], 'Snack/Deli Drawer': ['No'], 'CEE Tier Qualified': ['N/A'], 'Child Safety Locks': ['Yes'], 'Works with Android': ['No'], 'Gallon Door Storage': ['Yes'], 'Wi-Fi Compatibility': ['No'], 'Freezer Door Shelves': ['5'], 'Actual Width (Inches)': ['36.25'], 'Common Width (Inches)': ['36'], 'ENERGY STAR Certified': ['No'], 'Fingerprint-Resistant': ['Yes'], 'Appliance Color/Finish': ['Stainless steel'], 'Water Filter Indicator': ['Yes'], 'Works with SmartThings': ['No'], 'Bluetooth Compatibility': ['No'], 'Works with Amazon Alexa': ['No'], 'Approved for Outdoor Use': ['No'], 'Space-Saving In-Door Ice': ['No'], 'Works with Apple HomeKit': ['No'], 'Manufacturer Color/Finish': ['Stainless Steel'], 'Custom Door Kit Compatible': ['No'], 'Depth (Less Door) (Inches)': ['28.5'], 'Freezer Capacity (Cu. Feet)': ['9.6'], 'Overall Capacity (Cu. Feet)': ['25.3'], 'Humidity-Controlled Crispers': ['1'], 'Depth with Door Open (Inches)': ['51.125'], 'Matching Air Filter (Model #)': ['N/A'], 'Temperature Controlled Drawer': ['No'], 'Dual Evaporator Cooling System': ['No'], 'Electronic Temperature Control': ['Yes'], 'Height to Top of Case (Inches)': ['68.75'], 'Height to Top of Door (Inches)': ['70.125'], 'Refrigerator Interior Lighting': ['LED'], 'Works with the Google Assistant': ['No'], 'CA Residents: Prop 65 Warning(s)': ['Yes'], 'Refrigerator Capacity (Cu. Feet)': ['15.7'], 'Depth (Excluding Handles) (Inches)': ['32.25'], 'Depth (Including Handles) (Inches)': ['33.875'], 'Compatible Ice Maker Model Number(s)': ['Factory-Installed'], 'Height to Top of Door Hinge (Inches)': ['69.75'], 'Matching Replacement Water Filter Model': ['XWF']}, dtype: object"
      ]
     },
     "execution_count": 30,
     "metadata": {},
     "output_type": "execute_result"
    }
   ],
   "source": [
    "data.iloc[:1, 8]"
   ]
  },
  {
   "cell_type": "markdown",
   "metadata": {},
   "source": [
    "Tá bem complicado de ler, porque são muitos valores. Mas me parecer ser mais specificações e caracteristicas da geladeira. Não consigo falar certamente que são o mesmo conjunto de característica para todas as linhas, ou se elas mudam como na outra coluna. Mas verifico isso depois."
   ]
  },
  {
   "cell_type": "code",
   "execution_count": 31,
   "metadata": {
    "scrolled": true
   },
   "outputs": [
    {
     "data": {
      "text/plain": [
       "['Company',\n",
       " 'Product',\n",
       " 'Website Path',\n",
       " 'Brand',\n",
       " 'URL',\n",
       " 'ID',\n",
       " 'Description',\n",
       " 'Technical Features',\n",
       " 'General Features']"
      ]
     },
     "execution_count": 31,
     "metadata": {},
     "output_type": "execute_result"
    }
   ],
   "source": [
    "new_columns.append('General Features')\n",
    "new_columns"
   ]
  },
  {
   "cell_type": "code",
   "execution_count": 32,
   "metadata": {
    "scrolled": true
   },
   "outputs": [
    {
     "data": {
      "text/plain": [
       "array(['2020-05-26 21:51:28.597592', '2020-05-26 21:50:49.940754',\n",
       "       '2020-06-05 18:35:55.990040', ..., '2020-05-26 21:51:55.999516',\n",
       "       '2020-05-27 00:36:45.071872', '2020-05-27 00:36:45.004317'],\n",
       "      dtype=object)"
      ]
     },
     "execution_count": 32,
     "metadata": {},
     "output_type": "execute_result"
    }
   ],
   "source": [
    "data.iloc[:, 9].unique()"
   ]
  },
  {
   "cell_type": "markdown",
   "metadata": {},
   "source": [
    "Data e horário de algo. Do que não sei, mas veremos mais tarde"
   ]
  },
  {
   "cell_type": "code",
   "execution_count": 140,
   "metadata": {
    "scrolled": true
   },
   "outputs": [
    {
     "data": {
      "text/html": [
       "<div>\n",
       "<style scoped>\n",
       "    .dataframe tbody tr th:only-of-type {\n",
       "        vertical-align: middle;\n",
       "    }\n",
       "\n",
       "    .dataframe tbody tr th {\n",
       "        vertical-align: top;\n",
       "    }\n",
       "\n",
       "    .dataframe thead th {\n",
       "        text-align: right;\n",
       "    }\n",
       "</style>\n",
       "<table border=\"1\" class=\"dataframe\">\n",
       "  <thead>\n",
       "    <tr style=\"text-align: right;\">\n",
       "      <th></th>\n",
       "      <th>2020-05-26 21:51:27.805520</th>\n",
       "      <th>218183104</th>\n",
       "      <th>Functional</th>\n",
       "      <th>Pros: fingerprint resistant so you don't have to constantly wipe it down. Drawers are good size and are plentiful. Water dispenser works great. Cons: it's noisy when making ice to the point you think one thing is wrong with it.</th>\n",
       "      <th>3.00</th>\n",
       "      <th>2020-03-23</th>\n",
       "      <th>2020</th>\n",
       "      <th>3</th>\n",
       "      <th>13</th>\n",
       "      <th>23</th>\n",
       "      <th>2020-04-24 15:58:56.293182</th>\n",
       "      <th>us</th>\n",
       "      <th>True</th>\n",
       "      <th>['1000859768', '1000859852']</th>\n",
       "    </tr>\n",
       "  </thead>\n",
       "  <tbody>\n",
       "    <tr>\n",
       "      <th>0</th>\n",
       "      <td>2020-05-26 21:51:28.597592</td>\n",
       "      <td>218183104</td>\n",
       "      <td>Functional</td>\n",
       "      <td>Pros: fingerprint resistant so you don't have ...</td>\n",
       "      <td>3.0</td>\n",
       "      <td>2020-03-23</td>\n",
       "      <td>2020</td>\n",
       "      <td>3</td>\n",
       "      <td>13</td>\n",
       "      <td>23</td>\n",
       "      <td>2020-04-24 14:55:13.485647</td>\n",
       "      <td>us</td>\n",
       "      <td>False</td>\n",
       "      <td>['1000859768', '1000859852']</td>\n",
       "    </tr>\n",
       "    <tr>\n",
       "      <th>1</th>\n",
       "      <td>2020-05-26 21:50:49.940754</td>\n",
       "      <td>190217370</td>\n",
       "      <td>Ample Door Storage User Friendly Visibility</td>\n",
       "      <td>Feels solid and “upscale”. Excellent design of...</td>\n",
       "      <td>5.0</td>\n",
       "      <td>2019-09-28</td>\n",
       "      <td>2019</td>\n",
       "      <td>9</td>\n",
       "      <td>39</td>\n",
       "      <td>28</td>\n",
       "      <td>2020-03-30 23:53:02.331711</td>\n",
       "      <td>us</td>\n",
       "      <td>True</td>\n",
       "      <td>['1000289721']</td>\n",
       "    </tr>\n",
       "    <tr>\n",
       "      <th>2</th>\n",
       "      <td>2020-06-05 18:35:55.990040</td>\n",
       "      <td>c407068f-f900-3478-a983-ad74754c1460</td>\n",
       "      <td>So much room</td>\n",
       "      <td>I love this fridge. So much room over having a...</td>\n",
       "      <td>5.0</td>\n",
       "      <td>2019-12-13</td>\n",
       "      <td>2019</td>\n",
       "      <td>12</td>\n",
       "      <td>50</td>\n",
       "      <td>13</td>\n",
       "      <td>2020-04-28 14:09:38.255158</td>\n",
       "      <td>us</td>\n",
       "      <td>True</td>\n",
       "      <td>['3928039', '3928048', '3979801', '6112639']</td>\n",
       "    </tr>\n",
       "    <tr>\n",
       "      <th>3</th>\n",
       "      <td>2020-06-05 17:55:04.244327</td>\n",
       "      <td>c407068f-f900-3478-a983-ad74754c1460</td>\n",
       "      <td>So much room</td>\n",
       "      <td>I love this fridge. So much room over having a...</td>\n",
       "      <td>5.0</td>\n",
       "      <td>2019-12-13</td>\n",
       "      <td>2019</td>\n",
       "      <td>12</td>\n",
       "      <td>50</td>\n",
       "      <td>13</td>\n",
       "      <td>2020-04-28 14:09:41.960342</td>\n",
       "      <td>us</td>\n",
       "      <td>False</td>\n",
       "      <td>['3928039', '3928048', '3979801', '6112639']</td>\n",
       "    </tr>\n",
       "    <tr>\n",
       "      <th>4</th>\n",
       "      <td>2020-06-05 18:40:24.418263</td>\n",
       "      <td>c407068f-f900-3478-a983-ad74754c1460</td>\n",
       "      <td>So much room</td>\n",
       "      <td>I love this fridge. So much room over having a...</td>\n",
       "      <td>5.0</td>\n",
       "      <td>2019-12-13</td>\n",
       "      <td>2019</td>\n",
       "      <td>12</td>\n",
       "      <td>50</td>\n",
       "      <td>13</td>\n",
       "      <td>2020-04-27 19:49:13.756253</td>\n",
       "      <td>us</td>\n",
       "      <td>False</td>\n",
       "      <td>['3928039', '3928048', '3979801', '6112639']</td>\n",
       "    </tr>\n",
       "  </tbody>\n",
       "</table>\n",
       "</div>"
      ],
      "text/plain": [
       "   2020-05-26 21:51:27.805520                             218183104  \\\n",
       "0  2020-05-26 21:51:28.597592                             218183104   \n",
       "1  2020-05-26 21:50:49.940754                             190217370   \n",
       "2  2020-06-05 18:35:55.990040  c407068f-f900-3478-a983-ad74754c1460   \n",
       "3  2020-06-05 17:55:04.244327  c407068f-f900-3478-a983-ad74754c1460   \n",
       "4  2020-06-05 18:40:24.418263  c407068f-f900-3478-a983-ad74754c1460   \n",
       "\n",
       "                                    Functional  \\\n",
       "0                                   Functional   \n",
       "1  Ample Door Storage User Friendly Visibility   \n",
       "2                                 So much room   \n",
       "3                                 So much room   \n",
       "4                                 So much room   \n",
       "\n",
       "  Pros: fingerprint resistant so you don't have to constantly wipe it down. Drawers are good size and are plentiful. Water dispenser works great. Cons: it's noisy when making ice to the point you think one thing is wrong with it.  \\\n",
       "0  Pros: fingerprint resistant so you don't have ...                                                                                                                                                                                    \n",
       "1  Feels solid and “upscale”. Excellent design of...                                                                                                                                                                                    \n",
       "2  I love this fridge. So much room over having a...                                                                                                                                                                                    \n",
       "3  I love this fridge. So much room over having a...                                                                                                                                                                                    \n",
       "4  I love this fridge. So much room over having a...                                                                                                                                                                                    \n",
       "\n",
       "   3.00  2020-03-23  2020   3  13  23  2020-04-24 15:58:56.293182  us   True  \\\n",
       "0   3.0  2020-03-23  2020   3  13  23  2020-04-24 14:55:13.485647  us  False   \n",
       "1   5.0  2019-09-28  2019   9  39  28  2020-03-30 23:53:02.331711  us   True   \n",
       "2   5.0  2019-12-13  2019  12  50  13  2020-04-28 14:09:38.255158  us   True   \n",
       "3   5.0  2019-12-13  2019  12  50  13  2020-04-28 14:09:41.960342  us  False   \n",
       "4   5.0  2019-12-13  2019  12  50  13  2020-04-27 19:49:13.756253  us  False   \n",
       "\n",
       "                   ['1000859768', '1000859852']  \n",
       "0                  ['1000859768', '1000859852']  \n",
       "1                                ['1000289721']  \n",
       "2  ['3928039', '3928048', '3979801', '6112639']  \n",
       "3  ['3928039', '3928048', '3979801', '6112639']  \n",
       "4  ['3928039', '3928048', '3979801', '6112639']  "
      ]
     },
     "execution_count": 140,
     "metadata": {},
     "output_type": "execute_result"
    }
   ],
   "source": [
    "data.iloc[:5,9:]"
   ]
  },
  {
   "cell_type": "markdown",
   "metadata": {},
   "source": [
    "Acho que a partir de agora começam a parte de comentários e avaliações. Esse numero na coluna 10 parece ser um ID do banco de dados do site, mas não sei se é um ID do usuario que comentou, ou tipo um ID para o comentário"
   ]
  },
  {
   "cell_type": "code",
   "execution_count": 141,
   "metadata": {},
   "outputs": [
    {
     "data": {
      "text/plain": [
       "array([\"['1000859768', '1000859852']\", \"['1000289721']\",\n",
       "       \"['3928039', '3928048', '3979801', '6112639']\", ...,\n",
       "       \"['1000040109', '1000040113', '999901081']\", \"['205541436']\",\n",
       "       \"['1000329603', '1002619072']\"], dtype=object)"
      ]
     },
     "execution_count": 141,
     "metadata": {},
     "output_type": "execute_result"
    }
   ],
   "source": [
    "data.iloc[:,22].unique()"
   ]
  },
  {
   "cell_type": "markdown",
   "metadata": {},
   "source": [
    "Vamo la! Parece que as próximas colunas tão bem dificeis de se entender o que é. Tipo a penultima coluna com um boolean aleatório, que não faz muito sentido.\n",
    "\n",
    "A última coluna parece ter o ID das cores disponiveis para aquela geladeira, e o ID que eu tinha definido anteriormente é o ID para aquela cor especifica.\n",
    "\n",
    "Eu tenho umas datas que não me interessam muito, e eu nem sei o que são.\n",
    "\n",
    "Mas tem uma coluna que parece ter o numero de estrelas que foi dada naquela avaliação. Coluna 13.\n",
    "\n",
    "Vo dropa as datas, essa coluna 10 e o boolean no final, e mudar o nome dessa coluna de estrelas"
   ]
  },
  {
   "cell_type": "code",
   "execution_count": 142,
   "metadata": {},
   "outputs": [
    {
     "data": {
      "text/plain": [
       "Index(['lowes', 'Refrigerators',\n",
       "       '[\"Appliances\", \"Refrigerators\", \"Side-by-Side Refrigerators\"]',\n",
       "       'General Electric',\n",
       "       'https://www.lowes.com/pd/GE-25-3-cu-ft-Side-by-Side-Refrigerator-with-Ice-Maker-Fingerprint-Resistant-Stainless-Steel/1000859768',\n",
       "       '1000859768',\n",
       "       'GE 25.3-cu ft Side-by-Side Refrigerator with Ice Maker (Fingerprint-Resistant Stainless Steel)',\n",
       "       ''25.3':2 'by':7 'cu':3 'fingerprint':14 'fingerprint-resistant':13 'ft':4 'ge':1 'ice':11 'maker':12 'refrigerator':9 'resistant':15 'side':6,8 'side-by-side':5 'stainless':16 'steel':17 'with':10',\n",
       "       '{'brand': ['GE', 'Ge'], 'model': ['GSS25IYNFS', 'GSS25IYNFS'], 'style': ['Side-by-Side'], 'title': 'GE 25.3-cu ft Side-by-Side Refrigerator with Ice Maker (Fingerprint-Resistant Stainless Steel)', 'UNSPSC': ['52141500'], 'Built-In': ['No'], 'Warranty': ['1-year limited'], 'warranty': ['1-year limited'], 'Ice Maker': ['Single'], 'Sub-Brand': ['N/A'], 'Depth Type': ['Standard-Depth'], 'Door Alarm': ['Yes'], 'Door Style': ['Contoured'], 'Frost-Free': ['Yes'], 'breadcrumb': ['Appliances', 'Refrigerators', 'Side-by-Side Refrigerators'], 'Handle Type': ['Standard'], 'Series Name': ['N/A'], 'Door Shelves': ['4'], 'Door Texture': ['Smooth'], 'Handle Color': ['Stainless steel'], 'Hidden Hinge': ['Yes'], 'Hub Required': ['No'], 'ADA Compliant': ['No'], 'Cabinet Color': ['Gray'], 'Freezer Light': ['Yes'], 'See-Thru Door': ['No'], 'Shelf Options': ['Adjustable spillproof sliding glass shelves'], 'Air Filtration': ['Yes'], 'Safety Listing': ['UL safety listing'], 'Works with iOS': ['No'], 'Dispenser Light': ['Yes'], 'Freezer Baskets': ['2'], 'Freezer Shelves': ['3'], 'Door within Door': ['No'], \"Lowe's Exclusive\": ['No'], 'Toe Grille Color': ['Gray'], 'Voice Controlled': ['No'], 'Water Filtration': ['Yes'], 'voice_controlled': ['No'], 'App Compatibility': ['No'], 'Dispenser Options': ['Filtered water and cubed/crushed ice'], 'Freezer Door Bins': ['0'], 'Refrigerator Size': ['Large (>36-in)'], 'Snack/Deli Drawer': ['No'], 'CEE Tier Qualified': ['N/A'], 'Child Safety Locks': ['Yes'], 'Works with Android': ['No'], 'Gallon Door Storage': ['Yes'], 'Wi-Fi Compatibility': ['No'], 'Freezer Door Shelves': ['5'], 'Actual Width (Inches)': ['36.25'], 'Common Width (Inches)': ['36'], 'ENERGY STAR Certified': ['No'], 'Fingerprint-Resistant': ['Yes'], 'Appliance Color/Finish': ['Stainless steel'], 'Water Filter Indicator': ['Yes'], 'Works with SmartThings': ['No'], 'Bluetooth Compatibility': ['No'], 'Works with Amazon Alexa': ['No'], 'Approved for Outdoor Use': ['No'], 'Space-Saving In-Door Ice': ['No'], 'Works with Apple HomeKit': ['No'], 'Manufacturer Color/Finish': ['Stainless Steel'], 'Custom Door Kit Compatible': ['No'], 'Depth (Less Door) (Inches)': ['28.5'], 'Freezer Capacity (Cu. Feet)': ['9.6'], 'Overall Capacity (Cu. Feet)': ['25.3'], 'Humidity-Controlled Crispers': ['1'], 'Depth with Door Open (Inches)': ['51.125'], 'Matching Air Filter (Model #)': ['N/A'], 'Temperature Controlled Drawer': ['No'], 'Dual Evaporator Cooling System': ['No'], 'Electronic Temperature Control': ['Yes'], 'Height to Top of Case (Inches)': ['68.75'], 'Height to Top of Door (Inches)': ['70.125'], 'Refrigerator Interior Lighting': ['LED'], 'Works with the Google Assistant': ['No'], 'CA Residents: Prop 65 Warning(s)': ['Yes'], 'Refrigerator Capacity (Cu. Feet)': ['15.7'], 'Depth (Excluding Handles) (Inches)': ['32.25'], 'Depth (Including Handles) (Inches)': ['33.875'], 'Compatible Ice Maker Model Number(s)': ['Factory-Installed'], 'Height to Top of Door Hinge (Inches)': ['69.75'], 'Matching Replacement Water Filter Model': ['XWF']}',\n",
       "       'Functional',\n",
       "       'Pros: fingerprint resistant so you don't have to constantly wipe it down. Drawers are good size and are plentiful. Water dispenser works great. Cons: it's noisy when making ice to the point you think one thing is wrong with it.',\n",
       "       '3.00', '['1000859768', '1000859852']'],\n",
       "      dtype='object')"
      ]
     },
     "execution_count": 142,
     "metadata": {},
     "output_type": "execute_result"
    }
   ],
   "source": [
    "data = data.drop(columns=['2020-05-26 21:51:27.805520','218183104','2020-03-23', '2020', '3','13',\n",
    "                   '23', '2020-04-24 15:58:56.293182', 'us', 'True'])\n",
    "data.columns"
   ]
  },
  {
   "cell_type": "code",
   "execution_count": 143,
   "metadata": {
    "scrolled": true
   },
   "outputs": [
    {
     "data": {
      "text/plain": [
       "['Company',\n",
       " 'Product',\n",
       " 'Website Path',\n",
       " 'Brand',\n",
       " 'URL',\n",
       " 'ID',\n",
       " 'Description',\n",
       " 'Technical Features',\n",
       " 'General Features',\n",
       " 'Comment#1',\n",
       " 'Comment#2',\n",
       " 'Rating',\n",
       " 'Available Colors']"
      ]
     },
     "execution_count": 143,
     "metadata": {},
     "output_type": "execute_result"
    }
   ],
   "source": [
    "new_columns.append('Comment#1')\n",
    "new_columns.append('Comment#2')\n",
    "new_columns.append('Rating')\n",
    "new_columns.append('Available Colors')\n",
    "new_columns"
   ]
  },
  {
   "cell_type": "code",
   "execution_count": 144,
   "metadata": {
    "scrolled": true
   },
   "outputs": [
    {
     "name": "stdout",
     "output_type": "stream",
     "text": [
      "13\n",
      "13\n"
     ]
    }
   ],
   "source": [
    "print(len(new_columns))\n",
    "print(len(data.columns))"
   ]
  },
  {
   "cell_type": "markdown",
   "metadata": {},
   "source": [
    "Antes de mudar o nome das colunas, preciso adicionar os nomes atuais como uma linha do dataset para não perder informações"
   ]
  },
  {
   "cell_type": "code",
   "execution_count": 145,
   "metadata": {
    "scrolled": true
   },
   "outputs": [
    {
     "data": {
      "text/plain": [
       "0                                                 lowes\n",
       "1                                         Refrigerators\n",
       "2     [\"Appliances\", \"Refrigerators\", \"Side-by-Side ...\n",
       "3                                      General Electric\n",
       "4     https://www.lowes.com/pd/GE-25-3-cu-ft-Side-by...\n",
       "5                                            1000859768\n",
       "6     GE 25.3-cu ft Side-by-Side Refrigerator with I...\n",
       "7     '25.3':2 'by':7 'cu':3 'fingerprint':14 'finge...\n",
       "8     {'brand': ['GE', 'Ge'], 'model': ['GSS25IYNFS'...\n",
       "9                                            Functional\n",
       "10    Pros: fingerprint resistant so you don't have ...\n",
       "11                                                 3.00\n",
       "12                         ['1000859768', '1000859852']\n",
       "dtype: object"
      ]
     },
     "execution_count": 145,
     "metadata": {},
     "output_type": "execute_result"
    }
   ],
   "source": [
    "new_row = pd.Series(data.columns)\n",
    "new_row"
   ]
  },
  {
   "cell_type": "code",
   "execution_count": 146,
   "metadata": {
    "scrolled": true
   },
   "outputs": [
    {
     "data": {
      "text/html": [
       "<div>\n",
       "<style scoped>\n",
       "    .dataframe tbody tr th:only-of-type {\n",
       "        vertical-align: middle;\n",
       "    }\n",
       "\n",
       "    .dataframe tbody tr th {\n",
       "        vertical-align: top;\n",
       "    }\n",
       "\n",
       "    .dataframe thead th {\n",
       "        text-align: right;\n",
       "    }\n",
       "</style>\n",
       "<table border=\"1\" class=\"dataframe\">\n",
       "  <thead>\n",
       "    <tr style=\"text-align: right;\">\n",
       "      <th></th>\n",
       "      <th>lowes</th>\n",
       "      <th>Refrigerators</th>\n",
       "      <th>[\"Appliances\", \"Refrigerators\", \"Side-by-Side Refrigerators\"]</th>\n",
       "      <th>General Electric</th>\n",
       "      <th>https://www.lowes.com/pd/GE-25-3-cu-ft-Side-by-Side-Refrigerator-with-Ice-Maker-Fingerprint-Resistant-Stainless-Steel/1000859768</th>\n",
       "      <th>1000859768</th>\n",
       "      <th>GE 25.3-cu ft Side-by-Side Refrigerator with Ice Maker (Fingerprint-Resistant Stainless Steel)</th>\n",
       "      <th>'25.3':2 'by':7 'cu':3 'fingerprint':14 'fingerprint-resistant':13 'ft':4 'ge':1 'ice':11 'maker':12 'refrigerator':9 'resistant':15 'side':6,8 'side-by-side':5 'stainless':16 'steel':17 'with':10</th>\n",
       "      <th>{'brand': ['GE', 'Ge'], 'model': ['GSS25IYNFS', 'GSS25IYNFS'], 'style': ['Side-by-Side'], 'title': 'GE 25.3-cu ft Side-by-Side Refrigerator with Ice Maker (Fingerprint-Resistant Stainless Steel)', 'UNSPSC': ['52141500'], 'Built-In': ['No'], 'Warranty': ['1-year limited'], 'warranty': ['1-year limited'], 'Ice Maker': ['Single'], 'Sub-Brand': ['N/A'], 'Depth Type': ['Standard-Depth'], 'Door Alarm': ['Yes'], 'Door Style': ['Contoured'], 'Frost-Free': ['Yes'], 'breadcrumb': ['Appliances', 'Refrigerators', 'Side-by-Side Refrigerators'], 'Handle Type': ['Standard'], 'Series Name': ['N/A'], 'Door Shelves': ['4'], 'Door Texture': ['Smooth'], 'Handle Color': ['Stainless steel'], 'Hidden Hinge': ['Yes'], 'Hub Required': ['No'], 'ADA Compliant': ['No'], 'Cabinet Color': ['Gray'], 'Freezer Light': ['Yes'], 'See-Thru Door': ['No'], 'Shelf Options': ['Adjustable spillproof sliding glass shelves'], 'Air Filtration': ['Yes'], 'Safety Listing': ['UL safety listing'], 'Works with iOS': ['No'], 'Dispenser Light': ['Yes'], 'Freezer Baskets': ['2'], 'Freezer Shelves': ['3'], 'Door within Door': ['No'], \"Lowe's Exclusive\": ['No'], 'Toe Grille Color': ['Gray'], 'Voice Controlled': ['No'], 'Water Filtration': ['Yes'], 'voice_controlled': ['No'], 'App Compatibility': ['No'], 'Dispenser Options': ['Filtered water and cubed/crushed ice'], 'Freezer Door Bins': ['0'], 'Refrigerator Size': ['Large (&gt;36-in)'], 'Snack/Deli Drawer': ['No'], 'CEE Tier Qualified': ['N/A'], 'Child Safety Locks': ['Yes'], 'Works with Android': ['No'], 'Gallon Door Storage': ['Yes'], 'Wi-Fi Compatibility': ['No'], 'Freezer Door Shelves': ['5'], 'Actual Width (Inches)': ['36.25'], 'Common Width (Inches)': ['36'], 'ENERGY STAR Certified': ['No'], 'Fingerprint-Resistant': ['Yes'], 'Appliance Color/Finish': ['Stainless steel'], 'Water Filter Indicator': ['Yes'], 'Works with SmartThings': ['No'], 'Bluetooth Compatibility': ['No'], 'Works with Amazon Alexa': ['No'], 'Approved for Outdoor Use': ['No'], 'Space-Saving In-Door Ice': ['No'], 'Works with Apple HomeKit': ['No'], 'Manufacturer Color/Finish': ['Stainless Steel'], 'Custom Door Kit Compatible': ['No'], 'Depth (Less Door) (Inches)': ['28.5'], 'Freezer Capacity (Cu. Feet)': ['9.6'], 'Overall Capacity (Cu. Feet)': ['25.3'], 'Humidity-Controlled Crispers': ['1'], 'Depth with Door Open (Inches)': ['51.125'], 'Matching Air Filter (Model #)': ['N/A'], 'Temperature Controlled Drawer': ['No'], 'Dual Evaporator Cooling System': ['No'], 'Electronic Temperature Control': ['Yes'], 'Height to Top of Case (Inches)': ['68.75'], 'Height to Top of Door (Inches)': ['70.125'], 'Refrigerator Interior Lighting': ['LED'], 'Works with the Google Assistant': ['No'], 'CA Residents: Prop 65 Warning(s)': ['Yes'], 'Refrigerator Capacity (Cu. Feet)': ['15.7'], 'Depth (Excluding Handles) (Inches)': ['32.25'], 'Depth (Including Handles) (Inches)': ['33.875'], 'Compatible Ice Maker Model Number(s)': ['Factory-Installed'], 'Height to Top of Door Hinge (Inches)': ['69.75'], 'Matching Replacement Water Filter Model': ['XWF']}</th>\n",
       "      <th>Functional</th>\n",
       "      <th>Pros: fingerprint resistant so you don't have to constantly wipe it down. Drawers are good size and are plentiful. Water dispenser works great. Cons: it's noisy when making ice to the point you think one thing is wrong with it.</th>\n",
       "      <th>3.00</th>\n",
       "      <th>['1000859768', '1000859852']</th>\n",
       "    </tr>\n",
       "  </thead>\n",
       "  <tbody>\n",
       "    <tr>\n",
       "      <th>20468</th>\n",
       "      <td>lowes</td>\n",
       "      <td>Refrigerators</td>\n",
       "      <td>[\"Appliances\", \"Refrigerators\", \"Top-Freezer R...</td>\n",
       "      <td>Whirlpool</td>\n",
       "      <td>https://www.lowes.com/pd/Whirlpool-18-2-cu-ft-...</td>\n",
       "      <td>50285241</td>\n",
       "      <td>Whirlpool 18.2-cu ft Top-Freezer Refrigerator ...</td>\n",
       "      <td>'18.2':2 'cu':3 'freezer':7 'ft':4 'monochroma...</td>\n",
       "      <td>{'brand': ['Whirlpool', 'Whirlpool'], 'model':...</td>\n",
       "      <td>Easy to clean</td>\n",
       "      <td>I like it very much\\r\\nBut I haven’t figured o...</td>\n",
       "      <td>4</td>\n",
       "      <td>['1000940596', '50285239', '50285241']</td>\n",
       "    </tr>\n",
       "    <tr>\n",
       "      <th>20469</th>\n",
       "      <td>lowes</td>\n",
       "      <td>Refrigerators</td>\n",
       "      <td>[\"Appliances\", \"Refrigerators\", \"Top-Freezer R...</td>\n",
       "      <td>Whirlpool</td>\n",
       "      <td>https://www.lowes.com/pd/Whirlpool-18-2-cu-ft-...</td>\n",
       "      <td>1000940596</td>\n",
       "      <td>Whirlpool 18.2-cu ft Top-Freezer Refrigerator ...</td>\n",
       "      <td>'18.2':2 'cu':3 'freezer':7 'ft':4 'ice':10 'm...</td>\n",
       "      <td>{'brand': ['Whirlpool', 'Whirlpool'], 'model':...</td>\n",
       "      <td>Easy to clean</td>\n",
       "      <td>I like it very much\\r\\nBut I haven’t figured o...</td>\n",
       "      <td>4</td>\n",
       "      <td>['1000940596', '50285239', '50285241']</td>\n",
       "    </tr>\n",
       "    <tr>\n",
       "      <th>20470</th>\n",
       "      <td>lowes</td>\n",
       "      <td>Refrigerators</td>\n",
       "      <td>[\"Appliances\", \"Refrigerators\", \"French Door R...</td>\n",
       "      <td>Kitchenaid</td>\n",
       "      <td>https://www.lowes.com/pd/KitchenAid-25-8-cu-ft...</td>\n",
       "      <td>1000029093</td>\n",
       "      <td>KitchenAid 25.8-cu ft 5-Door French Door Refri...</td>\n",
       "      <td>'25.8':2 '5':5 'black':16 'cu':3 'door':6,8 'f...</td>\n",
       "      <td>{'Model': ['KRMF706EBS'], 'brand': ['KitchenAi...</td>\n",
       "      <td>Love the look, quality a bit disappointing</td>\n",
       "      <td>I loved the look and style but when I got the ...</td>\n",
       "      <td>3</td>\n",
       "      <td>['1000029093']</td>\n",
       "    </tr>\n",
       "    <tr>\n",
       "      <th>20471</th>\n",
       "      <td>lowes</td>\n",
       "      <td>Refrigerators</td>\n",
       "      <td>[\"Appliances\", \"Refrigerators\", \"French Door R...</td>\n",
       "      <td>General Electric</td>\n",
       "      <td>https://www.lowes.com/pd/GE-Profile-Keurig-K-C...</td>\n",
       "      <td>1002619128</td>\n",
       "      <td>GE Profile Keurig K-CUP Brewing System 18.66-c...</td>\n",
       "      <td>'18.66':9 'brewing':7 'cu':10 'cup':6 'door':1...</td>\n",
       "      <td>{'Model': ['PFE28PYNFS'], 'brand': ['GE', 'Ge'...</td>\n",
       "      <td>Love the Keurig feature!!!!</td>\n",
       "      <td>We are so happy with this fridge. Love the LED...</td>\n",
       "      <td>5</td>\n",
       "      <td>['1002619128']</td>\n",
       "    </tr>\n",
       "    <tr>\n",
       "      <th>-1</th>\n",
       "      <td>lowes</td>\n",
       "      <td>Refrigerators</td>\n",
       "      <td>[\"Appliances\", \"Refrigerators\", \"Side-by-Side ...</td>\n",
       "      <td>General Electric</td>\n",
       "      <td>https://www.lowes.com/pd/GE-25-3-cu-ft-Side-by...</td>\n",
       "      <td>1000859768</td>\n",
       "      <td>GE 25.3-cu ft Side-by-Side Refrigerator with I...</td>\n",
       "      <td>'25.3':2 'by':7 'cu':3 'fingerprint':14 'finge...</td>\n",
       "      <td>{'brand': ['GE', 'Ge'], 'model': ['GSS25IYNFS'...</td>\n",
       "      <td>Functional</td>\n",
       "      <td>Pros: fingerprint resistant so you don't have ...</td>\n",
       "      <td>3.00</td>\n",
       "      <td>['1000859768', '1000859852']</td>\n",
       "    </tr>\n",
       "  </tbody>\n",
       "</table>\n",
       "</div>"
      ],
      "text/plain": [
       "        lowes  Refrigerators  \\\n",
       " 20468  lowes  Refrigerators   \n",
       " 20469  lowes  Refrigerators   \n",
       " 20470  lowes  Refrigerators   \n",
       " 20471  lowes  Refrigerators   \n",
       "-1      lowes  Refrigerators   \n",
       "\n",
       "       [\"Appliances\", \"Refrigerators\", \"Side-by-Side Refrigerators\"]  \\\n",
       " 20468  [\"Appliances\", \"Refrigerators\", \"Top-Freezer R...              \n",
       " 20469  [\"Appliances\", \"Refrigerators\", \"Top-Freezer R...              \n",
       " 20470  [\"Appliances\", \"Refrigerators\", \"French Door R...              \n",
       " 20471  [\"Appliances\", \"Refrigerators\", \"French Door R...              \n",
       "-1      [\"Appliances\", \"Refrigerators\", \"Side-by-Side ...              \n",
       "\n",
       "        General Electric  \\\n",
       " 20468         Whirlpool   \n",
       " 20469         Whirlpool   \n",
       " 20470        Kitchenaid   \n",
       " 20471  General Electric   \n",
       "-1      General Electric   \n",
       "\n",
       "       https://www.lowes.com/pd/GE-25-3-cu-ft-Side-by-Side-Refrigerator-with-Ice-Maker-Fingerprint-Resistant-Stainless-Steel/1000859768  \\\n",
       " 20468  https://www.lowes.com/pd/Whirlpool-18-2-cu-ft-...                                                                                 \n",
       " 20469  https://www.lowes.com/pd/Whirlpool-18-2-cu-ft-...                                                                                 \n",
       " 20470  https://www.lowes.com/pd/KitchenAid-25-8-cu-ft...                                                                                 \n",
       " 20471  https://www.lowes.com/pd/GE-Profile-Keurig-K-C...                                                                                 \n",
       "-1      https://www.lowes.com/pd/GE-25-3-cu-ft-Side-by...                                                                                 \n",
       "\n",
       "        1000859768  \\\n",
       " 20468    50285241   \n",
       " 20469  1000940596   \n",
       " 20470  1000029093   \n",
       " 20471  1002619128   \n",
       "-1      1000859768   \n",
       "\n",
       "       GE 25.3-cu ft Side-by-Side Refrigerator with Ice Maker (Fingerprint-Resistant Stainless Steel)  \\\n",
       " 20468  Whirlpool 18.2-cu ft Top-Freezer Refrigerator ...                                               \n",
       " 20469  Whirlpool 18.2-cu ft Top-Freezer Refrigerator ...                                               \n",
       " 20470  KitchenAid 25.8-cu ft 5-Door French Door Refri...                                               \n",
       " 20471  GE Profile Keurig K-CUP Brewing System 18.66-c...                                               \n",
       "-1      GE 25.3-cu ft Side-by-Side Refrigerator with I...                                               \n",
       "\n",
       "       '25.3':2 'by':7 'cu':3 'fingerprint':14 'fingerprint-resistant':13 'ft':4 'ge':1 'ice':11 'maker':12 'refrigerator':9 'resistant':15 'side':6,8 'side-by-side':5 'stainless':16 'steel':17 'with':10  \\\n",
       " 20468  '18.2':2 'cu':3 'freezer':7 'ft':4 'monochroma...                                                                                                                                                     \n",
       " 20469  '18.2':2 'cu':3 'freezer':7 'ft':4 'ice':10 'm...                                                                                                                                                     \n",
       " 20470  '25.8':2 '5':5 'black':16 'cu':3 'door':6,8 'f...                                                                                                                                                     \n",
       " 20471  '18.66':9 'brewing':7 'cu':10 'cup':6 'door':1...                                                                                                                                                     \n",
       "-1      '25.3':2 'by':7 'cu':3 'fingerprint':14 'finge...                                                                                                                                                     \n",
       "\n",
       "       {'brand': ['GE', 'Ge'], 'model': ['GSS25IYNFS', 'GSS25IYNFS'], 'style': ['Side-by-Side'], 'title': 'GE 25.3-cu ft Side-by-Side Refrigerator with Ice Maker (Fingerprint-Resistant Stainless Steel)', 'UNSPSC': ['52141500'], 'Built-In': ['No'], 'Warranty': ['1-year limited'], 'warranty': ['1-year limited'], 'Ice Maker': ['Single'], 'Sub-Brand': ['N/A'], 'Depth Type': ['Standard-Depth'], 'Door Alarm': ['Yes'], 'Door Style': ['Contoured'], 'Frost-Free': ['Yes'], 'breadcrumb': ['Appliances', 'Refrigerators', 'Side-by-Side Refrigerators'], 'Handle Type': ['Standard'], 'Series Name': ['N/A'], 'Door Shelves': ['4'], 'Door Texture': ['Smooth'], 'Handle Color': ['Stainless steel'], 'Hidden Hinge': ['Yes'], 'Hub Required': ['No'], 'ADA Compliant': ['No'], 'Cabinet Color': ['Gray'], 'Freezer Light': ['Yes'], 'See-Thru Door': ['No'], 'Shelf Options': ['Adjustable spillproof sliding glass shelves'], 'Air Filtration': ['Yes'], 'Safety Listing': ['UL safety listing'], 'Works with iOS': ['No'], 'Dispenser Light': ['Yes'], 'Freezer Baskets': ['2'], 'Freezer Shelves': ['3'], 'Door within Door': ['No'], \"Lowe's Exclusive\": ['No'], 'Toe Grille Color': ['Gray'], 'Voice Controlled': ['No'], 'Water Filtration': ['Yes'], 'voice_controlled': ['No'], 'App Compatibility': ['No'], 'Dispenser Options': ['Filtered water and cubed/crushed ice'], 'Freezer Door Bins': ['0'], 'Refrigerator Size': ['Large (>36-in)'], 'Snack/Deli Drawer': ['No'], 'CEE Tier Qualified': ['N/A'], 'Child Safety Locks': ['Yes'], 'Works with Android': ['No'], 'Gallon Door Storage': ['Yes'], 'Wi-Fi Compatibility': ['No'], 'Freezer Door Shelves': ['5'], 'Actual Width (Inches)': ['36.25'], 'Common Width (Inches)': ['36'], 'ENERGY STAR Certified': ['No'], 'Fingerprint-Resistant': ['Yes'], 'Appliance Color/Finish': ['Stainless steel'], 'Water Filter Indicator': ['Yes'], 'Works with SmartThings': ['No'], 'Bluetooth Compatibility': ['No'], 'Works with Amazon Alexa': ['No'], 'Approved for Outdoor Use': ['No'], 'Space-Saving In-Door Ice': ['No'], 'Works with Apple HomeKit': ['No'], 'Manufacturer Color/Finish': ['Stainless Steel'], 'Custom Door Kit Compatible': ['No'], 'Depth (Less Door) (Inches)': ['28.5'], 'Freezer Capacity (Cu. Feet)': ['9.6'], 'Overall Capacity (Cu. Feet)': ['25.3'], 'Humidity-Controlled Crispers': ['1'], 'Depth with Door Open (Inches)': ['51.125'], 'Matching Air Filter (Model #)': ['N/A'], 'Temperature Controlled Drawer': ['No'], 'Dual Evaporator Cooling System': ['No'], 'Electronic Temperature Control': ['Yes'], 'Height to Top of Case (Inches)': ['68.75'], 'Height to Top of Door (Inches)': ['70.125'], 'Refrigerator Interior Lighting': ['LED'], 'Works with the Google Assistant': ['No'], 'CA Residents: Prop 65 Warning(s)': ['Yes'], 'Refrigerator Capacity (Cu. Feet)': ['15.7'], 'Depth (Excluding Handles) (Inches)': ['32.25'], 'Depth (Including Handles) (Inches)': ['33.875'], 'Compatible Ice Maker Model Number(s)': ['Factory-Installed'], 'Height to Top of Door Hinge (Inches)': ['69.75'], 'Matching Replacement Water Filter Model': ['XWF']}  \\\n",
       " 20468  {'brand': ['Whirlpool', 'Whirlpool'], 'model':...                                                                                                                                                                                                                                                                                                                                                                                                                                                                                                                                                                                                                                                                                                                                                                                                                                                                                                                                                                                                                                                                                                                                                                                                                                                                                                                                                                                                                                                                                                                                                                                                                                                                                                                                                                                                                                                                                                                                                                                                                                                                                                                                                                                                                                                                                                                                                                                                                                                                                                                                                                                                                                                                                                                                                                                                                                                                                                                                                                                                                                                                                                                  \n",
       " 20469  {'brand': ['Whirlpool', 'Whirlpool'], 'model':...                                                                                                                                                                                                                                                                                                                                                                                                                                                                                                                                                                                                                                                                                                                                                                                                                                                                                                                                                                                                                                                                                                                                                                                                                                                                                                                                                                                                                                                                                                                                                                                                                                                                                                                                                                                                                                                                                                                                                                                                                                                                                                                                                                                                                                                                                                                                                                                                                                                                                                                                                                                                                                                                                                                                                                                                                                                                                                                                                                                                                                                                                                                  \n",
       " 20470  {'Model': ['KRMF706EBS'], 'brand': ['KitchenAi...                                                                                                                                                                                                                                                                                                                                                                                                                                                                                                                                                                                                                                                                                                                                                                                                                                                                                                                                                                                                                                                                                                                                                                                                                                                                                                                                                                                                                                                                                                                                                                                                                                                                                                                                                                                                                                                                                                                                                                                                                                                                                                                                                                                                                                                                                                                                                                                                                                                                                                                                                                                                                                                                                                                                                                                                                                                                                                                                                                                                                                                                                                                  \n",
       " 20471  {'Model': ['PFE28PYNFS'], 'brand': ['GE', 'Ge'...                                                                                                                                                                                                                                                                                                                                                                                                                                                                                                                                                                                                                                                                                                                                                                                                                                                                                                                                                                                                                                                                                                                                                                                                                                                                                                                                                                                                                                                                                                                                                                                                                                                                                                                                                                                                                                                                                                                                                                                                                                                                                                                                                                                                                                                                                                                                                                                                                                                                                                                                                                                                                                                                                                                                                                                                                                                                                                                                                                                                                                                                                                                  \n",
       "-1      {'brand': ['GE', 'Ge'], 'model': ['GSS25IYNFS'...                                                                                                                                                                                                                                                                                                                                                                                                                                                                                                                                                                                                                                                                                                                                                                                                                                                                                                                                                                                                                                                                                                                                                                                                                                                                                                                                                                                                                                                                                                                                                                                                                                                                                                                                                                                                                                                                                                                                                                                                                                                                                                                                                                                                                                                                                                                                                                                                                                                                                                                                                                                                                                                                                                                                                                                                                                                                                                                                                                                                                                                                                                                  \n",
       "\n",
       "                                        Functional  \\\n",
       " 20468                               Easy to clean   \n",
       " 20469                               Easy to clean   \n",
       " 20470  Love the look, quality a bit disappointing   \n",
       " 20471                 Love the Keurig feature!!!!   \n",
       "-1                                      Functional   \n",
       "\n",
       "       Pros: fingerprint resistant so you don't have to constantly wipe it down. Drawers are good size and are plentiful. Water dispenser works great. Cons: it's noisy when making ice to the point you think one thing is wrong with it.  \\\n",
       " 20468  I like it very much\\r\\nBut I haven’t figured o...                                                                                                                                                                                    \n",
       " 20469  I like it very much\\r\\nBut I haven’t figured o...                                                                                                                                                                                    \n",
       " 20470  I loved the look and style but when I got the ...                                                                                                                                                                                    \n",
       " 20471  We are so happy with this fridge. Love the LED...                                                                                                                                                                                    \n",
       "-1      Pros: fingerprint resistant so you don't have ...                                                                                                                                                                                    \n",
       "\n",
       "        3.00            ['1000859768', '1000859852']  \n",
       " 20468     4  ['1000940596', '50285239', '50285241']  \n",
       " 20469     4  ['1000940596', '50285239', '50285241']  \n",
       " 20470     3                          ['1000029093']  \n",
       " 20471     5                          ['1002619128']  \n",
       "-1      3.00            ['1000859768', '1000859852']  "
      ]
     },
     "execution_count": 146,
     "metadata": {},
     "output_type": "execute_result"
    }
   ],
   "source": [
    "temp = data.copy()\n",
    "temp.loc[-1] = np.array(new_row)\n",
    "temp.tail()"
   ]
  },
  {
   "cell_type": "code",
   "execution_count": 148,
   "metadata": {},
   "outputs": [
    {
     "data": {
      "text/html": [
       "<div>\n",
       "<style scoped>\n",
       "    .dataframe tbody tr th:only-of-type {\n",
       "        vertical-align: middle;\n",
       "    }\n",
       "\n",
       "    .dataframe tbody tr th {\n",
       "        vertical-align: top;\n",
       "    }\n",
       "\n",
       "    .dataframe thead th {\n",
       "        text-align: right;\n",
       "    }\n",
       "</style>\n",
       "<table border=\"1\" class=\"dataframe\">\n",
       "  <thead>\n",
       "    <tr style=\"text-align: right;\">\n",
       "      <th></th>\n",
       "      <th>lowes</th>\n",
       "      <th>Refrigerators</th>\n",
       "      <th>[\"Appliances\", \"Refrigerators\", \"Side-by-Side Refrigerators\"]</th>\n",
       "      <th>General Electric</th>\n",
       "      <th>https://www.lowes.com/pd/GE-25-3-cu-ft-Side-by-Side-Refrigerator-with-Ice-Maker-Fingerprint-Resistant-Stainless-Steel/1000859768</th>\n",
       "      <th>1000859768</th>\n",
       "      <th>GE 25.3-cu ft Side-by-Side Refrigerator with Ice Maker (Fingerprint-Resistant Stainless Steel)</th>\n",
       "      <th>'25.3':2 'by':7 'cu':3 'fingerprint':14 'fingerprint-resistant':13 'ft':4 'ge':1 'ice':11 'maker':12 'refrigerator':9 'resistant':15 'side':6,8 'side-by-side':5 'stainless':16 'steel':17 'with':10</th>\n",
       "      <th>{'brand': ['GE', 'Ge'], 'model': ['GSS25IYNFS', 'GSS25IYNFS'], 'style': ['Side-by-Side'], 'title': 'GE 25.3-cu ft Side-by-Side Refrigerator with Ice Maker (Fingerprint-Resistant Stainless Steel)', 'UNSPSC': ['52141500'], 'Built-In': ['No'], 'Warranty': ['1-year limited'], 'warranty': ['1-year limited'], 'Ice Maker': ['Single'], 'Sub-Brand': ['N/A'], 'Depth Type': ['Standard-Depth'], 'Door Alarm': ['Yes'], 'Door Style': ['Contoured'], 'Frost-Free': ['Yes'], 'breadcrumb': ['Appliances', 'Refrigerators', 'Side-by-Side Refrigerators'], 'Handle Type': ['Standard'], 'Series Name': ['N/A'], 'Door Shelves': ['4'], 'Door Texture': ['Smooth'], 'Handle Color': ['Stainless steel'], 'Hidden Hinge': ['Yes'], 'Hub Required': ['No'], 'ADA Compliant': ['No'], 'Cabinet Color': ['Gray'], 'Freezer Light': ['Yes'], 'See-Thru Door': ['No'], 'Shelf Options': ['Adjustable spillproof sliding glass shelves'], 'Air Filtration': ['Yes'], 'Safety Listing': ['UL safety listing'], 'Works with iOS': ['No'], 'Dispenser Light': ['Yes'], 'Freezer Baskets': ['2'], 'Freezer Shelves': ['3'], 'Door within Door': ['No'], \"Lowe's Exclusive\": ['No'], 'Toe Grille Color': ['Gray'], 'Voice Controlled': ['No'], 'Water Filtration': ['Yes'], 'voice_controlled': ['No'], 'App Compatibility': ['No'], 'Dispenser Options': ['Filtered water and cubed/crushed ice'], 'Freezer Door Bins': ['0'], 'Refrigerator Size': ['Large (&gt;36-in)'], 'Snack/Deli Drawer': ['No'], 'CEE Tier Qualified': ['N/A'], 'Child Safety Locks': ['Yes'], 'Works with Android': ['No'], 'Gallon Door Storage': ['Yes'], 'Wi-Fi Compatibility': ['No'], 'Freezer Door Shelves': ['5'], 'Actual Width (Inches)': ['36.25'], 'Common Width (Inches)': ['36'], 'ENERGY STAR Certified': ['No'], 'Fingerprint-Resistant': ['Yes'], 'Appliance Color/Finish': ['Stainless steel'], 'Water Filter Indicator': ['Yes'], 'Works with SmartThings': ['No'], 'Bluetooth Compatibility': ['No'], 'Works with Amazon Alexa': ['No'], 'Approved for Outdoor Use': ['No'], 'Space-Saving In-Door Ice': ['No'], 'Works with Apple HomeKit': ['No'], 'Manufacturer Color/Finish': ['Stainless Steel'], 'Custom Door Kit Compatible': ['No'], 'Depth (Less Door) (Inches)': ['28.5'], 'Freezer Capacity (Cu. Feet)': ['9.6'], 'Overall Capacity (Cu. Feet)': ['25.3'], 'Humidity-Controlled Crispers': ['1'], 'Depth with Door Open (Inches)': ['51.125'], 'Matching Air Filter (Model #)': ['N/A'], 'Temperature Controlled Drawer': ['No'], 'Dual Evaporator Cooling System': ['No'], 'Electronic Temperature Control': ['Yes'], 'Height to Top of Case (Inches)': ['68.75'], 'Height to Top of Door (Inches)': ['70.125'], 'Refrigerator Interior Lighting': ['LED'], 'Works with the Google Assistant': ['No'], 'CA Residents: Prop 65 Warning(s)': ['Yes'], 'Refrigerator Capacity (Cu. Feet)': ['15.7'], 'Depth (Excluding Handles) (Inches)': ['32.25'], 'Depth (Including Handles) (Inches)': ['33.875'], 'Compatible Ice Maker Model Number(s)': ['Factory-Installed'], 'Height to Top of Door Hinge (Inches)': ['69.75'], 'Matching Replacement Water Filter Model': ['XWF']}</th>\n",
       "      <th>Functional</th>\n",
       "      <th>Pros: fingerprint resistant so you don't have to constantly wipe it down. Drawers are good size and are plentiful. Water dispenser works great. Cons: it's noisy when making ice to the point you think one thing is wrong with it.</th>\n",
       "      <th>3.00</th>\n",
       "      <th>['1000859768', '1000859852']</th>\n",
       "    </tr>\n",
       "  </thead>\n",
       "  <tbody>\n",
       "    <tr>\n",
       "      <th>20468</th>\n",
       "      <td>lowes</td>\n",
       "      <td>Refrigerators</td>\n",
       "      <td>[\"Appliances\", \"Refrigerators\", \"Top-Freezer R...</td>\n",
       "      <td>Whirlpool</td>\n",
       "      <td>https://www.lowes.com/pd/Whirlpool-18-2-cu-ft-...</td>\n",
       "      <td>50285241</td>\n",
       "      <td>Whirlpool 18.2-cu ft Top-Freezer Refrigerator ...</td>\n",
       "      <td>'18.2':2 'cu':3 'freezer':7 'ft':4 'monochroma...</td>\n",
       "      <td>{'brand': ['Whirlpool', 'Whirlpool'], 'model':...</td>\n",
       "      <td>Easy to clean</td>\n",
       "      <td>I like it very much\\r\\nBut I haven’t figured o...</td>\n",
       "      <td>4</td>\n",
       "      <td>['1000940596', '50285239', '50285241']</td>\n",
       "    </tr>\n",
       "    <tr>\n",
       "      <th>20469</th>\n",
       "      <td>lowes</td>\n",
       "      <td>Refrigerators</td>\n",
       "      <td>[\"Appliances\", \"Refrigerators\", \"Top-Freezer R...</td>\n",
       "      <td>Whirlpool</td>\n",
       "      <td>https://www.lowes.com/pd/Whirlpool-18-2-cu-ft-...</td>\n",
       "      <td>1000940596</td>\n",
       "      <td>Whirlpool 18.2-cu ft Top-Freezer Refrigerator ...</td>\n",
       "      <td>'18.2':2 'cu':3 'freezer':7 'ft':4 'ice':10 'm...</td>\n",
       "      <td>{'brand': ['Whirlpool', 'Whirlpool'], 'model':...</td>\n",
       "      <td>Easy to clean</td>\n",
       "      <td>I like it very much\\r\\nBut I haven’t figured o...</td>\n",
       "      <td>4</td>\n",
       "      <td>['1000940596', '50285239', '50285241']</td>\n",
       "    </tr>\n",
       "    <tr>\n",
       "      <th>20470</th>\n",
       "      <td>lowes</td>\n",
       "      <td>Refrigerators</td>\n",
       "      <td>[\"Appliances\", \"Refrigerators\", \"French Door R...</td>\n",
       "      <td>Kitchenaid</td>\n",
       "      <td>https://www.lowes.com/pd/KitchenAid-25-8-cu-ft...</td>\n",
       "      <td>1000029093</td>\n",
       "      <td>KitchenAid 25.8-cu ft 5-Door French Door Refri...</td>\n",
       "      <td>'25.8':2 '5':5 'black':16 'cu':3 'door':6,8 'f...</td>\n",
       "      <td>{'Model': ['KRMF706EBS'], 'brand': ['KitchenAi...</td>\n",
       "      <td>Love the look, quality a bit disappointing</td>\n",
       "      <td>I loved the look and style but when I got the ...</td>\n",
       "      <td>3</td>\n",
       "      <td>['1000029093']</td>\n",
       "    </tr>\n",
       "    <tr>\n",
       "      <th>20471</th>\n",
       "      <td>lowes</td>\n",
       "      <td>Refrigerators</td>\n",
       "      <td>[\"Appliances\", \"Refrigerators\", \"French Door R...</td>\n",
       "      <td>General Electric</td>\n",
       "      <td>https://www.lowes.com/pd/GE-Profile-Keurig-K-C...</td>\n",
       "      <td>1002619128</td>\n",
       "      <td>GE Profile Keurig K-CUP Brewing System 18.66-c...</td>\n",
       "      <td>'18.66':9 'brewing':7 'cu':10 'cup':6 'door':1...</td>\n",
       "      <td>{'Model': ['PFE28PYNFS'], 'brand': ['GE', 'Ge'...</td>\n",
       "      <td>Love the Keurig feature!!!!</td>\n",
       "      <td>We are so happy with this fridge. Love the LED...</td>\n",
       "      <td>5</td>\n",
       "      <td>['1002619128']</td>\n",
       "    </tr>\n",
       "    <tr>\n",
       "      <th>20472</th>\n",
       "      <td>lowes</td>\n",
       "      <td>Refrigerators</td>\n",
       "      <td>[\"Appliances\", \"Refrigerators\", \"Side-by-Side ...</td>\n",
       "      <td>General Electric</td>\n",
       "      <td>https://www.lowes.com/pd/GE-25-3-cu-ft-Side-by...</td>\n",
       "      <td>1000859768</td>\n",
       "      <td>GE 25.3-cu ft Side-by-Side Refrigerator with I...</td>\n",
       "      <td>'25.3':2 'by':7 'cu':3 'fingerprint':14 'finge...</td>\n",
       "      <td>{'brand': ['GE', 'Ge'], 'model': ['GSS25IYNFS'...</td>\n",
       "      <td>Functional</td>\n",
       "      <td>Pros: fingerprint resistant so you don't have ...</td>\n",
       "      <td>3.00</td>\n",
       "      <td>['1000859768', '1000859852']</td>\n",
       "    </tr>\n",
       "  </tbody>\n",
       "</table>\n",
       "</div>"
      ],
      "text/plain": [
       "       lowes  Refrigerators  \\\n",
       "20468  lowes  Refrigerators   \n",
       "20469  lowes  Refrigerators   \n",
       "20470  lowes  Refrigerators   \n",
       "20471  lowes  Refrigerators   \n",
       "20472  lowes  Refrigerators   \n",
       "\n",
       "      [\"Appliances\", \"Refrigerators\", \"Side-by-Side Refrigerators\"]  \\\n",
       "20468  [\"Appliances\", \"Refrigerators\", \"Top-Freezer R...              \n",
       "20469  [\"Appliances\", \"Refrigerators\", \"Top-Freezer R...              \n",
       "20470  [\"Appliances\", \"Refrigerators\", \"French Door R...              \n",
       "20471  [\"Appliances\", \"Refrigerators\", \"French Door R...              \n",
       "20472  [\"Appliances\", \"Refrigerators\", \"Side-by-Side ...              \n",
       "\n",
       "       General Electric  \\\n",
       "20468         Whirlpool   \n",
       "20469         Whirlpool   \n",
       "20470        Kitchenaid   \n",
       "20471  General Electric   \n",
       "20472  General Electric   \n",
       "\n",
       "      https://www.lowes.com/pd/GE-25-3-cu-ft-Side-by-Side-Refrigerator-with-Ice-Maker-Fingerprint-Resistant-Stainless-Steel/1000859768  \\\n",
       "20468  https://www.lowes.com/pd/Whirlpool-18-2-cu-ft-...                                                                                 \n",
       "20469  https://www.lowes.com/pd/Whirlpool-18-2-cu-ft-...                                                                                 \n",
       "20470  https://www.lowes.com/pd/KitchenAid-25-8-cu-ft...                                                                                 \n",
       "20471  https://www.lowes.com/pd/GE-Profile-Keurig-K-C...                                                                                 \n",
       "20472  https://www.lowes.com/pd/GE-25-3-cu-ft-Side-by...                                                                                 \n",
       "\n",
       "       1000859768  \\\n",
       "20468    50285241   \n",
       "20469  1000940596   \n",
       "20470  1000029093   \n",
       "20471  1002619128   \n",
       "20472  1000859768   \n",
       "\n",
       "      GE 25.3-cu ft Side-by-Side Refrigerator with Ice Maker (Fingerprint-Resistant Stainless Steel)  \\\n",
       "20468  Whirlpool 18.2-cu ft Top-Freezer Refrigerator ...                                               \n",
       "20469  Whirlpool 18.2-cu ft Top-Freezer Refrigerator ...                                               \n",
       "20470  KitchenAid 25.8-cu ft 5-Door French Door Refri...                                               \n",
       "20471  GE Profile Keurig K-CUP Brewing System 18.66-c...                                               \n",
       "20472  GE 25.3-cu ft Side-by-Side Refrigerator with I...                                               \n",
       "\n",
       "      '25.3':2 'by':7 'cu':3 'fingerprint':14 'fingerprint-resistant':13 'ft':4 'ge':1 'ice':11 'maker':12 'refrigerator':9 'resistant':15 'side':6,8 'side-by-side':5 'stainless':16 'steel':17 'with':10  \\\n",
       "20468  '18.2':2 'cu':3 'freezer':7 'ft':4 'monochroma...                                                                                                                                                     \n",
       "20469  '18.2':2 'cu':3 'freezer':7 'ft':4 'ice':10 'm...                                                                                                                                                     \n",
       "20470  '25.8':2 '5':5 'black':16 'cu':3 'door':6,8 'f...                                                                                                                                                     \n",
       "20471  '18.66':9 'brewing':7 'cu':10 'cup':6 'door':1...                                                                                                                                                     \n",
       "20472  '25.3':2 'by':7 'cu':3 'fingerprint':14 'finge...                                                                                                                                                     \n",
       "\n",
       "      {'brand': ['GE', 'Ge'], 'model': ['GSS25IYNFS', 'GSS25IYNFS'], 'style': ['Side-by-Side'], 'title': 'GE 25.3-cu ft Side-by-Side Refrigerator with Ice Maker (Fingerprint-Resistant Stainless Steel)', 'UNSPSC': ['52141500'], 'Built-In': ['No'], 'Warranty': ['1-year limited'], 'warranty': ['1-year limited'], 'Ice Maker': ['Single'], 'Sub-Brand': ['N/A'], 'Depth Type': ['Standard-Depth'], 'Door Alarm': ['Yes'], 'Door Style': ['Contoured'], 'Frost-Free': ['Yes'], 'breadcrumb': ['Appliances', 'Refrigerators', 'Side-by-Side Refrigerators'], 'Handle Type': ['Standard'], 'Series Name': ['N/A'], 'Door Shelves': ['4'], 'Door Texture': ['Smooth'], 'Handle Color': ['Stainless steel'], 'Hidden Hinge': ['Yes'], 'Hub Required': ['No'], 'ADA Compliant': ['No'], 'Cabinet Color': ['Gray'], 'Freezer Light': ['Yes'], 'See-Thru Door': ['No'], 'Shelf Options': ['Adjustable spillproof sliding glass shelves'], 'Air Filtration': ['Yes'], 'Safety Listing': ['UL safety listing'], 'Works with iOS': ['No'], 'Dispenser Light': ['Yes'], 'Freezer Baskets': ['2'], 'Freezer Shelves': ['3'], 'Door within Door': ['No'], \"Lowe's Exclusive\": ['No'], 'Toe Grille Color': ['Gray'], 'Voice Controlled': ['No'], 'Water Filtration': ['Yes'], 'voice_controlled': ['No'], 'App Compatibility': ['No'], 'Dispenser Options': ['Filtered water and cubed/crushed ice'], 'Freezer Door Bins': ['0'], 'Refrigerator Size': ['Large (>36-in)'], 'Snack/Deli Drawer': ['No'], 'CEE Tier Qualified': ['N/A'], 'Child Safety Locks': ['Yes'], 'Works with Android': ['No'], 'Gallon Door Storage': ['Yes'], 'Wi-Fi Compatibility': ['No'], 'Freezer Door Shelves': ['5'], 'Actual Width (Inches)': ['36.25'], 'Common Width (Inches)': ['36'], 'ENERGY STAR Certified': ['No'], 'Fingerprint-Resistant': ['Yes'], 'Appliance Color/Finish': ['Stainless steel'], 'Water Filter Indicator': ['Yes'], 'Works with SmartThings': ['No'], 'Bluetooth Compatibility': ['No'], 'Works with Amazon Alexa': ['No'], 'Approved for Outdoor Use': ['No'], 'Space-Saving In-Door Ice': ['No'], 'Works with Apple HomeKit': ['No'], 'Manufacturer Color/Finish': ['Stainless Steel'], 'Custom Door Kit Compatible': ['No'], 'Depth (Less Door) (Inches)': ['28.5'], 'Freezer Capacity (Cu. Feet)': ['9.6'], 'Overall Capacity (Cu. Feet)': ['25.3'], 'Humidity-Controlled Crispers': ['1'], 'Depth with Door Open (Inches)': ['51.125'], 'Matching Air Filter (Model #)': ['N/A'], 'Temperature Controlled Drawer': ['No'], 'Dual Evaporator Cooling System': ['No'], 'Electronic Temperature Control': ['Yes'], 'Height to Top of Case (Inches)': ['68.75'], 'Height to Top of Door (Inches)': ['70.125'], 'Refrigerator Interior Lighting': ['LED'], 'Works with the Google Assistant': ['No'], 'CA Residents: Prop 65 Warning(s)': ['Yes'], 'Refrigerator Capacity (Cu. Feet)': ['15.7'], 'Depth (Excluding Handles) (Inches)': ['32.25'], 'Depth (Including Handles) (Inches)': ['33.875'], 'Compatible Ice Maker Model Number(s)': ['Factory-Installed'], 'Height to Top of Door Hinge (Inches)': ['69.75'], 'Matching Replacement Water Filter Model': ['XWF']}  \\\n",
       "20468  {'brand': ['Whirlpool', 'Whirlpool'], 'model':...                                                                                                                                                                                                                                                                                                                                                                                                                                                                                                                                                                                                                                                                                                                                                                                                                                                                                                                                                                                                                                                                                                                                                                                                                                                                                                                                                                                                                                                                                                                                                                                                                                                                                                                                                                                                                                                                                                                                                                                                                                                                                                                                                                                                                                                                                                                                                                                                                                                                                                                                                                                                                                                                                                                                                                                                                                                                                                                                                                                                                                                                                                                  \n",
       "20469  {'brand': ['Whirlpool', 'Whirlpool'], 'model':...                                                                                                                                                                                                                                                                                                                                                                                                                                                                                                                                                                                                                                                                                                                                                                                                                                                                                                                                                                                                                                                                                                                                                                                                                                                                                                                                                                                                                                                                                                                                                                                                                                                                                                                                                                                                                                                                                                                                                                                                                                                                                                                                                                                                                                                                                                                                                                                                                                                                                                                                                                                                                                                                                                                                                                                                                                                                                                                                                                                                                                                                                                                  \n",
       "20470  {'Model': ['KRMF706EBS'], 'brand': ['KitchenAi...                                                                                                                                                                                                                                                                                                                                                                                                                                                                                                                                                                                                                                                                                                                                                                                                                                                                                                                                                                                                                                                                                                                                                                                                                                                                                                                                                                                                                                                                                                                                                                                                                                                                                                                                                                                                                                                                                                                                                                                                                                                                                                                                                                                                                                                                                                                                                                                                                                                                                                                                                                                                                                                                                                                                                                                                                                                                                                                                                                                                                                                                                                                  \n",
       "20471  {'Model': ['PFE28PYNFS'], 'brand': ['GE', 'Ge'...                                                                                                                                                                                                                                                                                                                                                                                                                                                                                                                                                                                                                                                                                                                                                                                                                                                                                                                                                                                                                                                                                                                                                                                                                                                                                                                                                                                                                                                                                                                                                                                                                                                                                                                                                                                                                                                                                                                                                                                                                                                                                                                                                                                                                                                                                                                                                                                                                                                                                                                                                                                                                                                                                                                                                                                                                                                                                                                                                                                                                                                                                                                  \n",
       "20472  {'brand': ['GE', 'Ge'], 'model': ['GSS25IYNFS'...                                                                                                                                                                                                                                                                                                                                                                                                                                                                                                                                                                                                                                                                                                                                                                                                                                                                                                                                                                                                                                                                                                                                                                                                                                                                                                                                                                                                                                                                                                                                                                                                                                                                                                                                                                                                                                                                                                                                                                                                                                                                                                                                                                                                                                                                                                                                                                                                                                                                                                                                                                                                                                                                                                                                                                                                                                                                                                                                                                                                                                                                                                                  \n",
       "\n",
       "                                       Functional  \\\n",
       "20468                               Easy to clean   \n",
       "20469                               Easy to clean   \n",
       "20470  Love the look, quality a bit disappointing   \n",
       "20471                 Love the Keurig feature!!!!   \n",
       "20472                                  Functional   \n",
       "\n",
       "      Pros: fingerprint resistant so you don't have to constantly wipe it down. Drawers are good size and are plentiful. Water dispenser works great. Cons: it's noisy when making ice to the point you think one thing is wrong with it.  \\\n",
       "20468  I like it very much\\r\\nBut I haven’t figured o...                                                                                                                                                                                    \n",
       "20469  I like it very much\\r\\nBut I haven’t figured o...                                                                                                                                                                                    \n",
       "20470  I loved the look and style but when I got the ...                                                                                                                                                                                    \n",
       "20471  We are so happy with this fridge. Love the LED...                                                                                                                                                                                    \n",
       "20472  Pros: fingerprint resistant so you don't have ...                                                                                                                                                                                    \n",
       "\n",
       "       3.00            ['1000859768', '1000859852']  \n",
       "20468     4  ['1000940596', '50285239', '50285241']  \n",
       "20469     4  ['1000940596', '50285239', '50285241']  \n",
       "20470     3                          ['1000029093']  \n",
       "20471     5                          ['1002619128']  \n",
       "20472  3.00            ['1000859768', '1000859852']  "
      ]
     },
     "execution_count": 148,
     "metadata": {},
     "output_type": "execute_result"
    }
   ],
   "source": [
    "temp.reset_index(inplace=True)\n",
    "temp.drop(columns='index', inplace=True)\n",
    "temp.tail()"
   ]
  },
  {
   "cell_type": "code",
   "execution_count": 149,
   "metadata": {
    "scrolled": true
   },
   "outputs": [
    {
     "data": {
      "text/plain": [
       "Index(['Company', 'Product', 'Website Path', 'Brand', 'URL', 'ID',\n",
       "       'Description', 'Technical Features', 'General Features', 'Comment#1',\n",
       "       'Comment#2', 'Rating', 'Available Colors'],\n",
       "      dtype='object')"
      ]
     },
     "execution_count": 149,
     "metadata": {},
     "output_type": "execute_result"
    }
   ],
   "source": [
    "temp.columns = new_columns\n",
    "temp.columns"
   ]
  },
  {
   "cell_type": "markdown",
   "metadata": {},
   "source": [
    "Vo muda o nome de algumas colunas só pra ficar mais correto"
   ]
  },
  {
   "cell_type": "code",
   "execution_count": 150,
   "metadata": {},
   "outputs": [],
   "source": [
    "temp.rename(columns={'Company':'Website'}, inplace=True)"
   ]
  },
  {
   "cell_type": "code",
   "execution_count": 151,
   "metadata": {
    "scrolled": true
   },
   "outputs": [
    {
     "data": {
      "text/html": [
       "<div>\n",
       "<style scoped>\n",
       "    .dataframe tbody tr th:only-of-type {\n",
       "        vertical-align: middle;\n",
       "    }\n",
       "\n",
       "    .dataframe tbody tr th {\n",
       "        vertical-align: top;\n",
       "    }\n",
       "\n",
       "    .dataframe thead th {\n",
       "        text-align: right;\n",
       "    }\n",
       "</style>\n",
       "<table border=\"1\" class=\"dataframe\">\n",
       "  <thead>\n",
       "    <tr style=\"text-align: right;\">\n",
       "      <th></th>\n",
       "      <th>Website</th>\n",
       "      <th>Product</th>\n",
       "      <th>Website Path</th>\n",
       "      <th>Brand</th>\n",
       "      <th>URL</th>\n",
       "      <th>ID</th>\n",
       "      <th>Description</th>\n",
       "      <th>Technical Features</th>\n",
       "      <th>General Features</th>\n",
       "      <th>Comment#1</th>\n",
       "      <th>Comment#2</th>\n",
       "      <th>Rating</th>\n",
       "      <th>Available Colors</th>\n",
       "    </tr>\n",
       "  </thead>\n",
       "  <tbody>\n",
       "    <tr>\n",
       "      <th>0</th>\n",
       "      <td>lowes</td>\n",
       "      <td>Refrigerators</td>\n",
       "      <td>[\"Appliances\", \"Refrigerators\", \"Side-by-Side ...</td>\n",
       "      <td>General Electric</td>\n",
       "      <td>https://www.lowes.com/pd/GE-25-1-cu-ft-Side-by...</td>\n",
       "      <td>1000859852</td>\n",
       "      <td>GE 25.1-cu ft Side-by-Side Refrigerator with I...</td>\n",
       "      <td>'25.1':2 'black':13 'by':7 'cu':3 'ft':4 'ge':...</td>\n",
       "      <td>{'brand': ['GE', 'Ge'], 'model': ['GSS25IBNTS'...</td>\n",
       "      <td>Functional</td>\n",
       "      <td>Pros: fingerprint resistant so you don't have ...</td>\n",
       "      <td>3</td>\n",
       "      <td>['1000859768', '1000859852']</td>\n",
       "    </tr>\n",
       "    <tr>\n",
       "      <th>1</th>\n",
       "      <td>lowes</td>\n",
       "      <td>Refrigerators</td>\n",
       "      <td>[\"Appliances\", \"Refrigerators\", \"French Door R...</td>\n",
       "      <td>Frigidaire</td>\n",
       "      <td>https://www.lowes.com/pd/Frigidaire-Gallery-21...</td>\n",
       "      <td>1000289721</td>\n",
       "      <td>Frigidaire Gallery 21.7-cu ft Counter-depth Fr...</td>\n",
       "      <td>'21.7':3 'counter':7 'counter-depth':6 'cu':4 ...</td>\n",
       "      <td>{'brand': ['Frigidaire', 'Frigidaire'], 'model...</td>\n",
       "      <td>Ample Door Storage User Friendly Visibility</td>\n",
       "      <td>Feels solid and “upscale”. Excellent design of...</td>\n",
       "      <td>5</td>\n",
       "      <td>['1000289721']</td>\n",
       "    </tr>\n",
       "    <tr>\n",
       "      <th>2</th>\n",
       "      <td>bestbuy_us</td>\n",
       "      <td>Refrigerators</td>\n",
       "      <td>[\"Best Buy\", \"Appliances\", \"Refrigerators\", \"B...</td>\n",
       "      <td>Whirlpool</td>\n",
       "      <td>https://www.bestbuy.com/site/whirlpool-21-9-cu...</td>\n",
       "      <td>3928039</td>\n",
       "      <td>Whirlpool - 21.9 Cu. Ft. Bottom-Freezer Refrig...</td>\n",
       "      <td>'21.9':2 'bottom':6 'bottom-freezer':5 'cu':3 ...</td>\n",
       "      <td>{'brand': ['whirlpool'], 'Other_UPC': ['883049...</td>\n",
       "      <td>So much room</td>\n",
       "      <td>I love this fridge. So much room over having a...</td>\n",
       "      <td>5</td>\n",
       "      <td>['3928039', '3928048', '3979801', '6112639']</td>\n",
       "    </tr>\n",
       "    <tr>\n",
       "      <th>3</th>\n",
       "      <td>bestbuy_us</td>\n",
       "      <td>Refrigerators</td>\n",
       "      <td>[\"Best Buy\", \"Appliances\", \"Refrigerators\", \"B...</td>\n",
       "      <td>Whirlpool</td>\n",
       "      <td>https://www.bestbuy.com/site/whirlpool-21-9-cu...</td>\n",
       "      <td>3979801</td>\n",
       "      <td>Whirlpool - 21.9 Cu. Ft. Bottom-Freezer Refrig...</td>\n",
       "      <td>'21.9':2 'black':9 'bottom':6 'bottom-freezer'...</td>\n",
       "      <td>{'brand': ['whirlpool'], 'Other_UPC': ['883049...</td>\n",
       "      <td>So much room</td>\n",
       "      <td>I love this fridge. So much room over having a...</td>\n",
       "      <td>5</td>\n",
       "      <td>['3928039', '3928048', '3979801', '6112639']</td>\n",
       "    </tr>\n",
       "    <tr>\n",
       "      <th>4</th>\n",
       "      <td>bestbuy_us</td>\n",
       "      <td>Refrigerators</td>\n",
       "      <td>[\"Best Buy\", \"Appliances\", \"Refrigerators\", \"B...</td>\n",
       "      <td>Whirlpool</td>\n",
       "      <td>https://www.bestbuy.com/site/whirlpool-22-1-cu...</td>\n",
       "      <td>6112639</td>\n",
       "      <td>Whirlpool - 22.1 Cu. Ft. Bottom-Freezer Refrig...</td>\n",
       "      <td>'22.1':2 'black':9 'bottom':6 'bottom-freezer'...</td>\n",
       "      <td>{'brand': ['whirlpool'], 'Other_UPC': ['883049...</td>\n",
       "      <td>So much room</td>\n",
       "      <td>I love this fridge. So much room over having a...</td>\n",
       "      <td>5</td>\n",
       "      <td>['3928039', '3928048', '3979801', '6112639']</td>\n",
       "    </tr>\n",
       "  </tbody>\n",
       "</table>\n",
       "</div>"
      ],
      "text/plain": [
       "      Website        Product  \\\n",
       "0       lowes  Refrigerators   \n",
       "1       lowes  Refrigerators   \n",
       "2  bestbuy_us  Refrigerators   \n",
       "3  bestbuy_us  Refrigerators   \n",
       "4  bestbuy_us  Refrigerators   \n",
       "\n",
       "                                        Website Path             Brand  \\\n",
       "0  [\"Appliances\", \"Refrigerators\", \"Side-by-Side ...  General Electric   \n",
       "1  [\"Appliances\", \"Refrigerators\", \"French Door R...        Frigidaire   \n",
       "2  [\"Best Buy\", \"Appliances\", \"Refrigerators\", \"B...         Whirlpool   \n",
       "3  [\"Best Buy\", \"Appliances\", \"Refrigerators\", \"B...         Whirlpool   \n",
       "4  [\"Best Buy\", \"Appliances\", \"Refrigerators\", \"B...         Whirlpool   \n",
       "\n",
       "                                                 URL          ID  \\\n",
       "0  https://www.lowes.com/pd/GE-25-1-cu-ft-Side-by...  1000859852   \n",
       "1  https://www.lowes.com/pd/Frigidaire-Gallery-21...  1000289721   \n",
       "2  https://www.bestbuy.com/site/whirlpool-21-9-cu...     3928039   \n",
       "3  https://www.bestbuy.com/site/whirlpool-21-9-cu...     3979801   \n",
       "4  https://www.bestbuy.com/site/whirlpool-22-1-cu...     6112639   \n",
       "\n",
       "                                         Description  \\\n",
       "0  GE 25.1-cu ft Side-by-Side Refrigerator with I...   \n",
       "1  Frigidaire Gallery 21.7-cu ft Counter-depth Fr...   \n",
       "2  Whirlpool - 21.9 Cu. Ft. Bottom-Freezer Refrig...   \n",
       "3  Whirlpool - 21.9 Cu. Ft. Bottom-Freezer Refrig...   \n",
       "4  Whirlpool - 22.1 Cu. Ft. Bottom-Freezer Refrig...   \n",
       "\n",
       "                                  Technical Features  \\\n",
       "0  '25.1':2 'black':13 'by':7 'cu':3 'ft':4 'ge':...   \n",
       "1  '21.7':3 'counter':7 'counter-depth':6 'cu':4 ...   \n",
       "2  '21.9':2 'bottom':6 'bottom-freezer':5 'cu':3 ...   \n",
       "3  '21.9':2 'black':9 'bottom':6 'bottom-freezer'...   \n",
       "4  '22.1':2 'black':9 'bottom':6 'bottom-freezer'...   \n",
       "\n",
       "                                    General Features  \\\n",
       "0  {'brand': ['GE', 'Ge'], 'model': ['GSS25IBNTS'...   \n",
       "1  {'brand': ['Frigidaire', 'Frigidaire'], 'model...   \n",
       "2  {'brand': ['whirlpool'], 'Other_UPC': ['883049...   \n",
       "3  {'brand': ['whirlpool'], 'Other_UPC': ['883049...   \n",
       "4  {'brand': ['whirlpool'], 'Other_UPC': ['883049...   \n",
       "\n",
       "                                     Comment#1  \\\n",
       "0                                   Functional   \n",
       "1  Ample Door Storage User Friendly Visibility   \n",
       "2                                 So much room   \n",
       "3                                 So much room   \n",
       "4                                 So much room   \n",
       "\n",
       "                                           Comment#2 Rating  \\\n",
       "0  Pros: fingerprint resistant so you don't have ...      3   \n",
       "1  Feels solid and “upscale”. Excellent design of...      5   \n",
       "2  I love this fridge. So much room over having a...      5   \n",
       "3  I love this fridge. So much room over having a...      5   \n",
       "4  I love this fridge. So much room over having a...      5   \n",
       "\n",
       "                               Available Colors  \n",
       "0                  ['1000859768', '1000859852']  \n",
       "1                                ['1000289721']  \n",
       "2  ['3928039', '3928048', '3979801', '6112639']  \n",
       "3  ['3928039', '3928048', '3979801', '6112639']  \n",
       "4  ['3928039', '3928048', '3979801', '6112639']  "
      ]
     },
     "execution_count": 151,
     "metadata": {},
     "output_type": "execute_result"
    }
   ],
   "source": [
    "data = temp.copy()\n",
    "data.head(5)"
   ]
  },
  {
   "cell_type": "markdown",
   "metadata": {},
   "source": [
    "## 1.2 -  Parsear a coluna General Features, tornando o que é uma string, um objeto para facilitar a vida"
   ]
  },
  {
   "cell_type": "code",
   "execution_count": 152,
   "metadata": {
    "scrolled": true
   },
   "outputs": [
    {
     "name": "stdout",
     "output_type": "stream",
     "text": [
      "{'brand': ['GE', 'Ge'], 'model': ['GSS25IBNTS', 'GSS25IBNTS'], 'style': ['Side-by-Side'], 'title': 'GE 25.1-cu ft Side-by-Side Refrigerator with Ice Maker (Black Stainless)', 'UNSPSC': ['52141500'], 'Built-In': ['No'], 'Warranty': ['1-year limited'], 'warranty': ['1-year limited'], 'Ice Maker': ['Single'], 'Sub-Brand': ['N/A'], 'Depth Type': ['Standard-Depth'], 'Door Alarm': ['Yes'], 'Door Style': ['Contoured'], 'Frost-Free': ['Yes'], 'breadcrumb': ['Appliances', 'Refrigerators', 'Side-by-Side Refrigerators'], 'Handle Type': ['Standard'], 'Series Name': ['N/A'], 'Door Shelves': ['4'], 'Door Texture': ['Smooth'], 'Handle Color': ['Black'], 'Hidden Hinge': ['Yes'], 'Hub Required': ['No'], 'ADA Compliant': ['No'], 'Cabinet Color': ['Gray'], 'Freezer Light': ['Yes'], 'See-Thru Door': ['No'], 'Shelf Options': ['Adjustable spillproof sliding glass shelves'], 'Air Filtration': ['Yes'], 'Safety Listing': ['UL safety listing'], 'Works with iOS': ['No'], 'Dispenser Light': ['Yes'], 'Freezer Baskets': ['2'], 'Freezer Shelves': ['3'], 'Door within Door': ['No'], \"Lowe's Exclusive\": ['No'], 'Toe Grille Color': ['Black'], 'Voice Controlled': ['No'], 'Water Filtration': ['Yes'], 'voice_controlled': ['No'], 'App Compatibility': ['No'], 'Dispenser Options': ['Filtered water and cubed/crushed ice'], 'Freezer Door Bins': ['0'], 'Refrigerator Size': ['Medium (33 - 36-in)'], 'Snack/Deli Drawer': ['No'], 'CEE Tier Qualified': ['N/A'], 'Child Safety Locks': ['Yes'], 'Works with Android': ['No'], 'Gallon Door Storage': ['Yes'], 'Wi-Fi Compatibility': ['No'], 'Freezer Door Shelves': ['5'], 'Actual Width (Inches)': ['36.25'], 'Common Width (Inches)': ['36'], 'ENERGY STAR Certified': ['No'], 'Fingerprint-Resistant': ['No'], 'Appliance Color/Finish': ['Black stainless steel'], 'Water Filter Indicator': ['Yes'], 'Works with SmartThings': ['No'], 'Bluetooth Compatibility': ['No'], 'Works with Amazon Alexa': ['No'], 'Approved for Outdoor Use': ['No'], 'Space-Saving In-Door Ice': ['No'], 'Works with Apple HomeKit': ['No'], 'Manufacturer Color/Finish': ['Black Stainless'], 'Custom Door Kit Compatible': ['No'], 'Depth (Less Door) (Inches)': ['28.25'], 'Freezer Capacity (Cu. Feet)': ['8.91'], 'Overall Capacity (Cu. Feet)': ['25.1'], 'Humidity-Controlled Crispers': ['1'], 'Depth with Door Open (Inches)': ['50.5'], 'Matching Air Filter (Model #)': ['N/A'], 'Temperature Controlled Drawer': ['Yes'], 'Dual Evaporator Cooling System': ['No'], 'Electronic Temperature Control': ['Yes'], 'Height to Top of Case (Inches)': ['69'], 'Height to Top of Door (Inches)': ['69.5'], 'Refrigerator Interior Lighting': ['LED'], 'Works with the Google Assistant': ['No'], 'CA Residents: Prop 65 Warning(s)': ['Yes'], 'Refrigerator Capacity (Cu. Feet)': ['16.23'], 'Depth (Excluding Handles) (Inches)': ['32.75'], 'Depth (Including Handles) (Inches)': ['34.75'], 'Compatible Ice Maker Model Number(s)': ['Factory-installed'], 'Height to Top of Door Hinge (Inches)': ['69.5'], 'Matching Replacement Water Filter Model': ['XWFE']}\n"
     ]
    }
   ],
   "source": [
    "general_features = data['General Features']\n",
    "print(general_features[0])"
   ]
  },
  {
   "cell_type": "code",
   "execution_count": 153,
   "metadata": {},
   "outputs": [],
   "source": [
    "def get_features(general_features):\n",
    "\n",
    "    features = {}\n",
    "    count = 0\n",
    "\n",
    "    x = general_features.split('], ')\n",
    "    for string in x:\n",
    "        y = string.strip('{}')\n",
    "        if(y.find('\"') == -1):\n",
    "            y = y.split(\"': \")\n",
    "        else:\n",
    "            y = y.split('\": ')\n",
    "        for text in y:\n",
    "            if(count==0):\n",
    "                count=1\n",
    "                if(text.strip(\" '\") == 'title'):\n",
    "                    count= 0 \n",
    "                    continue\n",
    "                if(text.find('[') == -1):\n",
    "                    key = text.strip(\" '\").lower()\n",
    "                    features[key]=None\n",
    "            else:\n",
    "                count=0\n",
    "                ## Vo ignora algumas colunas que não satisfazem o padrão, porque uma dela é sobre o Title, \n",
    "                ## que indica o mesmo que a coluna description\n",
    "                if(text.find('[') == -1):\n",
    "                    continue\n",
    "                else:\n",
    "                    value = text.strip('[ ').split(',')\n",
    "                    features[key] = value\n",
    "    for key, value in features.items():\n",
    "        if(key.find('unspsc') != -1):\n",
    "            features['unspsc'] = features.pop(key)\n",
    "            break\n",
    "    return features"
   ]
  },
  {
   "cell_type": "code",
   "execution_count": 155,
   "metadata": {
    "scrolled": true
   },
   "outputs": [
    {
     "data": {
      "text/plain": [
       "dict_keys(['brand', 'model', 'style', 'built-in', 'warranty', 'ice maker', 'sub-brand', 'depth type', 'door alarm', 'door style', 'frost-free', 'breadcrumb', 'handle type', 'series name', 'door shelves', 'door texture', 'handle color', 'hidden hinge', 'hub required', 'ada compliant', 'cabinet color', 'freezer light', 'see-thru door', 'shelf options', 'air filtration', 'safety listing', 'works with ios', 'dispenser light', 'freezer baskets', 'freezer shelves', 'door within door', '\"lowe\\'s exclusive', 'toe grille color', 'voice controlled', 'water filtration', 'voice_controlled', 'app compatibility', 'dispenser options', 'freezer door bins', 'refrigerator size', 'snack/deli drawer', 'cee tier qualified', 'child safety locks', 'works with android', 'gallon door storage', 'wi-fi compatibility', 'freezer door shelves', 'actual width (inches)', 'common width (inches)', 'energy star certified', 'fingerprint-resistant', 'appliance color/finish', 'water filter indicator', 'works with smartthings', 'bluetooth compatibility', 'works with amazon alexa', 'approved for outdoor use', 'space-saving in-door ice', 'works with apple homekit', 'manufacturer color/finish', 'custom door kit compatible', 'depth (less door) (inches)', 'freezer capacity (cu. feet)', 'overall capacity (cu. feet)', 'humidity-controlled crispers', 'depth with door open (inches)', 'matching air filter (model #)', 'temperature controlled drawer', 'dual evaporator cooling system', 'electronic temperature control', 'height to top of case (inches)', 'height to top of door (inches)', 'refrigerator interior lighting', 'works with the google assistant', 'ca residents: prop 65 warning(s)', 'refrigerator capacity (cu. feet)', 'depth (excluding handles) (inches)', 'depth (including handles) (inches)', 'compatible ice maker model number(s)', 'height to top of door hinge (inches)', 'matching replacement water filter model', 'unspsc'])"
      ]
     },
     "execution_count": 155,
     "metadata": {},
     "output_type": "execute_result"
    }
   ],
   "source": [
    "temp = data.copy()\n",
    "count = 0\n",
    "for row in general_features:\n",
    "    features = get_features(row)\n",
    "    temp.at[count, 'General Features'] =  features\n",
    "    count+=1\n",
    "temp['General Features'][0].keys()"
   ]
  },
  {
   "cell_type": "code",
   "execution_count": 156,
   "metadata": {},
   "outputs": [],
   "source": [
    "data = temp.copy()"
   ]
  },
  {
   "cell_type": "markdown",
   "metadata": {},
   "source": [
    "## 2 - Explorando mais os dados "
   ]
  },
  {
   "cell_type": "markdown",
   "metadata": {},
   "source": [
    "### 2.1 - Quantos produtos eu tenho retirados de cada site?"
   ]
  },
  {
   "cell_type": "code",
   "execution_count": 158,
   "metadata": {},
   "outputs": [],
   "source": [
    "websites = data['Website'].unique()"
   ]
  },
  {
   "cell_type": "code",
   "execution_count": 159,
   "metadata": {
    "scrolled": true
   },
   "outputs": [
    {
     "data": {
      "text/plain": [
       "Website\n",
       "lowes              9518\n",
       "homedepot          4058\n",
       "bestbuy_us         2406\n",
       "whirlpool          1241\n",
       "walmart_us          993\n",
       "costco_us           738\n",
       "ge_appliance_us     490\n",
       "lg_us               453\n",
       "samsclub            200\n",
       "maytag              187\n",
       "samsung_us          146\n",
       "target               40\n",
       "magalu                3\n",
       "Name: Product, dtype: int64"
      ]
     },
     "execution_count": 159,
     "metadata": {},
     "output_type": "execute_result"
    }
   ],
   "source": [
    "num_products_per_website = data.groupby(['Website'])['Product'].count().sort_values(ascending=False)\n",
    "num_products_per_website"
   ]
  },
  {
   "cell_type": "code",
   "execution_count": 160,
   "metadata": {
    "scrolled": true
   },
   "outputs": [
    {
     "data": {
      "image/png": "[encoded data removed]",
      "text/plain": [
       "<Figure size 864x576 with 1 Axes>"
      ]
     },
     "metadata": {
      "needs_background": "light"
     },
     "output_type": "display_data"
    }
   ],
   "source": [
    "plt.figure(figsize=(12,8))\n",
    "sns.set(style=\"whitegrid\")\n",
    "\n",
    "plt.title('Número de Produtos Coletados por Website', fontdict={'fontsize': 20, 'fontweight': 'bold'})\n",
    "\n",
    "barplot = sns.barplot(x=num_products_per_website.index, \n",
    "            y=num_products_per_website.values,\n",
    "            palette=sns.color_palette('BuGn_r', n_colors=len(num_products_per_website)+2))\n",
    "plt.xticks(rotation=45)\n",
    "plt.show()"
   ]
  },
  {
   "cell_type": "markdown",
   "metadata": {},
   "source": [
    "### 2.2 - Quantos produtos tenho de cada Marca?"
   ]
  },
  {
   "cell_type": "code",
   "execution_count": 161,
   "metadata": {},
   "outputs": [],
   "source": [
    "brands = data['Brand'].unique()"
   ]
  },
  {
   "cell_type": "code",
   "execution_count": 165,
   "metadata": {},
   "outputs": [
    {
     "data": {
      "text/plain": [
       "Brand\n",
       "Whirlpool             6608\n",
       "General Electric      4897\n",
       "Frigidaire            2926\n",
       "Samsung               1854\n",
       "LG                    1788\n",
       "Kitchenaid             840\n",
       "Maytag                 436\n",
       "Cafe                   303\n",
       "Insignia™              161\n",
       "Frigidaire Gallery     121\n",
       "Name: Product, dtype: int64"
      ]
     },
     "execution_count": 165,
     "metadata": {},
     "output_type": "execute_result"
    }
   ],
   "source": [
    "num_products_per_brand = data.groupby(['Brand'])['Product'].count().sort_values(ascending=False)\n",
    "ten_most_brands = num_products_per_brand.head(10)\n",
    "ten_most_brands"
   ]
  },
  {
   "cell_type": "code",
   "execution_count": 168,
   "metadata": {},
   "outputs": [
    {
     "data": {
      "image/png": "[encoded data removed]",
      "text/plain": [
       "<Figure size 1152x576 with 1 Axes>"
      ]
     },
     "metadata": {},
     "output_type": "display_data"
    }
   ],
   "source": [
    "plt.figure(figsize=(16,8))\n",
    "sns.set(style=\"whitegrid\")\n",
    "\n",
    "plt.title('Número de Produtos por Marca - 10 Maiores', fontdict={'fontsize': 20, 'fontweight': 'bold'})\n",
    "\n",
    "barplot = sns.barplot(x=ten_most_brands.index, \n",
    "            y=ten_most_brands.values,\n",
    "            palette=sns.color_palette('BuGn_r', n_colors=len(ten_most_brands)+2))\n",
    "plt.xticks(rotation=45)\n",
    "plt.show()"
   ]
  },
  {
   "cell_type": "markdown",
   "metadata": {},
   "source": [
    "Tenho muita marca, então a vizualização não ficou muito boa!! Vou pegar só as 10 maiores"
   ]
  },
  {
   "cell_type": "markdown",
   "metadata": {},
   "source": [
    "### 2.3 - Qual o menor e o maior valor de Rating?"
   ]
  },
  {
   "cell_type": "code",
   "execution_count": 170,
   "metadata": {
    "scrolled": true
   },
   "outputs": [],
   "source": [
    "ratings = data['Rating']"
   ]
  },
  {
   "cell_type": "code",
   "execution_count": 171,
   "metadata": {
    "scrolled": true
   },
   "outputs": [
    {
     "data": {
      "text/plain": [
       "count     20473.0\n",
       "unique        6.0\n",
       "top           5.0\n",
       "freq      11374.0\n",
       "Name: Rating, dtype: float64"
      ]
     },
     "execution_count": 171,
     "metadata": {},
     "output_type": "execute_result"
    }
   ],
   "source": [
    "ratings.describe()"
   ]
  },
  {
   "cell_type": "code",
   "execution_count": 172,
   "metadata": {},
   "outputs": [
    {
     "data": {
      "text/plain": [
       "array([3.0, 5.0, 2.0, 4.0, 1.0, '3.00'], dtype=object)"
      ]
     },
     "execution_count": 172,
     "metadata": {},
     "output_type": "execute_result"
    }
   ],
   "source": [
    "ratings.unique()"
   ]
  },
  {
   "cell_type": "markdown",
   "metadata": {},
   "source": [
    "Tenho um Outlier que eu errei ao inserir a nova linha lá em cima"
   ]
  },
  {
   "cell_type": "code",
   "execution_count": 173,
   "metadata": {},
   "outputs": [
    {
     "data": {
      "text/plain": [
       "array([3., 5., 2., 4., 1.])"
      ]
     },
     "execution_count": 173,
     "metadata": {},
     "output_type": "execute_result"
    }
   ],
   "source": [
    "data['Rating'] = data['Rating'].astype(float)\n",
    "data['Rating'].unique()"
   ]
  },
  {
   "cell_type": "code",
   "execution_count": 174,
   "metadata": {
    "scrolled": true
   },
   "outputs": [
    {
     "data": {
      "text/plain": [
       "count    20473.000000\n",
       "mean         4.229180\n",
       "std          1.122322\n",
       "min          1.000000\n",
       "25%          4.000000\n",
       "50%          5.000000\n",
       "75%          5.000000\n",
       "max          5.000000\n",
       "Name: Rating, dtype: float64"
      ]
     },
     "execution_count": 174,
     "metadata": {},
     "output_type": "execute_result"
    }
   ],
   "source": [
    "ratings = data['Rating']\n",
    "ratings.describe()"
   ]
  },
  {
   "cell_type": "code",
   "execution_count": 175,
   "metadata": {},
   "outputs": [
    {
     "data": {
      "text/plain": [
       "Rating\n",
       "5.0    11374\n",
       "4.0     5584\n",
       "3.0     1584\n",
       "1.0     1236\n",
       "2.0      695\n",
       "Name: Website, dtype: int64"
      ]
     },
     "execution_count": 175,
     "metadata": {},
     "output_type": "execute_result"
    }
   ],
   "source": [
    "num_votes_per_rating = data.groupby(['Rating'])['Website'].count().sort_values(ascending=False)\n",
    "num_votes_per_rating"
   ]
  },
  {
   "cell_type": "markdown",
   "metadata": {},
   "source": [
    "### Insights dessa parte:\n",
    "\n",
    "- Não posso não dar nenhuma estrela de avaliação, nem dar estrelas quebradas, i.e, 2.5, 3.5, etc. Pelo menos não tem nenhum desses casos nesse dataset.\n",
    "\n",
    "- A nota maior possível é 5.\n",
    "\n",
    "- Eu tenho muito mais avaliações positivas do que negativas. Se contar notas 4 e 5 positivas, eu tenho mais de 16.000 avaliações positivas de um conjunto de 20.000."
   ]
  },
  {
   "cell_type": "markdown",
   "metadata": {},
   "source": [
    "Agora eu queria ver essa distribuição de notas por site e por empresa. Será que temos algum outlier ou algo assim?"
   ]
  },
  {
   "cell_type": "markdown",
   "metadata": {},
   "source": [
    "### 2.4 - Distribuição nas notas para cada uma das empresas. Vou pegar somente as 4 primeiras."
   ]
  },
  {
   "cell_type": "code",
   "execution_count": 176,
   "metadata": {},
   "outputs": [
    {
     "data": {
      "text/plain": [
       "Index(['lowes', 'homedepot', 'bestbuy_us', 'whirlpool'], dtype='object', name='Website')"
      ]
     },
     "execution_count": 176,
     "metadata": {},
     "output_type": "execute_result"
    }
   ],
   "source": [
    "websites = num_products_per_website.index\n",
    "websites[:4]"
   ]
  },
  {
   "cell_type": "code",
   "execution_count": 177,
   "metadata": {},
   "outputs": [
    {
     "name": "stderr",
     "output_type": "stream",
     "text": [
      "/home/joaogarcia/Documents/DataScience/venv/lib/python3.6/site-packages/matplotlib/__init__.py:886: MatplotlibDeprecationWarning: \n",
      "examples.directory is deprecated; in the future, examples will be found relative to the 'datapath' directory.\n",
      "  \"found relative to the 'datapath' directory.\".format(key))\n"
     ]
    },
    {
     "data": {
      "image/png": "[encoded data removed]",
      "text/plain": [
       "<Figure size 1152x1152 with 4 Axes>"
      ]
     },
     "metadata": {},
     "output_type": "display_data"
    }
   ],
   "source": [
    "count=1\n",
    "plt.figure(figsize = (16,16))\n",
    "for x in websites[:4]:\n",
    "    plt.subplot(2,2, count)\n",
    "    data[data['Website'] == x]['Rating'].plot(kind = 'hist')\n",
    "    plt.xlabel('Ratings')\n",
    "    plt.title(x, fontdict={'fontsize': 16, 'fontweight': 'bold'})\n",
    "    \n",
    "    count = count+1\n",
    "plt.show()"
   ]
  },
  {
   "cell_type": "markdown",
   "metadata": {},
   "source": [
    "Todos tem mais ou menos a mesma distribuição de notas. Será que aqueles com menos produtos, tem distribuições diferentes?"
   ]
  },
  {
   "cell_type": "code",
   "execution_count": 178,
   "metadata": {},
   "outputs": [
    {
     "data": {
      "image/png": "[encoded data removed]",
      "text/plain": [
       "<Figure size 1152x1152 with 4 Axes>"
      ]
     },
     "metadata": {},
     "output_type": "display_data"
    }
   ],
   "source": [
    "count=1\n",
    "plt.figure(figsize = (16,16))\n",
    "for x in websites[-4:]:\n",
    "    plt.subplot(2,2, count)\n",
    "    data[data['Website'] == x]['Rating'].plot(kind = 'hist')\n",
    "    plt.xlabel('Ratings')\n",
    "    plt.title(x, fontdict={'fontsize': 16, 'fontweight': 'bold'})\n",
    "    \n",
    "    count = count+1\n",
    "plt.show()"
   ]
  },
  {
   "cell_type": "markdown",
   "metadata": {},
   "source": [
    "Não há muita diferença, exceto pela Magalu que só tem 3 produtos votados então é bem complicado de fazer a distribuição corretamente"
   ]
  },
  {
   "cell_type": "code",
   "execution_count": 179,
   "metadata": {
    "scrolled": false
   },
   "outputs": [
    {
     "data": {
      "image/png": "[encoded data removed]",
      "text/plain": [
       "<Figure size 1152x1152 with 4 Axes>"
      ]
     },
     "metadata": {},
     "output_type": "display_data"
    }
   ],
   "source": [
    "count=1\n",
    "plt.figure(figsize = (16,16))\n",
    "for x in websites[:4]:\n",
    "    plt.subplot(2,2, count)\n",
    "    plt.title(x, fontdict={'fontsize': 16, 'fontweight': 'bold'})\n",
    "    \n",
    "    sns.boxplot(data = data[data['Website'] == x], x='Website', y= 'Rating')\n",
    "    \n",
    "    count = count+1\n",
    "plt.show()"
   ]
  },
  {
   "cell_type": "markdown",
   "metadata": {},
   "source": [
    "Alguns outliers mas nada demais, já era esperado, porque o primeiro quartil das notas já é nota 4, então é normal que notas abaixo disso se tornem outliers num boxplot"
   ]
  },
  {
   "cell_type": "markdown",
   "metadata": {},
   "source": [
    "### 2.5 - Distribuição nas notas para cada uma das marcas. Vou pegar somente as 4 primeiras."
   ]
  },
  {
   "cell_type": "code",
   "execution_count": 181,
   "metadata": {},
   "outputs": [
    {
     "data": {
      "text/plain": [
       "Index(['Whirlpool', 'General Electric', 'Frigidaire', 'Samsung'], dtype='object', name='Brand')"
      ]
     },
     "execution_count": 181,
     "metadata": {},
     "output_type": "execute_result"
    }
   ],
   "source": [
    "brands = num_products_per_brand.index\n",
    "brands[:4]"
   ]
  },
  {
   "cell_type": "code",
   "execution_count": 182,
   "metadata": {
    "scrolled": true
   },
   "outputs": [
    {
     "data": {
      "image/png": "[encoded data removed]",
      "text/plain": [
       "<Figure size 1152x1152 with 4 Axes>"
      ]
     },
     "metadata": {},
     "output_type": "display_data"
    }
   ],
   "source": [
    "count=1\n",
    "plt.figure(figsize = (16,16))\n",
    "for x in brands[:4]:\n",
    "    plt.subplot(2,2, count)\n",
    "    data[data['Brand'] == x]['Rating'].plot(kind = 'hist')\n",
    "    plt.xlabel('Ratings')\n",
    "    plt.title(x, fontdict={'fontsize': 16, 'fontweight': 'bold'})\n",
    "    \n",
    "    count = count+1\n",
    "plt.show()"
   ]
  },
  {
   "cell_type": "markdown",
   "metadata": {},
   "source": [
    "### 2.6 - Quais as marcas com as menores notas?"
   ]
  },
  {
   "cell_type": "code",
   "execution_count": 183,
   "metadata": {},
   "outputs": [],
   "source": [
    "worst_ratings = data.loc[data['Rating'] <= 2]"
   ]
  },
  {
   "cell_type": "code",
   "execution_count": 184,
   "metadata": {},
   "outputs": [],
   "source": [
    "worst_brands = worst_ratings.groupby('Brand')['ID'].count().sort_values(ascending=False)\n",
    "worst_brands = worst_brands.astype(float)"
   ]
  },
  {
   "cell_type": "code",
   "execution_count": 185,
   "metadata": {
    "scrolled": false
   },
   "outputs": [
    {
     "data": {
      "text/plain": [
       "Brand\n",
       "Coca-Cola             1.000000\n",
       "Avanti                1.000000\n",
       "Saba                  1.000000\n",
       "Thor Kitchen          0.800000\n",
       "Kalamera              0.500000\n",
       "Fisher & Paykel       0.500000\n",
       "Sunbeam               0.500000\n",
       "Café                  0.428571\n",
       "Summit Appliance      0.400000\n",
       "Danby                 0.333333\n",
       "Vinotemp              0.333333\n",
       "Wine Enthusiast       0.250000\n",
       "Newair                0.238095\n",
       "Whynter               0.222222\n",
       "Galanz                0.179487\n",
       "Samsung               0.163970\n",
       "Hisense               0.142857\n",
       "Magic Chef            0.141667\n",
       "Maytag                0.123853\n",
       "Amana                 0.123077\n",
       "LG                    0.120805\n",
       "Frigidaire Gallery    0.115702\n",
       "Hotpoint              0.111111\n",
       "Kitchenaid            0.109524\n",
       "Frigidaire            0.103554\n",
       "Rca                   0.090909\n",
       "Insignia™             0.086957\n",
       "Haier                 0.084746\n",
       "Cafe                  0.079208\n",
       "Whirlpool             0.077179\n",
       "Bosch                 0.068182\n",
       "General Electric      0.064529\n",
       "Name: ID, dtype: float64"
      ]
     },
     "execution_count": 185,
     "metadata": {},
     "output_type": "execute_result"
    }
   ],
   "source": [
    "for x in worst_brands.index:\n",
    "    worst_brands[x] = (float(worst_brands[x]) /float(num_products_per_brand[x]))\n",
    "worst_brands.sort_values(ascending=False)"
   ]
  },
  {
   "cell_type": "markdown",
   "metadata": {},
   "source": [
    "Muito dos numeros já era algo esperado. Mas o valor do Café parece algo interessante, vou ver se tem algo ali"
   ]
  },
  {
   "cell_type": "code",
   "execution_count": 186,
   "metadata": {
    "scrolled": true
   },
   "outputs": [
    {
     "data": {
      "text/plain": [
       "7"
      ]
     },
     "execution_count": 186,
     "metadata": {},
     "output_type": "execute_result"
    }
   ],
   "source": [
    "cafe = data.loc[data['Brand'] == 'Café']\n",
    "len(cafe)"
   ]
  },
  {
   "cell_type": "markdown",
   "metadata": {},
   "source": [
    "Nada demais mesmo. Só 7 valores, não pra analisar direito"
   ]
  },
  {
   "cell_type": "markdown",
   "metadata": {},
   "source": [
    "### 2.6 - Número de cores disponíveis pode melhorar a avaliação?"
   ]
  },
  {
   "cell_type": "markdown",
   "metadata": {},
   "source": [
    "### 2.6.1 - Criar uma coluna com o numero de cores"
   ]
  },
  {
   "cell_type": "code",
   "execution_count": 188,
   "metadata": {},
   "outputs": [
    {
     "data": {
      "text/plain": [
       "0                    ['1000859768', '1000859852']\n",
       "1                                  ['1000289721']\n",
       "2    ['3928039', '3928048', '3979801', '6112639']\n",
       "3    ['3928039', '3928048', '3979801', '6112639']\n",
       "4    ['3928039', '3928048', '3979801', '6112639']\n",
       "Name: Available Colors, dtype: object"
      ]
     },
     "execution_count": 188,
     "metadata": {},
     "output_type": "execute_result"
    }
   ],
   "source": [
    "temp = data.copy()\n",
    "\n",
    "colors = temp['Available Colors']\n",
    "colors.head(5)"
   ]
  },
  {
   "cell_type": "code",
   "execution_count": 189,
   "metadata": {
    "scrolled": true
   },
   "outputs": [
    {
     "data": {
      "text/plain": [
       "0    2\n",
       "1    1\n",
       "2    4\n",
       "3    4\n",
       "4    4\n",
       "Name: No. Colors, dtype: int64"
      ]
     },
     "execution_count": 189,
     "metadata": {},
     "output_type": "execute_result"
    }
   ],
   "source": [
    "col_name = ['Available Colors']\n",
    "temp['No. Colors'] = temp.apply(lambda x: len(x[col_name[0]].strip('[]').split(',')), axis=1)\n",
    "temp['No. Colors'].head(5)"
   ]
  },
  {
   "cell_type": "code",
   "execution_count": 190,
   "metadata": {},
   "outputs": [],
   "source": [
    "data= temp.copy()"
   ]
  },
  {
   "cell_type": "code",
   "execution_count": 191,
   "metadata": {},
   "outputs": [
    {
     "data": {
      "text/html": [
       "<div>\n",
       "<style scoped>\n",
       "    .dataframe tbody tr th:only-of-type {\n",
       "        vertical-align: middle;\n",
       "    }\n",
       "\n",
       "    .dataframe tbody tr th {\n",
       "        vertical-align: top;\n",
       "    }\n",
       "\n",
       "    .dataframe thead th {\n",
       "        text-align: right;\n",
       "    }\n",
       "</style>\n",
       "<table border=\"1\" class=\"dataframe\">\n",
       "  <thead>\n",
       "    <tr style=\"text-align: right;\">\n",
       "      <th></th>\n",
       "      <th>Rating</th>\n",
       "      <th>No. Colors</th>\n",
       "    </tr>\n",
       "  </thead>\n",
       "  <tbody>\n",
       "    <tr>\n",
       "      <th>0</th>\n",
       "      <td>3.0</td>\n",
       "      <td>2</td>\n",
       "    </tr>\n",
       "    <tr>\n",
       "      <th>1</th>\n",
       "      <td>5.0</td>\n",
       "      <td>1</td>\n",
       "    </tr>\n",
       "    <tr>\n",
       "      <th>2</th>\n",
       "      <td>5.0</td>\n",
       "      <td>4</td>\n",
       "    </tr>\n",
       "    <tr>\n",
       "      <th>3</th>\n",
       "      <td>5.0</td>\n",
       "      <td>4</td>\n",
       "    </tr>\n",
       "    <tr>\n",
       "      <th>4</th>\n",
       "      <td>5.0</td>\n",
       "      <td>4</td>\n",
       "    </tr>\n",
       "  </tbody>\n",
       "</table>\n",
       "</div>"
      ],
      "text/plain": [
       "   Rating  No. Colors\n",
       "0     3.0           2\n",
       "1     5.0           1\n",
       "2     5.0           4\n",
       "3     5.0           4\n",
       "4     5.0           4"
      ]
     },
     "execution_count": 191,
     "metadata": {},
     "output_type": "execute_result"
    }
   ],
   "source": [
    "rating_colors = data[['Rating', 'No. Colors']]\n",
    "rating_colors.head()"
   ]
  },
  {
   "cell_type": "code",
   "execution_count": 192,
   "metadata": {},
   "outputs": [
    {
     "data": {
      "text/html": [
       "<div>\n",
       "<style scoped>\n",
       "    .dataframe tbody tr th:only-of-type {\n",
       "        vertical-align: middle;\n",
       "    }\n",
       "\n",
       "    .dataframe tbody tr th {\n",
       "        vertical-align: top;\n",
       "    }\n",
       "\n",
       "    .dataframe thead th {\n",
       "        text-align: right;\n",
       "    }\n",
       "</style>\n",
       "<table border=\"1\" class=\"dataframe\">\n",
       "  <thead>\n",
       "    <tr style=\"text-align: right;\">\n",
       "      <th></th>\n",
       "      <th>Rating</th>\n",
       "      <th>No. Colors</th>\n",
       "    </tr>\n",
       "  </thead>\n",
       "  <tbody>\n",
       "    <tr>\n",
       "      <th>Rating</th>\n",
       "      <td>1.000000</td>\n",
       "      <td>0.054744</td>\n",
       "    </tr>\n",
       "    <tr>\n",
       "      <th>No. Colors</th>\n",
       "      <td>0.054744</td>\n",
       "      <td>1.000000</td>\n",
       "    </tr>\n",
       "  </tbody>\n",
       "</table>\n",
       "</div>"
      ],
      "text/plain": [
       "              Rating  No. Colors\n",
       "Rating      1.000000    0.054744\n",
       "No. Colors  0.054744    1.000000"
      ]
     },
     "execution_count": 192,
     "metadata": {},
     "output_type": "execute_result"
    }
   ],
   "source": [
    "rating_colors.corr()"
   ]
  },
  {
   "cell_type": "code",
   "execution_count": 193,
   "metadata": {
    "scrolled": true
   },
   "outputs": [
    {
     "data": {
      "image/png": "[encoded data removed]",
      "text/plain": [
       "<Figure size 576x576 with 1 Axes>"
      ]
     },
     "metadata": {},
     "output_type": "display_data"
    }
   ],
   "source": [
    "plt.figure(figsize = (8,8))\n",
    "plt.title('Correlação entre Notas e o Número de Cores Disponíveis', \n",
    "          fontdict={'fontsize': 16, 'fontweight': 'bold'})\n",
    "\n",
    "sns.scatterplot(x='Rating', y = 'No. Colors', data= rating_colors)\n",
    "plt.show()"
   ]
  },
  {
   "cell_type": "markdown",
   "metadata": {},
   "source": [
    "Não é o melhor gráfico para se ver a correlação porque as notas e o num de cores são numero inteiros. \n",
    "\n",
    "E a correlação entre as duas colunas é de 0.54, que é algo que dá pra notar no gráfico acima:\n",
    "    **As notas são bem distribuidas para qualquer numero de cores, mas as geladeiras que tem mais cores disponiveis só tem nota acima de 4.**"
   ]
  },
  {
   "cell_type": "markdown",
   "metadata": {},
   "source": [
    "## 3 - Finalizando"
   ]
  },
  {
   "cell_type": "markdown",
   "metadata": {},
   "source": [
    "Já fiz análise o suficiente com os dados mais brutos. Agora tem que usar NLP pra trabalhar com os comentários e com as características dos produtos.\n",
    "\n",
    "Algumas perguntas que quero responder:\n",
    "\n",
    "1- Quais as características que se relacionam mais com comentários positivos? E os negativos?\n",
    "\n",
    "2- Tem algum site com mais comentários positivos que outros?\n",
    "\n",
    "3- Alguma marca tem melhores comentários em algum site especifico?\n"
   ]
  },
  {
   "cell_type": "markdown",
   "metadata": {},
   "source": [
    "### 3.1 Arrumando o Dataset e salvando em outro arquivo"
   ]
  },
  {
   "cell_type": "code",
   "execution_count": 194,
   "metadata": {
    "scrolled": true
   },
   "outputs": [
    {
     "data": {
      "text/plain": [
       "Index(['Website', 'Product', 'Website Path', 'Brand', 'URL', 'ID',\n",
       "       'Description', 'Technical Features', 'General Features', 'Comment#1',\n",
       "       'Comment#2', 'Rating', 'Available Colors', 'No. Colors'],\n",
       "      dtype='object')"
      ]
     },
     "execution_count": 194,
     "metadata": {},
     "output_type": "execute_result"
    }
   ],
   "source": [
    "data.columns"
   ]
  },
  {
   "cell_type": "markdown",
   "metadata": {},
   "source": [
    "Website Path não vai me agregar em nada na próxima fase de análise"
   ]
  },
  {
   "cell_type": "code",
   "execution_count": 195,
   "metadata": {},
   "outputs": [],
   "source": [
    "data.drop(columns=['Website Path'], inplace=True)"
   ]
  },
  {
   "cell_type": "code",
   "execution_count": 196,
   "metadata": {
    "scrolled": true
   },
   "outputs": [
    {
     "data": {
      "text/html": [
       "<div>\n",
       "<style scoped>\n",
       "    .dataframe tbody tr th:only-of-type {\n",
       "        vertical-align: middle;\n",
       "    }\n",
       "\n",
       "    .dataframe tbody tr th {\n",
       "        vertical-align: top;\n",
       "    }\n",
       "\n",
       "    .dataframe thead th {\n",
       "        text-align: right;\n",
       "    }\n",
       "</style>\n",
       "<table border=\"1\" class=\"dataframe\">\n",
       "  <thead>\n",
       "    <tr style=\"text-align: right;\">\n",
       "      <th></th>\n",
       "      <th>Website</th>\n",
       "      <th>Product</th>\n",
       "      <th>Brand</th>\n",
       "      <th>URL</th>\n",
       "      <th>ID</th>\n",
       "      <th>Description</th>\n",
       "      <th>Technical Features</th>\n",
       "      <th>General Features</th>\n",
       "      <th>Comment#1</th>\n",
       "      <th>Comment#2</th>\n",
       "      <th>Rating</th>\n",
       "      <th>Available Colors</th>\n",
       "      <th>No. Colors</th>\n",
       "    </tr>\n",
       "  </thead>\n",
       "  <tbody>\n",
       "    <tr>\n",
       "      <th>0</th>\n",
       "      <td>lowes</td>\n",
       "      <td>Refrigerators</td>\n",
       "      <td>General Electric</td>\n",
       "      <td>https://www.lowes.com/pd/GE-25-1-cu-ft-Side-by...</td>\n",
       "      <td>1000859852</td>\n",
       "      <td>GE 25.1-cu ft Side-by-Side Refrigerator with I...</td>\n",
       "      <td>'25.1':2 'black':13 'by':7 'cu':3 'ft':4 'ge':...</td>\n",
       "      <td>{'brand': [''GE'', ' 'Ge''], 'model': [''GSS25...</td>\n",
       "      <td>Functional</td>\n",
       "      <td>Pros: fingerprint resistant so you don't have ...</td>\n",
       "      <td>3.0</td>\n",
       "      <td>['1000859768', '1000859852']</td>\n",
       "      <td>2</td>\n",
       "    </tr>\n",
       "    <tr>\n",
       "      <th>1</th>\n",
       "      <td>lowes</td>\n",
       "      <td>Refrigerators</td>\n",
       "      <td>Frigidaire</td>\n",
       "      <td>https://www.lowes.com/pd/Frigidaire-Gallery-21...</td>\n",
       "      <td>1000289721</td>\n",
       "      <td>Frigidaire Gallery 21.7-cu ft Counter-depth Fr...</td>\n",
       "      <td>'21.7':3 'counter':7 'counter-depth':6 'cu':4 ...</td>\n",
       "      <td>{'brand': [''Frigidaire'', ' 'Frigidaire''], '...</td>\n",
       "      <td>Ample Door Storage User Friendly Visibility</td>\n",
       "      <td>Feels solid and “upscale”. Excellent design of...</td>\n",
       "      <td>5.0</td>\n",
       "      <td>['1000289721']</td>\n",
       "      <td>1</td>\n",
       "    </tr>\n",
       "    <tr>\n",
       "      <th>2</th>\n",
       "      <td>bestbuy_us</td>\n",
       "      <td>Refrigerators</td>\n",
       "      <td>Whirlpool</td>\n",
       "      <td>https://www.bestbuy.com/site/whirlpool-21-9-cu...</td>\n",
       "      <td>3928039</td>\n",
       "      <td>Whirlpool - 21.9 Cu. Ft. Bottom-Freezer Refrig...</td>\n",
       "      <td>'21.9':2 'bottom':6 'bottom-freezer':5 'cu':3 ...</td>\n",
       "      <td>{'brand': [''whirlpool''], 'other_upc': [''883...</td>\n",
       "      <td>So much room</td>\n",
       "      <td>I love this fridge. So much room over having a...</td>\n",
       "      <td>5.0</td>\n",
       "      <td>['3928039', '3928048', '3979801', '6112639']</td>\n",
       "      <td>4</td>\n",
       "    </tr>\n",
       "    <tr>\n",
       "      <th>3</th>\n",
       "      <td>bestbuy_us</td>\n",
       "      <td>Refrigerators</td>\n",
       "      <td>Whirlpool</td>\n",
       "      <td>https://www.bestbuy.com/site/whirlpool-21-9-cu...</td>\n",
       "      <td>3979801</td>\n",
       "      <td>Whirlpool - 21.9 Cu. Ft. Bottom-Freezer Refrig...</td>\n",
       "      <td>'21.9':2 'black':9 'bottom':6 'bottom-freezer'...</td>\n",
       "      <td>{'brand': [''whirlpool''], 'other_upc': [''883...</td>\n",
       "      <td>So much room</td>\n",
       "      <td>I love this fridge. So much room over having a...</td>\n",
       "      <td>5.0</td>\n",
       "      <td>['3928039', '3928048', '3979801', '6112639']</td>\n",
       "      <td>4</td>\n",
       "    </tr>\n",
       "    <tr>\n",
       "      <th>4</th>\n",
       "      <td>bestbuy_us</td>\n",
       "      <td>Refrigerators</td>\n",
       "      <td>Whirlpool</td>\n",
       "      <td>https://www.bestbuy.com/site/whirlpool-22-1-cu...</td>\n",
       "      <td>6112639</td>\n",
       "      <td>Whirlpool - 22.1 Cu. Ft. Bottom-Freezer Refrig...</td>\n",
       "      <td>'22.1':2 'black':9 'bottom':6 'bottom-freezer'...</td>\n",
       "      <td>{'brand': [''whirlpool''], 'other_upc': [''883...</td>\n",
       "      <td>So much room</td>\n",
       "      <td>I love this fridge. So much room over having a...</td>\n",
       "      <td>5.0</td>\n",
       "      <td>['3928039', '3928048', '3979801', '6112639']</td>\n",
       "      <td>4</td>\n",
       "    </tr>\n",
       "  </tbody>\n",
       "</table>\n",
       "</div>"
      ],
      "text/plain": [
       "      Website        Product             Brand  \\\n",
       "0       lowes  Refrigerators  General Electric   \n",
       "1       lowes  Refrigerators        Frigidaire   \n",
       "2  bestbuy_us  Refrigerators         Whirlpool   \n",
       "3  bestbuy_us  Refrigerators         Whirlpool   \n",
       "4  bestbuy_us  Refrigerators         Whirlpool   \n",
       "\n",
       "                                                 URL          ID  \\\n",
       "0  https://www.lowes.com/pd/GE-25-1-cu-ft-Side-by...  1000859852   \n",
       "1  https://www.lowes.com/pd/Frigidaire-Gallery-21...  1000289721   \n",
       "2  https://www.bestbuy.com/site/whirlpool-21-9-cu...     3928039   \n",
       "3  https://www.bestbuy.com/site/whirlpool-21-9-cu...     3979801   \n",
       "4  https://www.bestbuy.com/site/whirlpool-22-1-cu...     6112639   \n",
       "\n",
       "                                         Description  \\\n",
       "0  GE 25.1-cu ft Side-by-Side Refrigerator with I...   \n",
       "1  Frigidaire Gallery 21.7-cu ft Counter-depth Fr...   \n",
       "2  Whirlpool - 21.9 Cu. Ft. Bottom-Freezer Refrig...   \n",
       "3  Whirlpool - 21.9 Cu. Ft. Bottom-Freezer Refrig...   \n",
       "4  Whirlpool - 22.1 Cu. Ft. Bottom-Freezer Refrig...   \n",
       "\n",
       "                                  Technical Features  \\\n",
       "0  '25.1':2 'black':13 'by':7 'cu':3 'ft':4 'ge':...   \n",
       "1  '21.7':3 'counter':7 'counter-depth':6 'cu':4 ...   \n",
       "2  '21.9':2 'bottom':6 'bottom-freezer':5 'cu':3 ...   \n",
       "3  '21.9':2 'black':9 'bottom':6 'bottom-freezer'...   \n",
       "4  '22.1':2 'black':9 'bottom':6 'bottom-freezer'...   \n",
       "\n",
       "                                    General Features  \\\n",
       "0  {'brand': [''GE'', ' 'Ge''], 'model': [''GSS25...   \n",
       "1  {'brand': [''Frigidaire'', ' 'Frigidaire''], '...   \n",
       "2  {'brand': [''whirlpool''], 'other_upc': [''883...   \n",
       "3  {'brand': [''whirlpool''], 'other_upc': [''883...   \n",
       "4  {'brand': [''whirlpool''], 'other_upc': [''883...   \n",
       "\n",
       "                                     Comment#1  \\\n",
       "0                                   Functional   \n",
       "1  Ample Door Storage User Friendly Visibility   \n",
       "2                                 So much room   \n",
       "3                                 So much room   \n",
       "4                                 So much room   \n",
       "\n",
       "                                           Comment#2  Rating  \\\n",
       "0  Pros: fingerprint resistant so you don't have ...     3.0   \n",
       "1  Feels solid and “upscale”. Excellent design of...     5.0   \n",
       "2  I love this fridge. So much room over having a...     5.0   \n",
       "3  I love this fridge. So much room over having a...     5.0   \n",
       "4  I love this fridge. So much room over having a...     5.0   \n",
       "\n",
       "                               Available Colors  No. Colors  \n",
       "0                  ['1000859768', '1000859852']           2  \n",
       "1                                ['1000289721']           1  \n",
       "2  ['3928039', '3928048', '3979801', '6112639']           4  \n",
       "3  ['3928039', '3928048', '3979801', '6112639']           4  \n",
       "4  ['3928039', '3928048', '3979801', '6112639']           4  "
      ]
     },
     "execution_count": 196,
     "metadata": {},
     "output_type": "execute_result"
    }
   ],
   "source": [
    "data.head()"
   ]
  },
  {
   "cell_type": "code",
   "execution_count": 197,
   "metadata": {},
   "outputs": [],
   "source": [
    "data.to_csv('./Dataset/NLP_Data.csv', encoding = \"utf-8\")"
   ]
  }
 ],
 "metadata": {
  "kernelspec": {
   "display_name": "Python 3",
   "language": "python",
   "name": "python3"
  },
  "language_info": {
   "codemirror_mode": {
    "name": "ipython",
    "version": 3
   },
   "file_extension": ".py",
   "mimetype": "text/x-python",
   "name": "python",
   "nbconvert_exporter": "python",
   "pygments_lexer": "ipython3",
   "version": "3.6.9"
  }
 },
 "nbformat": 4,
 "nbformat_minor": 2
}

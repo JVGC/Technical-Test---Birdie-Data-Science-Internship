{
 "cells": [
  {
   "cell_type": "code",
   "execution_count": 1,
   "metadata": {
    "scrolled": true
   },
   "outputs": [
    {
     "name": "stderr",
     "output_type": "stream",
     "text": [
      "/home/joaogarcia/Documents/DataScience/venv/lib/python3.6/site-packages/matplotlib/__init__.py:886: MatplotlibDeprecationWarning: \n",
      "examples.directory is deprecated; in the future, examples will be found relative to the 'datapath' directory.\n",
      "  \"found relative to the 'datapath' directory.\".format(key))\n",
      "[nltk_data] Downloading package stopwords to\n",
      "[nltk_data]     /home/joaogarcia/nltk_data...\n",
      "[nltk_data]   Package stopwords is already up-to-date!\n",
      "[nltk_data] Downloading package averaged_perceptron_tagger to\n",
      "[nltk_data]     /home/joaogarcia/nltk_data...\n",
      "[nltk_data]   Package averaged_perceptron_tagger is already up-to-\n",
      "[nltk_data]       date!\n"
     ]
    }
   ],
   "source": [
    "import pandas as pd\n",
    "import seaborn as sns\n",
    "import matplotlib.pyplot as plt\n",
    "\n",
    "import nltk\n",
    "from nltk.util import bigrams\n",
    "from nltk.corpus import stopwords\n",
    "from nltk.tokenize import word_tokenize\n",
    "nltk.download('stopwords')\n",
    "nltk.download('averaged_perceptron_tagger')\n",
    "\n",
    "from nltk.probability import FreqDist\n",
    "\n",
    "from textblob import TextBlob\n",
    "import re\n",
    "import string"
   ]
  },
  {
   "cell_type": "code",
   "execution_count": 2,
   "metadata": {
    "scrolled": false
   },
   "outputs": [
    {
     "data": {
      "text/html": [
       "<div>\n",
       "<style scoped>\n",
       "    .dataframe tbody tr th:only-of-type {\n",
       "        vertical-align: middle;\n",
       "    }\n",
       "\n",
       "    .dataframe tbody tr th {\n",
       "        vertical-align: top;\n",
       "    }\n",
       "\n",
       "    .dataframe thead th {\n",
       "        text-align: right;\n",
       "    }\n",
       "</style>\n",
       "<table border=\"1\" class=\"dataframe\">\n",
       "  <thead>\n",
       "    <tr style=\"text-align: right;\">\n",
       "      <th></th>\n",
       "      <th>Website</th>\n",
       "      <th>Product</th>\n",
       "      <th>Brand</th>\n",
       "      <th>URL</th>\n",
       "      <th>Description</th>\n",
       "      <th>Technical Features</th>\n",
       "      <th>General Features</th>\n",
       "      <th>Comment#1</th>\n",
       "      <th>Comment#2</th>\n",
       "      <th>Rating</th>\n",
       "      <th>Available Colors</th>\n",
       "      <th>No. Colors</th>\n",
       "    </tr>\n",
       "  </thead>\n",
       "  <tbody>\n",
       "    <tr>\n",
       "      <th>0</th>\n",
       "      <td>lowes</td>\n",
       "      <td>Refrigerators</td>\n",
       "      <td>General Electric</td>\n",
       "      <td>https://www.lowes.com/pd/GE-25-1-cu-ft-Side-by...</td>\n",
       "      <td>GE 25.1-cu ft Side-by-Side Refrigerator with I...</td>\n",
       "      <td>'25.1':2 'black':13 'by':7 'cu':3 'ft':4 'ge':...</td>\n",
       "      <td>{'brand': ['GE', 'Ge'], 'model': ['GSS25IBNTS'...</td>\n",
       "      <td>Functional</td>\n",
       "      <td>Pros: fingerprint resistant so you don't have ...</td>\n",
       "      <td>3.0</td>\n",
       "      <td>['1000859768', '1000859852']</td>\n",
       "      <td>2</td>\n",
       "    </tr>\n",
       "    <tr>\n",
       "      <th>1</th>\n",
       "      <td>lowes</td>\n",
       "      <td>Refrigerators</td>\n",
       "      <td>Frigidaire</td>\n",
       "      <td>https://www.lowes.com/pd/Frigidaire-Gallery-21...</td>\n",
       "      <td>Frigidaire Gallery 21.7-cu ft Counter-depth Fr...</td>\n",
       "      <td>'21.7':3 'counter':7 'counter-depth':6 'cu':4 ...</td>\n",
       "      <td>{'brand': ['Frigidaire', 'Frigidaire'], 'model...</td>\n",
       "      <td>Ample Door Storage User Friendly Visibility</td>\n",
       "      <td>Feels solid and “upscale”. Excellent design of...</td>\n",
       "      <td>5.0</td>\n",
       "      <td>['1000289721']</td>\n",
       "      <td>1</td>\n",
       "    </tr>\n",
       "    <tr>\n",
       "      <th>2</th>\n",
       "      <td>bestbuy_us</td>\n",
       "      <td>Refrigerators</td>\n",
       "      <td>Whirlpool</td>\n",
       "      <td>https://www.bestbuy.com/site/whirlpool-21-9-cu...</td>\n",
       "      <td>Whirlpool - 21.9 Cu. Ft. Bottom-Freezer Refrig...</td>\n",
       "      <td>'21.9':2 'bottom':6 'bottom-freezer':5 'cu':3 ...</td>\n",
       "      <td>{'brand': ['whirlpool'], 'Other_UPC': ['883049...</td>\n",
       "      <td>So much room</td>\n",
       "      <td>I love this fridge. So much room over having a...</td>\n",
       "      <td>5.0</td>\n",
       "      <td>['3928039', '3928048', '3979801', '6112639']</td>\n",
       "      <td>4</td>\n",
       "    </tr>\n",
       "    <tr>\n",
       "      <th>3</th>\n",
       "      <td>bestbuy_us</td>\n",
       "      <td>Refrigerators</td>\n",
       "      <td>Whirlpool</td>\n",
       "      <td>https://www.bestbuy.com/site/whirlpool-21-9-cu...</td>\n",
       "      <td>Whirlpool - 21.9 Cu. Ft. Bottom-Freezer Refrig...</td>\n",
       "      <td>'21.9':2 'black':9 'bottom':6 'bottom-freezer'...</td>\n",
       "      <td>{'brand': ['whirlpool'], 'Other_UPC': ['883049...</td>\n",
       "      <td>So much room</td>\n",
       "      <td>I love this fridge. So much room over having a...</td>\n",
       "      <td>5.0</td>\n",
       "      <td>['3928039', '3928048', '3979801', '6112639']</td>\n",
       "      <td>4</td>\n",
       "    </tr>\n",
       "    <tr>\n",
       "      <th>4</th>\n",
       "      <td>bestbuy_us</td>\n",
       "      <td>Refrigerators</td>\n",
       "      <td>Whirlpool</td>\n",
       "      <td>https://www.bestbuy.com/site/whirlpool-22-1-cu...</td>\n",
       "      <td>Whirlpool - 22.1 Cu. Ft. Bottom-Freezer Refrig...</td>\n",
       "      <td>'22.1':2 'black':9 'bottom':6 'bottom-freezer'...</td>\n",
       "      <td>{'brand': ['whirlpool'], 'Other_UPC': ['883049...</td>\n",
       "      <td>So much room</td>\n",
       "      <td>I love this fridge. So much room over having a...</td>\n",
       "      <td>5.0</td>\n",
       "      <td>['3928039', '3928048', '3979801', '6112639']</td>\n",
       "      <td>4</td>\n",
       "    </tr>\n",
       "  </tbody>\n",
       "</table>\n",
       "</div>"
      ],
      "text/plain": [
       "      Website        Product             Brand  \\\n",
       "0       lowes  Refrigerators  General Electric   \n",
       "1       lowes  Refrigerators        Frigidaire   \n",
       "2  bestbuy_us  Refrigerators         Whirlpool   \n",
       "3  bestbuy_us  Refrigerators         Whirlpool   \n",
       "4  bestbuy_us  Refrigerators         Whirlpool   \n",
       "\n",
       "                                                 URL  \\\n",
       "0  https://www.lowes.com/pd/GE-25-1-cu-ft-Side-by...   \n",
       "1  https://www.lowes.com/pd/Frigidaire-Gallery-21...   \n",
       "2  https://www.bestbuy.com/site/whirlpool-21-9-cu...   \n",
       "3  https://www.bestbuy.com/site/whirlpool-21-9-cu...   \n",
       "4  https://www.bestbuy.com/site/whirlpool-22-1-cu...   \n",
       "\n",
       "                                         Description  \\\n",
       "0  GE 25.1-cu ft Side-by-Side Refrigerator with I...   \n",
       "1  Frigidaire Gallery 21.7-cu ft Counter-depth Fr...   \n",
       "2  Whirlpool - 21.9 Cu. Ft. Bottom-Freezer Refrig...   \n",
       "3  Whirlpool - 21.9 Cu. Ft. Bottom-Freezer Refrig...   \n",
       "4  Whirlpool - 22.1 Cu. Ft. Bottom-Freezer Refrig...   \n",
       "\n",
       "                                  Technical Features  \\\n",
       "0  '25.1':2 'black':13 'by':7 'cu':3 'ft':4 'ge':...   \n",
       "1  '21.7':3 'counter':7 'counter-depth':6 'cu':4 ...   \n",
       "2  '21.9':2 'bottom':6 'bottom-freezer':5 'cu':3 ...   \n",
       "3  '21.9':2 'black':9 'bottom':6 'bottom-freezer'...   \n",
       "4  '22.1':2 'black':9 'bottom':6 'bottom-freezer'...   \n",
       "\n",
       "                                    General Features  \\\n",
       "0  {'brand': ['GE', 'Ge'], 'model': ['GSS25IBNTS'...   \n",
       "1  {'brand': ['Frigidaire', 'Frigidaire'], 'model...   \n",
       "2  {'brand': ['whirlpool'], 'Other_UPC': ['883049...   \n",
       "3  {'brand': ['whirlpool'], 'Other_UPC': ['883049...   \n",
       "4  {'brand': ['whirlpool'], 'Other_UPC': ['883049...   \n",
       "\n",
       "                                     Comment#1  \\\n",
       "0                                   Functional   \n",
       "1  Ample Door Storage User Friendly Visibility   \n",
       "2                                 So much room   \n",
       "3                                 So much room   \n",
       "4                                 So much room   \n",
       "\n",
       "                                           Comment#2  Rating  \\\n",
       "0  Pros: fingerprint resistant so you don't have ...     3.0   \n",
       "1  Feels solid and “upscale”. Excellent design of...     5.0   \n",
       "2  I love this fridge. So much room over having a...     5.0   \n",
       "3  I love this fridge. So much room over having a...     5.0   \n",
       "4  I love this fridge. So much room over having a...     5.0   \n",
       "\n",
       "                               Available Colors  No. Colors  \n",
       "0                  ['1000859768', '1000859852']           2  \n",
       "1                                ['1000289721']           1  \n",
       "2  ['3928039', '3928048', '3979801', '6112639']           4  \n",
       "3  ['3928039', '3928048', '3979801', '6112639']           4  \n",
       "4  ['3928039', '3928048', '3979801', '6112639']           4  "
      ]
     },
     "execution_count": 2,
     "metadata": {},
     "output_type": "execute_result"
    }
   ],
   "source": [
    "## Lendo os dados e doprando a coluna ID, que não vai ajudar em nada nessa análise\n",
    "data = pd.read_csv('./Dataset/NLP_Data.csv', index_col=0, dtype={'General Features': object})\n",
    "data.drop(columns=['ID'], inplace=True)\n",
    "data.head()"
   ]
  },
  {
   "cell_type": "markdown",
   "metadata": {},
   "source": [
    "## 1- Limpar e arrumar conjunto de texto"
   ]
  },
  {
   "cell_type": "markdown",
   "metadata": {},
   "source": [
    "### 1.1 - Limpando Valores Nulos e Duplicados"
   ]
  },
  {
   "cell_type": "code",
   "execution_count": 3,
   "metadata": {
    "scrolled": false
   },
   "outputs": [
    {
     "data": {
      "text/plain": [
       "Website               0\n",
       "Product               0\n",
       "Brand                 0\n",
       "URL                   0\n",
       "Description           0\n",
       "Technical Features    0\n",
       "General Features      0\n",
       "Comment#1             0\n",
       "Comment#2             0\n",
       "Rating                0\n",
       "Available Colors      0\n",
       "No. Colors            0\n",
       "dtype: int64"
      ]
     },
     "execution_count": 3,
     "metadata": {},
     "output_type": "execute_result"
    }
   ],
   "source": [
    "data.fillna('', inplace=True)\n",
    "data.isnull().sum()"
   ]
  },
  {
   "cell_type": "code",
   "execution_count": 4,
   "metadata": {},
   "outputs": [
    {
     "data": {
      "text/plain": [
       "68"
      ]
     },
     "execution_count": 4,
     "metadata": {},
     "output_type": "execute_result"
    }
   ],
   "source": [
    "len(data[data.duplicated() == True])"
   ]
  },
  {
   "cell_type": "code",
   "execution_count": 5,
   "metadata": {},
   "outputs": [
    {
     "data": {
      "text/html": [
       "<div>\n",
       "<style scoped>\n",
       "    .dataframe tbody tr th:only-of-type {\n",
       "        vertical-align: middle;\n",
       "    }\n",
       "\n",
       "    .dataframe tbody tr th {\n",
       "        vertical-align: top;\n",
       "    }\n",
       "\n",
       "    .dataframe thead th {\n",
       "        text-align: right;\n",
       "    }\n",
       "</style>\n",
       "<table border=\"1\" class=\"dataframe\">\n",
       "  <thead>\n",
       "    <tr style=\"text-align: right;\">\n",
       "      <th></th>\n",
       "      <th>Website</th>\n",
       "      <th>Product</th>\n",
       "      <th>Brand</th>\n",
       "      <th>URL</th>\n",
       "      <th>Description</th>\n",
       "      <th>Technical Features</th>\n",
       "      <th>General Features</th>\n",
       "      <th>Comment#1</th>\n",
       "      <th>Comment#2</th>\n",
       "      <th>Rating</th>\n",
       "      <th>Available Colors</th>\n",
       "      <th>No. Colors</th>\n",
       "    </tr>\n",
       "  </thead>\n",
       "  <tbody>\n",
       "    <tr>\n",
       "      <th>0</th>\n",
       "      <td>lowes</td>\n",
       "      <td>Refrigerators</td>\n",
       "      <td>General Electric</td>\n",
       "      <td>https://www.lowes.com/pd/GE-25-1-cu-ft-Side-by...</td>\n",
       "      <td>GE 25.1-cu ft Side-by-Side Refrigerator with I...</td>\n",
       "      <td>'25.1':2 'black':13 'by':7 'cu':3 'ft':4 'ge':...</td>\n",
       "      <td>{'brand': ['GE', 'Ge'], 'model': ['GSS25IBNTS'...</td>\n",
       "      <td>Functional</td>\n",
       "      <td>Pros: fingerprint resistant so you don't have ...</td>\n",
       "      <td>3.0</td>\n",
       "      <td>['1000859768', '1000859852']</td>\n",
       "      <td>2</td>\n",
       "    </tr>\n",
       "    <tr>\n",
       "      <th>1</th>\n",
       "      <td>lowes</td>\n",
       "      <td>Refrigerators</td>\n",
       "      <td>Frigidaire</td>\n",
       "      <td>https://www.lowes.com/pd/Frigidaire-Gallery-21...</td>\n",
       "      <td>Frigidaire Gallery 21.7-cu ft Counter-depth Fr...</td>\n",
       "      <td>'21.7':3 'counter':7 'counter-depth':6 'cu':4 ...</td>\n",
       "      <td>{'brand': ['Frigidaire', 'Frigidaire'], 'model...</td>\n",
       "      <td>Ample Door Storage User Friendly Visibility</td>\n",
       "      <td>Feels solid and “upscale”. Excellent design of...</td>\n",
       "      <td>5.0</td>\n",
       "      <td>['1000289721']</td>\n",
       "      <td>1</td>\n",
       "    </tr>\n",
       "    <tr>\n",
       "      <th>2</th>\n",
       "      <td>bestbuy_us</td>\n",
       "      <td>Refrigerators</td>\n",
       "      <td>Whirlpool</td>\n",
       "      <td>https://www.bestbuy.com/site/whirlpool-21-9-cu...</td>\n",
       "      <td>Whirlpool - 21.9 Cu. Ft. Bottom-Freezer Refrig...</td>\n",
       "      <td>'21.9':2 'bottom':6 'bottom-freezer':5 'cu':3 ...</td>\n",
       "      <td>{'brand': ['whirlpool'], 'Other_UPC': ['883049...</td>\n",
       "      <td>So much room</td>\n",
       "      <td>I love this fridge. So much room over having a...</td>\n",
       "      <td>5.0</td>\n",
       "      <td>['3928039', '3928048', '3979801', '6112639']</td>\n",
       "      <td>4</td>\n",
       "    </tr>\n",
       "    <tr>\n",
       "      <th>3</th>\n",
       "      <td>bestbuy_us</td>\n",
       "      <td>Refrigerators</td>\n",
       "      <td>Whirlpool</td>\n",
       "      <td>https://www.bestbuy.com/site/whirlpool-21-9-cu...</td>\n",
       "      <td>Whirlpool - 21.9 Cu. Ft. Bottom-Freezer Refrig...</td>\n",
       "      <td>'21.9':2 'black':9 'bottom':6 'bottom-freezer'...</td>\n",
       "      <td>{'brand': ['whirlpool'], 'Other_UPC': ['883049...</td>\n",
       "      <td>So much room</td>\n",
       "      <td>I love this fridge. So much room over having a...</td>\n",
       "      <td>5.0</td>\n",
       "      <td>['3928039', '3928048', '3979801', '6112639']</td>\n",
       "      <td>4</td>\n",
       "    </tr>\n",
       "    <tr>\n",
       "      <th>4</th>\n",
       "      <td>bestbuy_us</td>\n",
       "      <td>Refrigerators</td>\n",
       "      <td>Whirlpool</td>\n",
       "      <td>https://www.bestbuy.com/site/whirlpool-22-1-cu...</td>\n",
       "      <td>Whirlpool - 22.1 Cu. Ft. Bottom-Freezer Refrig...</td>\n",
       "      <td>'22.1':2 'black':9 'bottom':6 'bottom-freezer'...</td>\n",
       "      <td>{'brand': ['whirlpool'], 'Other_UPC': ['883049...</td>\n",
       "      <td>So much room</td>\n",
       "      <td>I love this fridge. So much room over having a...</td>\n",
       "      <td>5.0</td>\n",
       "      <td>['3928039', '3928048', '3979801', '6112639']</td>\n",
       "      <td>4</td>\n",
       "    </tr>\n",
       "  </tbody>\n",
       "</table>\n",
       "</div>"
      ],
      "text/plain": [
       "      Website        Product             Brand  \\\n",
       "0       lowes  Refrigerators  General Electric   \n",
       "1       lowes  Refrigerators        Frigidaire   \n",
       "2  bestbuy_us  Refrigerators         Whirlpool   \n",
       "3  bestbuy_us  Refrigerators         Whirlpool   \n",
       "4  bestbuy_us  Refrigerators         Whirlpool   \n",
       "\n",
       "                                                 URL  \\\n",
       "0  https://www.lowes.com/pd/GE-25-1-cu-ft-Side-by...   \n",
       "1  https://www.lowes.com/pd/Frigidaire-Gallery-21...   \n",
       "2  https://www.bestbuy.com/site/whirlpool-21-9-cu...   \n",
       "3  https://www.bestbuy.com/site/whirlpool-21-9-cu...   \n",
       "4  https://www.bestbuy.com/site/whirlpool-22-1-cu...   \n",
       "\n",
       "                                         Description  \\\n",
       "0  GE 25.1-cu ft Side-by-Side Refrigerator with I...   \n",
       "1  Frigidaire Gallery 21.7-cu ft Counter-depth Fr...   \n",
       "2  Whirlpool - 21.9 Cu. Ft. Bottom-Freezer Refrig...   \n",
       "3  Whirlpool - 21.9 Cu. Ft. Bottom-Freezer Refrig...   \n",
       "4  Whirlpool - 22.1 Cu. Ft. Bottom-Freezer Refrig...   \n",
       "\n",
       "                                  Technical Features  \\\n",
       "0  '25.1':2 'black':13 'by':7 'cu':3 'ft':4 'ge':...   \n",
       "1  '21.7':3 'counter':7 'counter-depth':6 'cu':4 ...   \n",
       "2  '21.9':2 'bottom':6 'bottom-freezer':5 'cu':3 ...   \n",
       "3  '21.9':2 'black':9 'bottom':6 'bottom-freezer'...   \n",
       "4  '22.1':2 'black':9 'bottom':6 'bottom-freezer'...   \n",
       "\n",
       "                                    General Features  \\\n",
       "0  {'brand': ['GE', 'Ge'], 'model': ['GSS25IBNTS'...   \n",
       "1  {'brand': ['Frigidaire', 'Frigidaire'], 'model...   \n",
       "2  {'brand': ['whirlpool'], 'Other_UPC': ['883049...   \n",
       "3  {'brand': ['whirlpool'], 'Other_UPC': ['883049...   \n",
       "4  {'brand': ['whirlpool'], 'Other_UPC': ['883049...   \n",
       "\n",
       "                                     Comment#1  \\\n",
       "0                                   Functional   \n",
       "1  Ample Door Storage User Friendly Visibility   \n",
       "2                                 So much room   \n",
       "3                                 So much room   \n",
       "4                                 So much room   \n",
       "\n",
       "                                           Comment#2  Rating  \\\n",
       "0  Pros: fingerprint resistant so you don't have ...     3.0   \n",
       "1  Feels solid and “upscale”. Excellent design of...     5.0   \n",
       "2  I love this fridge. So much room over having a...     5.0   \n",
       "3  I love this fridge. So much room over having a...     5.0   \n",
       "4  I love this fridge. So much room over having a...     5.0   \n",
       "\n",
       "                               Available Colors  No. Colors  \n",
       "0                  ['1000859768', '1000859852']           2  \n",
       "1                                ['1000289721']           1  \n",
       "2  ['3928039', '3928048', '3979801', '6112639']           4  \n",
       "3  ['3928039', '3928048', '3979801', '6112639']           4  \n",
       "4  ['3928039', '3928048', '3979801', '6112639']           4  "
      ]
     },
     "execution_count": 5,
     "metadata": {},
     "output_type": "execute_result"
    }
   ],
   "source": [
    "data.drop_duplicates(inplace=True)\n",
    "data.reset_index(drop= True, inplace=True)\n",
    "data.head()"
   ]
  },
  {
   "cell_type": "markdown",
   "metadata": {},
   "source": [
    "### 1.2 - Limpar o Texto. Pontuações, tudo em letra minúscula, stopwords, etc."
   ]
  },
  {
   "cell_type": "code",
   "execution_count": 6,
   "metadata": {},
   "outputs": [],
   "source": [
    "def remove_stop_words(text, stopwords):\n",
    "    text_tokens = word_tokenize(text)\n",
    "    tokens_without_sw = [word for word in text_tokens if not word in stopwords]\n",
    "    text = ' '.join(tokens_without_sw)\n",
    "    return text"
   ]
  },
  {
   "cell_type": "code",
   "execution_count": 7,
   "metadata": {},
   "outputs": [],
   "source": [
    "def clean_text(text, stopwords):\n",
    "    text = text.lower()\n",
    "    \n",
    "    # Remove palavras entre colchetes\n",
    "    text = re.sub('\\[.*?\\]', '', text)\n",
    "    \n",
    "    #remove palavras com numero\n",
    "    text = re.sub('\\w*\\d\\w*', '', text)\n",
    "    \n",
    "    #remove pontuação\n",
    "    punctuation = '[' + re.escape(string.punctuation) +'\\\\”\\\\“\\\\’'+']'\n",
    "    text = re.sub(punctuation, '', text)\n",
    "    \n",
    "    #remove stop words\n",
    "    text = remove_stop_words(text, stopwords)\n",
    "    return text"
   ]
  },
  {
   "cell_type": "code",
   "execution_count": 8,
   "metadata": {},
   "outputs": [],
   "source": [
    "en_stopwords = stopwords.words('english')\n",
    "\n",
    "new_words = ['aahs', 'etc', 'yrs', 'weve', 'yoy', 'cu', 'ft', 'every','time', 'ive', 'im','youve', 'theres', 'youre', 'son', 'young', 'youll', 'aboveand', 'yin', 'yo', 'youl']\n",
    "for word in new_words:\n",
    "    en_stopwords.append(word)"
   ]
  },
  {
   "cell_type": "code",
   "execution_count": 9,
   "metadata": {},
   "outputs": [
    {
     "data": {
      "text/plain": [
       "'feels solid upscale excellent design door shelves allow depth easy visibility ditto storage drawers freezer love dual ice makers look enjoy fridge long'"
      ]
     },
     "execution_count": 9,
     "metadata": {},
     "output_type": "execute_result"
    }
   ],
   "source": [
    "## Limpando os dois comentários\n",
    "col_name = ['Comment#1', 'Comment#2']\n",
    "data['Comment#1'] = data.apply(lambda x: clean_text(x[col_name[0]], en_stopwords), axis=1 )\n",
    "data['Comment#2'] = data.apply(lambda x: clean_text(x[col_name[1]], en_stopwords), axis=1 )\n",
    "data['Comment#2'][1]"
   ]
  },
  {
   "cell_type": "markdown",
   "metadata": {},
   "source": [
    "### 1.3 - Juntar os dois tipos de comentário em um só"
   ]
  },
  {
   "cell_type": "code",
   "execution_count": 10,
   "metadata": {
    "scrolled": false
   },
   "outputs": [
    {
     "data": {
      "text/html": [
       "<div>\n",
       "<style scoped>\n",
       "    .dataframe tbody tr th:only-of-type {\n",
       "        vertical-align: middle;\n",
       "    }\n",
       "\n",
       "    .dataframe tbody tr th {\n",
       "        vertical-align: top;\n",
       "    }\n",
       "\n",
       "    .dataframe thead th {\n",
       "        text-align: right;\n",
       "    }\n",
       "</style>\n",
       "<table border=\"1\" class=\"dataframe\">\n",
       "  <thead>\n",
       "    <tr style=\"text-align: right;\">\n",
       "      <th></th>\n",
       "      <th>Website</th>\n",
       "      <th>Product</th>\n",
       "      <th>Brand</th>\n",
       "      <th>URL</th>\n",
       "      <th>Description</th>\n",
       "      <th>Technical Features</th>\n",
       "      <th>General Features</th>\n",
       "      <th>Comment#1</th>\n",
       "      <th>Comment#2</th>\n",
       "      <th>Rating</th>\n",
       "      <th>Available Colors</th>\n",
       "      <th>No. Colors</th>\n",
       "      <th>Full_Comment</th>\n",
       "    </tr>\n",
       "  </thead>\n",
       "  <tbody>\n",
       "    <tr>\n",
       "      <th>0</th>\n",
       "      <td>lowes</td>\n",
       "      <td>Refrigerators</td>\n",
       "      <td>General Electric</td>\n",
       "      <td>https://www.lowes.com/pd/GE-25-1-cu-ft-Side-by...</td>\n",
       "      <td>GE 25.1-cu ft Side-by-Side Refrigerator with I...</td>\n",
       "      <td>'25.1':2 'black':13 'by':7 'cu':3 'ft':4 'ge':...</td>\n",
       "      <td>{'brand': ['GE', 'Ge'], 'model': ['GSS25IBNTS'...</td>\n",
       "      <td>functional</td>\n",
       "      <td>pros fingerprint resistant dont constantly wip...</td>\n",
       "      <td>3.0</td>\n",
       "      <td>['1000859768', '1000859852']</td>\n",
       "      <td>2</td>\n",
       "      <td>functional pros fingerprint resistant dont con...</td>\n",
       "    </tr>\n",
       "    <tr>\n",
       "      <th>1</th>\n",
       "      <td>lowes</td>\n",
       "      <td>Refrigerators</td>\n",
       "      <td>Frigidaire</td>\n",
       "      <td>https://www.lowes.com/pd/Frigidaire-Gallery-21...</td>\n",
       "      <td>Frigidaire Gallery 21.7-cu ft Counter-depth Fr...</td>\n",
       "      <td>'21.7':3 'counter':7 'counter-depth':6 'cu':4 ...</td>\n",
       "      <td>{'brand': ['Frigidaire', 'Frigidaire'], 'model...</td>\n",
       "      <td>ample door storage user friendly visibility</td>\n",
       "      <td>feels solid upscale excellent design door shel...</td>\n",
       "      <td>5.0</td>\n",
       "      <td>['1000289721']</td>\n",
       "      <td>1</td>\n",
       "      <td>ample door storage user friendly visibility fe...</td>\n",
       "    </tr>\n",
       "    <tr>\n",
       "      <th>2</th>\n",
       "      <td>bestbuy_us</td>\n",
       "      <td>Refrigerators</td>\n",
       "      <td>Whirlpool</td>\n",
       "      <td>https://www.bestbuy.com/site/whirlpool-21-9-cu...</td>\n",
       "      <td>Whirlpool - 21.9 Cu. Ft. Bottom-Freezer Refrig...</td>\n",
       "      <td>'21.9':2 'bottom':6 'bottom-freezer':5 'cu':3 ...</td>\n",
       "      <td>{'brand': ['whirlpool'], 'Other_UPC': ['883049...</td>\n",
       "      <td>much room</td>\n",
       "      <td>love fridge much room french door style large ...</td>\n",
       "      <td>5.0</td>\n",
       "      <td>['3928039', '3928048', '3979801', '6112639']</td>\n",
       "      <td>4</td>\n",
       "      <td>much room love fridge much room french door st...</td>\n",
       "    </tr>\n",
       "    <tr>\n",
       "      <th>3</th>\n",
       "      <td>bestbuy_us</td>\n",
       "      <td>Refrigerators</td>\n",
       "      <td>Whirlpool</td>\n",
       "      <td>https://www.bestbuy.com/site/whirlpool-21-9-cu...</td>\n",
       "      <td>Whirlpool - 21.9 Cu. Ft. Bottom-Freezer Refrig...</td>\n",
       "      <td>'21.9':2 'black':9 'bottom':6 'bottom-freezer'...</td>\n",
       "      <td>{'brand': ['whirlpool'], 'Other_UPC': ['883049...</td>\n",
       "      <td>much room</td>\n",
       "      <td>love fridge much room french door style large ...</td>\n",
       "      <td>5.0</td>\n",
       "      <td>['3928039', '3928048', '3979801', '6112639']</td>\n",
       "      <td>4</td>\n",
       "      <td>much room love fridge much room french door st...</td>\n",
       "    </tr>\n",
       "    <tr>\n",
       "      <th>4</th>\n",
       "      <td>bestbuy_us</td>\n",
       "      <td>Refrigerators</td>\n",
       "      <td>Whirlpool</td>\n",
       "      <td>https://www.bestbuy.com/site/whirlpool-22-1-cu...</td>\n",
       "      <td>Whirlpool - 22.1 Cu. Ft. Bottom-Freezer Refrig...</td>\n",
       "      <td>'22.1':2 'black':9 'bottom':6 'bottom-freezer'...</td>\n",
       "      <td>{'brand': ['whirlpool'], 'Other_UPC': ['883049...</td>\n",
       "      <td>much room</td>\n",
       "      <td>love fridge much room french door style large ...</td>\n",
       "      <td>5.0</td>\n",
       "      <td>['3928039', '3928048', '3979801', '6112639']</td>\n",
       "      <td>4</td>\n",
       "      <td>much room love fridge much room french door st...</td>\n",
       "    </tr>\n",
       "  </tbody>\n",
       "</table>\n",
       "</div>"
      ],
      "text/plain": [
       "      Website        Product             Brand  \\\n",
       "0       lowes  Refrigerators  General Electric   \n",
       "1       lowes  Refrigerators        Frigidaire   \n",
       "2  bestbuy_us  Refrigerators         Whirlpool   \n",
       "3  bestbuy_us  Refrigerators         Whirlpool   \n",
       "4  bestbuy_us  Refrigerators         Whirlpool   \n",
       "\n",
       "                                                 URL  \\\n",
       "0  https://www.lowes.com/pd/GE-25-1-cu-ft-Side-by...   \n",
       "1  https://www.lowes.com/pd/Frigidaire-Gallery-21...   \n",
       "2  https://www.bestbuy.com/site/whirlpool-21-9-cu...   \n",
       "3  https://www.bestbuy.com/site/whirlpool-21-9-cu...   \n",
       "4  https://www.bestbuy.com/site/whirlpool-22-1-cu...   \n",
       "\n",
       "                                         Description  \\\n",
       "0  GE 25.1-cu ft Side-by-Side Refrigerator with I...   \n",
       "1  Frigidaire Gallery 21.7-cu ft Counter-depth Fr...   \n",
       "2  Whirlpool - 21.9 Cu. Ft. Bottom-Freezer Refrig...   \n",
       "3  Whirlpool - 21.9 Cu. Ft. Bottom-Freezer Refrig...   \n",
       "4  Whirlpool - 22.1 Cu. Ft. Bottom-Freezer Refrig...   \n",
       "\n",
       "                                  Technical Features  \\\n",
       "0  '25.1':2 'black':13 'by':7 'cu':3 'ft':4 'ge':...   \n",
       "1  '21.7':3 'counter':7 'counter-depth':6 'cu':4 ...   \n",
       "2  '21.9':2 'bottom':6 'bottom-freezer':5 'cu':3 ...   \n",
       "3  '21.9':2 'black':9 'bottom':6 'bottom-freezer'...   \n",
       "4  '22.1':2 'black':9 'bottom':6 'bottom-freezer'...   \n",
       "\n",
       "                                    General Features  \\\n",
       "0  {'brand': ['GE', 'Ge'], 'model': ['GSS25IBNTS'...   \n",
       "1  {'brand': ['Frigidaire', 'Frigidaire'], 'model...   \n",
       "2  {'brand': ['whirlpool'], 'Other_UPC': ['883049...   \n",
       "3  {'brand': ['whirlpool'], 'Other_UPC': ['883049...   \n",
       "4  {'brand': ['whirlpool'], 'Other_UPC': ['883049...   \n",
       "\n",
       "                                     Comment#1  \\\n",
       "0                                   functional   \n",
       "1  ample door storage user friendly visibility   \n",
       "2                                    much room   \n",
       "3                                    much room   \n",
       "4                                    much room   \n",
       "\n",
       "                                           Comment#2  Rating  \\\n",
       "0  pros fingerprint resistant dont constantly wip...     3.0   \n",
       "1  feels solid upscale excellent design door shel...     5.0   \n",
       "2  love fridge much room french door style large ...     5.0   \n",
       "3  love fridge much room french door style large ...     5.0   \n",
       "4  love fridge much room french door style large ...     5.0   \n",
       "\n",
       "                               Available Colors  No. Colors  \\\n",
       "0                  ['1000859768', '1000859852']           2   \n",
       "1                                ['1000289721']           1   \n",
       "2  ['3928039', '3928048', '3979801', '6112639']           4   \n",
       "3  ['3928039', '3928048', '3979801', '6112639']           4   \n",
       "4  ['3928039', '3928048', '3979801', '6112639']           4   \n",
       "\n",
       "                                        Full_Comment  \n",
       "0  functional pros fingerprint resistant dont con...  \n",
       "1  ample door storage user friendly visibility fe...  \n",
       "2  much room love fridge much room french door st...  \n",
       "3  much room love fridge much room french door st...  \n",
       "4  much room love fridge much room french door st...  "
      ]
     },
     "execution_count": 10,
     "metadata": {},
     "output_type": "execute_result"
    }
   ],
   "source": [
    "col_names = ['Comment#1', 'Comment#2']\n",
    "data['Full_Comment'] = data.apply(lambda x: x[col_names[0]] + ' ' + x[col_names[1]], axis=1)\n",
    "data.head(5)"
   ]
  },
  {
   "cell_type": "markdown",
   "metadata": {},
   "source": [
    "## 2 - Avaliando Sentimento usando TextBlob Sentiment Package"
   ]
  },
  {
   "cell_type": "code",
   "execution_count": 11,
   "metadata": {
    "scrolled": false
   },
   "outputs": [
    {
     "data": {
      "text/html": [
       "<div>\n",
       "<style scoped>\n",
       "    .dataframe tbody tr th:only-of-type {\n",
       "        vertical-align: middle;\n",
       "    }\n",
       "\n",
       "    .dataframe tbody tr th {\n",
       "        vertical-align: top;\n",
       "    }\n",
       "\n",
       "    .dataframe thead th {\n",
       "        text-align: right;\n",
       "    }\n",
       "</style>\n",
       "<table border=\"1\" class=\"dataframe\">\n",
       "  <thead>\n",
       "    <tr style=\"text-align: right;\">\n",
       "      <th></th>\n",
       "      <th>Website</th>\n",
       "      <th>Product</th>\n",
       "      <th>Brand</th>\n",
       "      <th>URL</th>\n",
       "      <th>Description</th>\n",
       "      <th>Technical Features</th>\n",
       "      <th>General Features</th>\n",
       "      <th>Comment#1</th>\n",
       "      <th>Comment#2</th>\n",
       "      <th>Rating</th>\n",
       "      <th>Available Colors</th>\n",
       "      <th>No. Colors</th>\n",
       "      <th>Full_Comment</th>\n",
       "      <th>polarity</th>\n",
       "      <th>subjectivity</th>\n",
       "    </tr>\n",
       "  </thead>\n",
       "  <tbody>\n",
       "    <tr>\n",
       "      <th>0</th>\n",
       "      <td>lowes</td>\n",
       "      <td>Refrigerators</td>\n",
       "      <td>General Electric</td>\n",
       "      <td>https://www.lowes.com/pd/GE-25-1-cu-ft-Side-by...</td>\n",
       "      <td>GE 25.1-cu ft Side-by-Side Refrigerator with I...</td>\n",
       "      <td>'25.1':2 'black':13 'by':7 'cu':3 'ft':4 'ge':...</td>\n",
       "      <td>{'brand': ['GE', 'Ge'], 'model': ['GSS25IBNTS'...</td>\n",
       "      <td>functional</td>\n",
       "      <td>pros fingerprint resistant dont constantly wip...</td>\n",
       "      <td>3.0</td>\n",
       "      <td>['1000859768', '1000859852']</td>\n",
       "      <td>2</td>\n",
       "      <td>functional pros fingerprint resistant dont con...</td>\n",
       "      <td>0.250000</td>\n",
       "      <td>0.645833</td>\n",
       "    </tr>\n",
       "    <tr>\n",
       "      <th>1</th>\n",
       "      <td>lowes</td>\n",
       "      <td>Refrigerators</td>\n",
       "      <td>Frigidaire</td>\n",
       "      <td>https://www.lowes.com/pd/Frigidaire-Gallery-21...</td>\n",
       "      <td>Frigidaire Gallery 21.7-cu ft Counter-depth Fr...</td>\n",
       "      <td>'21.7':3 'counter':7 'counter-depth':6 'cu':4 ...</td>\n",
       "      <td>{'brand': ['Frigidaire', 'Frigidaire'], 'model...</td>\n",
       "      <td>ample door storage user friendly visibility</td>\n",
       "      <td>feels solid upscale excellent design door shel...</td>\n",
       "      <td>5.0</td>\n",
       "      <td>['1000289721']</td>\n",
       "      <td>1</td>\n",
       "      <td>ample door storage user friendly visibility fe...</td>\n",
       "      <td>0.379762</td>\n",
       "      <td>0.561905</td>\n",
       "    </tr>\n",
       "    <tr>\n",
       "      <th>2</th>\n",
       "      <td>bestbuy_us</td>\n",
       "      <td>Refrigerators</td>\n",
       "      <td>Whirlpool</td>\n",
       "      <td>https://www.bestbuy.com/site/whirlpool-21-9-cu...</td>\n",
       "      <td>Whirlpool - 21.9 Cu. Ft. Bottom-Freezer Refrig...</td>\n",
       "      <td>'21.9':2 'bottom':6 'bottom-freezer':5 'cu':3 ...</td>\n",
       "      <td>{'brand': ['whirlpool'], 'Other_UPC': ['883049...</td>\n",
       "      <td>much room</td>\n",
       "      <td>love fridge much room french door style large ...</td>\n",
       "      <td>5.0</td>\n",
       "      <td>['3928039', '3928048', '3979801', '6112639']</td>\n",
       "      <td>4</td>\n",
       "      <td>much room love fridge much room french door st...</td>\n",
       "      <td>0.219048</td>\n",
       "      <td>0.271429</td>\n",
       "    </tr>\n",
       "    <tr>\n",
       "      <th>3</th>\n",
       "      <td>bestbuy_us</td>\n",
       "      <td>Refrigerators</td>\n",
       "      <td>Whirlpool</td>\n",
       "      <td>https://www.bestbuy.com/site/whirlpool-21-9-cu...</td>\n",
       "      <td>Whirlpool - 21.9 Cu. Ft. Bottom-Freezer Refrig...</td>\n",
       "      <td>'21.9':2 'black':9 'bottom':6 'bottom-freezer'...</td>\n",
       "      <td>{'brand': ['whirlpool'], 'Other_UPC': ['883049...</td>\n",
       "      <td>much room</td>\n",
       "      <td>love fridge much room french door style large ...</td>\n",
       "      <td>5.0</td>\n",
       "      <td>['3928039', '3928048', '3979801', '6112639']</td>\n",
       "      <td>4</td>\n",
       "      <td>much room love fridge much room french door st...</td>\n",
       "      <td>0.219048</td>\n",
       "      <td>0.271429</td>\n",
       "    </tr>\n",
       "    <tr>\n",
       "      <th>4</th>\n",
       "      <td>bestbuy_us</td>\n",
       "      <td>Refrigerators</td>\n",
       "      <td>Whirlpool</td>\n",
       "      <td>https://www.bestbuy.com/site/whirlpool-22-1-cu...</td>\n",
       "      <td>Whirlpool - 22.1 Cu. Ft. Bottom-Freezer Refrig...</td>\n",
       "      <td>'22.1':2 'black':9 'bottom':6 'bottom-freezer'...</td>\n",
       "      <td>{'brand': ['whirlpool'], 'Other_UPC': ['883049...</td>\n",
       "      <td>much room</td>\n",
       "      <td>love fridge much room french door style large ...</td>\n",
       "      <td>5.0</td>\n",
       "      <td>['3928039', '3928048', '3979801', '6112639']</td>\n",
       "      <td>4</td>\n",
       "      <td>much room love fridge much room french door st...</td>\n",
       "      <td>0.219048</td>\n",
       "      <td>0.271429</td>\n",
       "    </tr>\n",
       "  </tbody>\n",
       "</table>\n",
       "</div>"
      ],
      "text/plain": [
       "      Website        Product             Brand  \\\n",
       "0       lowes  Refrigerators  General Electric   \n",
       "1       lowes  Refrigerators        Frigidaire   \n",
       "2  bestbuy_us  Refrigerators         Whirlpool   \n",
       "3  bestbuy_us  Refrigerators         Whirlpool   \n",
       "4  bestbuy_us  Refrigerators         Whirlpool   \n",
       "\n",
       "                                                 URL  \\\n",
       "0  https://www.lowes.com/pd/GE-25-1-cu-ft-Side-by...   \n",
       "1  https://www.lowes.com/pd/Frigidaire-Gallery-21...   \n",
       "2  https://www.bestbuy.com/site/whirlpool-21-9-cu...   \n",
       "3  https://www.bestbuy.com/site/whirlpool-21-9-cu...   \n",
       "4  https://www.bestbuy.com/site/whirlpool-22-1-cu...   \n",
       "\n",
       "                                         Description  \\\n",
       "0  GE 25.1-cu ft Side-by-Side Refrigerator with I...   \n",
       "1  Frigidaire Gallery 21.7-cu ft Counter-depth Fr...   \n",
       "2  Whirlpool - 21.9 Cu. Ft. Bottom-Freezer Refrig...   \n",
       "3  Whirlpool - 21.9 Cu. Ft. Bottom-Freezer Refrig...   \n",
       "4  Whirlpool - 22.1 Cu. Ft. Bottom-Freezer Refrig...   \n",
       "\n",
       "                                  Technical Features  \\\n",
       "0  '25.1':2 'black':13 'by':7 'cu':3 'ft':4 'ge':...   \n",
       "1  '21.7':3 'counter':7 'counter-depth':6 'cu':4 ...   \n",
       "2  '21.9':2 'bottom':6 'bottom-freezer':5 'cu':3 ...   \n",
       "3  '21.9':2 'black':9 'bottom':6 'bottom-freezer'...   \n",
       "4  '22.1':2 'black':9 'bottom':6 'bottom-freezer'...   \n",
       "\n",
       "                                    General Features  \\\n",
       "0  {'brand': ['GE', 'Ge'], 'model': ['GSS25IBNTS'...   \n",
       "1  {'brand': ['Frigidaire', 'Frigidaire'], 'model...   \n",
       "2  {'brand': ['whirlpool'], 'Other_UPC': ['883049...   \n",
       "3  {'brand': ['whirlpool'], 'Other_UPC': ['883049...   \n",
       "4  {'brand': ['whirlpool'], 'Other_UPC': ['883049...   \n",
       "\n",
       "                                     Comment#1  \\\n",
       "0                                   functional   \n",
       "1  ample door storage user friendly visibility   \n",
       "2                                    much room   \n",
       "3                                    much room   \n",
       "4                                    much room   \n",
       "\n",
       "                                           Comment#2  Rating  \\\n",
       "0  pros fingerprint resistant dont constantly wip...     3.0   \n",
       "1  feels solid upscale excellent design door shel...     5.0   \n",
       "2  love fridge much room french door style large ...     5.0   \n",
       "3  love fridge much room french door style large ...     5.0   \n",
       "4  love fridge much room french door style large ...     5.0   \n",
       "\n",
       "                               Available Colors  No. Colors  \\\n",
       "0                  ['1000859768', '1000859852']           2   \n",
       "1                                ['1000289721']           1   \n",
       "2  ['3928039', '3928048', '3979801', '6112639']           4   \n",
       "3  ['3928039', '3928048', '3979801', '6112639']           4   \n",
       "4  ['3928039', '3928048', '3979801', '6112639']           4   \n",
       "\n",
       "                                        Full_Comment  polarity  subjectivity  \n",
       "0  functional pros fingerprint resistant dont con...  0.250000      0.645833  \n",
       "1  ample door storage user friendly visibility fe...  0.379762      0.561905  \n",
       "2  much room love fridge much room french door st...  0.219048      0.271429  \n",
       "3  much room love fridge much room french door st...  0.219048      0.271429  \n",
       "4  much room love fridge much room french door st...  0.219048      0.271429  "
      ]
     },
     "execution_count": 11,
     "metadata": {},
     "output_type": "execute_result"
    }
   ],
   "source": [
    "col_name = ['Full_Comment']\n",
    "## Criando duas novas colunas para cada comentário: polarity e subjectivity\n",
    "data['polarity'] = data.apply(lambda x: TextBlob(x[col_name[0]]).sentiment.polarity, axis=1 )\n",
    "data['subjectivity'] = data.apply(lambda x: TextBlob(x[col_name[0]]).sentiment.subjectivity, axis=1 )\n",
    "data.head(5)"
   ]
  },
  {
   "cell_type": "markdown",
   "metadata": {},
   "source": [
    "### 2.1 - Avaliando Polaridade para cada Marca"
   ]
  },
  {
   "cell_type": "code",
   "execution_count": 12,
   "metadata": {},
   "outputs": [
    {
     "data": {
      "text/plain": [
       "Brand\n",
       "Whirlpool           6602\n",
       "General Electric    4886\n",
       "Frigidaire          2890\n",
       "Samsung             1854\n",
       "LG                  1784\n",
       "Kitchenaid           837\n",
       "Maytag               436\n",
       "Cafe                 303\n",
       "Insignia™            161\n",
       "Magic Chef           120\n",
       "Name: Product, dtype: int64"
      ]
     },
     "execution_count": 12,
     "metadata": {},
     "output_type": "execute_result"
    }
   ],
   "source": [
    "## as 10 marcas com mais produtos no dataset\n",
    "num_products_per_brand = data.groupby(['Brand'])['Product'].count().sort_values(ascending=False)\n",
    "ten_most_brands = num_products_per_brand.head(10)\n",
    "ten_most_brands"
   ]
  },
  {
   "cell_type": "code",
   "execution_count": 13,
   "metadata": {
    "scrolled": true
   },
   "outputs": [
    {
     "data": {
      "text/plain": [
       "Brand\n",
       "Whirlpool           0.298125\n",
       "General Electric    0.286678\n",
       "Frigidaire          0.292159\n",
       "Samsung             0.288977\n",
       "LG                  0.256354\n",
       "Kitchenaid          0.314610\n",
       "Maytag              0.263281\n",
       "Cafe                0.269668\n",
       "Insignia™           0.275634\n",
       "Magic Chef          0.283532\n",
       "Name: polarity, dtype: float64"
      ]
     },
     "execution_count": 13,
     "metadata": {},
     "output_type": "execute_result"
    }
   ],
   "source": [
    "## Dessas 10 maiores marcas, pegando a média de polaridade de cada uma delas\n",
    "brands_mean_polarity = data.groupby('Brand')['polarity'].mean()\n",
    "ten_most_brands = brands_mean_polarity.loc[ten_most_brands.index]\n",
    "ten_most_brands"
   ]
  },
  {
   "cell_type": "code",
   "execution_count": 14,
   "metadata": {},
   "outputs": [
    {
     "data": {
      "image/png": "[encoded data removed]",
      "text/plain": [
       "<Figure size 864x576 with 1 Axes>"
      ]
     },
     "metadata": {
      "needs_background": "light"
     },
     "output_type": "display_data"
    }
   ],
   "source": [
    "plt.figure(figsize=(12,8))\n",
    "sns.set(style=\"whitegrid\")\n",
    "\n",
    "plt.title('Média da Polaridade para as 10 marcas com mais produtos', fontdict={'fontsize': 20, 'fontweight': 'bold'})\n",
    "\n",
    "barplot = sns.barplot(x=ten_most_brands.index, \n",
    "            y=ten_most_brands.values,\n",
    "            palette=sns.color_palette('BuGn_r', n_colors=len(ten_most_brands)+2))\n",
    "plt.xticks(rotation=45)\n",
    "plt.show()"
   ]
  },
  {
   "cell_type": "markdown",
   "metadata": {},
   "source": [
    "### 2.2 - Avaliando Polaridade para cada Website"
   ]
  },
  {
   "cell_type": "code",
   "execution_count": 15,
   "metadata": {
    "scrolled": true
   },
   "outputs": [
    {
     "data": {
      "text/plain": [
       "Website\n",
       "lowes              9478\n",
       "homedepot          4041\n",
       "bestbuy_us         2406\n",
       "whirlpool          1241\n",
       "walmart_us          987\n",
       "costco_us           738\n",
       "ge_appliance_us     490\n",
       "lg_us               453\n",
       "samsclub            196\n",
       "maytag              187\n",
       "Name: Product, dtype: int64"
      ]
     },
     "execution_count": 15,
     "metadata": {},
     "output_type": "execute_result"
    }
   ],
   "source": [
    "## os 10 websites com mais produtos no dataset\n",
    "num_products_per_website = data.groupby(['Website'])['Product'].count().sort_values(ascending=False)\n",
    "ten_most_websites = num_products_per_website.head(10)\n",
    "ten_most_websites"
   ]
  },
  {
   "cell_type": "code",
   "execution_count": 16,
   "metadata": {
    "scrolled": true
   },
   "outputs": [
    {
     "data": {
      "text/plain": [
       "Website\n",
       "lowes              0.297245\n",
       "homedepot          0.275205\n",
       "bestbuy_us         0.304021\n",
       "whirlpool          0.265460\n",
       "walmart_us         0.284427\n",
       "costco_us          0.278162\n",
       "ge_appliance_us    0.262334\n",
       "lg_us              0.239062\n",
       "samsclub           0.287552\n",
       "maytag             0.267178\n",
       "Name: polarity, dtype: float64"
      ]
     },
     "execution_count": 16,
     "metadata": {},
     "output_type": "execute_result"
    }
   ],
   "source": [
    "## Desses 10 maiores sites, pegando a média de polaridade de cada um deles\n",
    "sites_mean_polarity = data.groupby('Website')['polarity'].mean()\n",
    "ten_most_websites = sites_mean_polarity.loc[ten_most_websites.index]\n",
    "ten_most_websites"
   ]
  },
  {
   "cell_type": "code",
   "execution_count": 17,
   "metadata": {},
   "outputs": [
    {
     "data": {
      "image/png": "[encoded data removed]",
      "text/plain": [
       "<Figure size 864x576 with 1 Axes>"
      ]
     },
     "metadata": {},
     "output_type": "display_data"
    }
   ],
   "source": [
    "plt.figure(figsize=(12,8))\n",
    "sns.set(style=\"whitegrid\")\n",
    "\n",
    "plt.title('Média da Polaridade para os 10 sites com mais produtos', fontdict={'fontsize': 20, 'fontweight': 'bold'})\n",
    "\n",
    "barplot = sns.barplot(x=ten_most_websites.index, \n",
    "            y=ten_most_websites.values,\n",
    "            palette=sns.color_palette('BuGn_r', n_colors=len(ten_most_websites)+2))\n",
    "plt.xticks(rotation=45)\n",
    "plt.show()"
   ]
  },
  {
   "cell_type": "markdown",
   "metadata": {},
   "source": [
    "### 2.3 - Avaliando Polaridade para cada Modelo de geladeira"
   ]
  },
  {
   "cell_type": "code",
   "execution_count": 18,
   "metadata": {},
   "outputs": [],
   "source": [
    "def get_features(general_features):\n",
    "\n",
    "    features = {}\n",
    "    count = 0\n",
    "\n",
    "    x = general_features.split('], ')\n",
    "    for string in x:\n",
    "        y = string.strip('{}')\n",
    "        if(y.find('\"') == -1):\n",
    "            y = y.split(\"': \")\n",
    "        else:\n",
    "            y = y.split('\": ')\n",
    "        #print(y)\n",
    "        for text in y:\n",
    "            if(count==0):\n",
    "                count=1\n",
    "                if(text.strip(\" '\") == 'title'):\n",
    "                    count= 0 \n",
    "                    continue\n",
    "                if(text.find('[') == -1):\n",
    "                    chave = text.strip(\" '\").lower()\n",
    "                    features[chave]=None\n",
    "            else:\n",
    "                count=0\n",
    "                if(text.find('[') == -1):\n",
    "                    continue\n",
    "                else:\n",
    "                    value = text.strip('[ ').split(',')\n",
    "                    features[chave] = value\n",
    "    for chave, value in features.items():\n",
    "        if(chave.find('unspsc') != -1):\n",
    "            features['unspsc'] = features.pop(chave)\n",
    "            break\n",
    "    return features"
   ]
  },
  {
   "cell_type": "code",
   "execution_count": 19,
   "metadata": {},
   "outputs": [],
   "source": [
    "## Transformando a coluna General Features que é uma string em um dicionário com chaves e valores\n",
    "\n",
    "temp = data.copy()\n",
    "general_features = data['General Features']\n",
    "count = 0\n",
    "for row in general_features:\n",
    "    features = get_features(row)\n",
    "    temp.at[count, 'General Features'] =  features\n",
    "    count+=1"
   ]
  },
  {
   "cell_type": "code",
   "execution_count": 20,
   "metadata": {
    "scrolled": false
   },
   "outputs": [
    {
     "name": "stderr",
     "output_type": "stream",
     "text": [
      "/home/joaogarcia/Documents/DataScience/venv/lib/python3.6/site-packages/ipykernel_launcher.py:7: SettingWithCopyWarning: \n",
      "A value is trying to be set on a copy of a slice from a DataFrame.\n",
      "Try using .loc[row_indexer,col_indexer] = value instead\n",
      "\n",
      "See the caveats in the documentation: http://pandas.pydata.org/pandas-docs/stable/indexing.html#indexing-view-versus-copy\n",
      "  import sys\n"
     ]
    }
   ],
   "source": [
    "## Separando somente aqueles produtos que tem a informação de modelo na coluna General Features\n",
    "## As vezes esse modelo é uma lista de dois valores, mas eles em geral são iguais, por isso só pega a posição 0\n",
    "\n",
    "col_name = ['General Features']\n",
    "temp['Model'] = temp.apply(lambda x: 'model' in x[col_name[0]].keys(), axis=1)\n",
    "data_w_model = temp.loc[temp['Model'] == True]\n",
    "data_w_model['Model'] = data_w_model.apply(lambda x: x[col_name[0]]['model'][0], axis =1)"
   ]
  },
  {
   "cell_type": "code",
   "execution_count": 21,
   "metadata": {},
   "outputs": [
    {
     "data": {
      "text/plain": [
       "Model\n",
       "'WRX735SDHZ'    141\n",
       "'FFHB2750TD'    116\n",
       "'GFE26JBMTS'    110\n",
       "'FFSS2615TD'    105\n",
       "'FFSS2615TS'    104\n",
       "'FFSS2615TP'    103\n",
       "'WRF535SWHZ'     95\n",
       "'WRX735SDHW'     88\n",
       "'FFTR1814TW'     87\n",
       "'WRX735SDHV'     87\n",
       "Name: Product, dtype: int64"
      ]
     },
     "execution_count": 21,
     "metadata": {},
     "output_type": "execute_result"
    }
   ],
   "source": [
    "## os 10 modelos com mais produtos no dataset\n",
    "num_products_per_model = data_w_model.groupby(['Model'])['Product'].count().sort_values(ascending=False)\n",
    "ten_most_models = num_products_per_model.head(10)\n",
    "ten_most_models"
   ]
  },
  {
   "cell_type": "code",
   "execution_count": 22,
   "metadata": {
    "scrolled": false
   },
   "outputs": [
    {
     "data": {
      "text/plain": [
       "Model\n",
       "'WRF535SWHZ'    0.343611\n",
       "'WRX735SDHW'    0.340473\n",
       "'WRX735SDHV'    0.338783\n",
       "'FFHB2750TD'    0.337564\n",
       "'WRX735SDHZ'    0.310292\n",
       "'FFSS2615TD'    0.298022\n",
       "'FFSS2615TP'    0.296507\n",
       "'FFSS2615TS'    0.296080\n",
       "'FFTR1814TW'    0.287678\n",
       "'GFE26JBMTS'    0.264681\n",
       "Name: polarity, dtype: float64"
      ]
     },
     "execution_count": 22,
     "metadata": {},
     "output_type": "execute_result"
    }
   ],
   "source": [
    "## Desses 10 modelos, egando a média de polaridade de cada um deles\n",
    "models_mean_polarity = data_w_model.groupby('Model')['polarity'].mean()\n",
    "ten_most_models = models_mean_polarity.loc[ten_most_models.index].sort_values(ascending=False)\n",
    "ten_most_models"
   ]
  },
  {
   "cell_type": "code",
   "execution_count": 23,
   "metadata": {},
   "outputs": [
    {
     "data": {
      "image/png": "[encoded data removed]",
      "text/plain": [
       "<Figure size 864x576 with 1 Axes>"
      ]
     },
     "metadata": {},
     "output_type": "display_data"
    }
   ],
   "source": [
    "plt.figure(figsize=(12,8))\n",
    "sns.set(style=\"whitegrid\")\n",
    "\n",
    "plt.title('Média da Polaridade para os 10 modelos com mais produtos', fontdict={'fontsize': 20, 'fontweight': 'bold'})\n",
    "\n",
    "barplot = sns.barplot(x=ten_most_models.index, \n",
    "            y=ten_most_models.values,\n",
    "            palette=sns.color_palette('BuGn_r', n_colors=len(ten_most_models)+2))\n",
    "plt.xticks(rotation=45)\n",
    "plt.show()"
   ]
  },
  {
   "cell_type": "code",
   "execution_count": 24,
   "metadata": {
    "scrolled": true
   },
   "outputs": [
    {
     "data": {
      "text/plain": [
       "Model\n",
       "'WRX735SDHW'    4.534091\n",
       "'WRX735SDHV'    4.528736\n",
       "'WRF535SWHZ'    4.526316\n",
       "'FFHB2750TD'    4.379310\n",
       "'WRX735SDHZ'    4.333333\n",
       "'FFTR1814TW'    4.321839\n",
       "'GFE26JBMTS'    4.163636\n",
       "'FFSS2615TP'    4.126214\n",
       "'FFSS2615TD'    4.123810\n",
       "'FFSS2615TS'    4.115385\n",
       "Name: Rating, dtype: float64"
      ]
     },
     "execution_count": 24,
     "metadata": {},
     "output_type": "execute_result"
    }
   ],
   "source": [
    "## Retirando também a média de Rating para esses modelos\n",
    "\n",
    "models_mean_rating = data_w_model.groupby('Model')['Rating'].mean()\n",
    "models_mean_rating.loc[ten_most_models.index].sort_values(ascending=False)"
   ]
  },
  {
   "cell_type": "markdown",
   "metadata": {},
   "source": [
    "### 2.4 - Avaliando o Modelo WRX735SDHZ - que tem a terceira melhor média de rating, e a primeira em polaridade, e é o modelo com mais comentários no dataset"
   ]
  },
  {
   "cell_type": "code",
   "execution_count": 25,
   "metadata": {
    "scrolled": true
   },
   "outputs": [],
   "source": [
    "WRX735SDHZ_info = data_w_model.loc[data_w_model['Model'] == \"'WRX735SDHZ'\" ]\n",
    "WRX735SDHZ_info.reset_index(drop=True, inplace=True)"
   ]
  },
  {
   "cell_type": "code",
   "execution_count": 26,
   "metadata": {},
   "outputs": [
    {
     "data": {
      "text/plain": [
       "array(['costco_us', 'lowes'], dtype=object)"
      ]
     },
     "execution_count": 26,
     "metadata": {},
     "output_type": "execute_result"
    }
   ],
   "source": [
    "WRX735SDHZ_info['Website'].unique()"
   ]
  },
  {
   "cell_type": "code",
   "execution_count": 27,
   "metadata": {
    "scrolled": true
   },
   "outputs": [
    {
     "data": {
      "text/plain": [
       "array(['Whirlpool'], dtype=object)"
      ]
     },
     "execution_count": 27,
     "metadata": {},
     "output_type": "execute_result"
    }
   ],
   "source": [
    "WRX735SDHZ_info['Brand'].unique()"
   ]
  },
  {
   "cell_type": "code",
   "execution_count": 28,
   "metadata": {},
   "outputs": [
    {
     "data": {
      "text/plain": [
       "array(['https://www.costco.com/.product.100378272.html?intl=nosplash',\n",
       "       'https://www.lowes.com/pd/Whirlpool-24-5-cu-ft-4-Door-French-Door-Refrigerator-with-Ice-Maker-Fingerprint-Resistant-Stainless-Steel-ENERGY-STAR/1000257811'],\n",
       "      dtype=object)"
      ]
     },
     "execution_count": 28,
     "metadata": {},
     "output_type": "execute_result"
    }
   ],
   "source": [
    "WRX735SDHZ_info['URL'].unique()"
   ]
  },
  {
   "cell_type": "code",
   "execution_count": 29,
   "metadata": {
    "scrolled": false
   },
   "outputs": [
    {
     "data": {
      "text/plain": [
       "array(['Whirlpool 25CuFt 36-inch Wide French Door Refrigerator with Accu-Chill Management System, Fingerprint Resistant Stainless Steel',\n",
       "       'Whirlpool 24.5-cu ft 4-Door French Door Refrigerator with Ice Maker (Fingerprint-Resistant Stainless Steel) ENERGY STAR'],\n",
       "      dtype=object)"
      ]
     },
     "execution_count": 29,
     "metadata": {},
     "output_type": "execute_result"
    }
   ],
   "source": [
    "WRX735SDHZ_info['Description'].unique()"
   ]
  },
  {
   "cell_type": "code",
   "execution_count": 30,
   "metadata": {},
   "outputs": [
    {
     "data": {
      "text/plain": [
       "array([\"'25cuft':2 '36':3 'accu':11 'accu-chill':10 'chill':12 'door':7 'fingerprint':15 'french':6 'inch':4 'management':13 'refrigerator':8 'resistant':16 'stainless':17 'steel':18 'system':14 'whirlpool':1 'wide':5 'with':9\",\n",
       "       \"'24.5':2 '4':5 'cu':3 'door':6,8 'energy':18 'fingerprint':14 'fingerprint-resistant':13 'french':7 'ft':4 'ice':11 'maker':12 'refrigerator':9 'resistant':15 'stainless':16 'star':19 'steel':17 'whirlpool':1 'with':10\"],\n",
       "      dtype=object)"
      ]
     },
     "execution_count": 30,
     "metadata": {},
     "output_type": "execute_result"
    }
   ],
   "source": [
    "WRX735SDHZ_info['Technical Features'].unique()"
   ]
  },
  {
   "cell_type": "code",
   "execution_count": 31,
   "metadata": {
    "scrolled": false
   },
   "outputs": [
    {
     "data": {
      "text/plain": [
       "{'brand': [\"'whirlpool'\"],\n",
       " 'color': [\"'Stainless Steel'\"],\n",
       " 'model': [\"'WRX735SDHZ'\"],\n",
       " 'weight': [\"'336 lb.'\"],\n",
       " 'features': [\"'Water Filter'\"],\n",
       " 'fit width': [\"'34 - 36 in.'\"],\n",
       " 'model number': [\"'WRX735SDHZ'\"],\n",
       " 'model_number': [\"'WRX735SDHZ'\"],\n",
       " 'warranty type': [\"'Appliances'\"],\n",
       " 'freezer capacity': [\"'6.73 cu. ft.'\"],\n",
       " 'freezer features': [\"'Interior LED Lighting'\"],\n",
       " 'overall capacity': [\"'20 - 24.9 cu. ft.'\"],\n",
       " 'refrigerator type': [\"'French Door'\"],\n",
       " 'dimensions (wxdxh)': [\"'36 in. x 35 in. x 70 in.'\"],\n",
       " 'refrigerator capacity': [\"'17.78 cu. ft.'\"],\n",
       " 'refrigerator features': [\"'Water Filter'\"],\n",
       " 'refrigerator shelf material': [\"'Glass'\"],\n",
       " 'dimensions - w/ door open 90° (wxdxh)': [\"'41 in. x 48 in. x 70.13 in.'\"],\n",
       " 'dimensions - w/o hinges & door (wxdxh)': [\"'35.63 in. x 29 in. x 68.63 in.'\"],\n",
       " 'dimensions - w/ door & w/o handles (wxdxh)': [\"'70.13 in. x 32.13 in. x 35.63 in.'\"],\n",
       " 'dimensions - w/ hinges, handles & door (wxdxh)': [\"'35.63 in. x 34.63 in. x 70.13 in.']\"]}"
      ]
     },
     "execution_count": 31,
     "metadata": {},
     "output_type": "execute_result"
    }
   ],
   "source": [
    "WRX735SDHZ_info['General Features'][0]"
   ]
  },
  {
   "cell_type": "markdown",
   "metadata": {},
   "source": [
    "## 3 - Extraindo Features que andam falando sobre esse modelo"
   ]
  },
  {
   "cell_type": "code",
   "execution_count": 32,
   "metadata": {},
   "outputs": [],
   "source": [
    "## Retirando mais palavras do texto, palavras que tem sentido mais subjetivo \n",
    "## e que em geral não se referem tanto a características do produto\n",
    "new_words = ['lol', 'love', 'bought', 'love', 'isnt', 'get', 'would', 'family', 'great', 'nice', 'im', 'fridge', 'like', 'lot', 'happy', 'good', 'sure', 'best']\n",
    "for word in new_words:\n",
    "    en_stopwords.append(word)"
   ]
  },
  {
   "cell_type": "code",
   "execution_count": 33,
   "metadata": {},
   "outputs": [],
   "source": [
    "def combine_text(full_text, text):\n",
    "    full_text += ' '+text\n",
    "    return full_text"
   ]
  },
  {
   "cell_type": "code",
   "execution_count": 34,
   "metadata": {},
   "outputs": [],
   "source": [
    "## Juntando todos os comentários e removendo as stopwords\n",
    "\n",
    "full_text = ''\n",
    "\n",
    "for row in WRX735SDHZ_info.index:\n",
    "    text = WRX735SDHZ_info.loc[row, 'Full_Comment']\n",
    "    full_text = combine_text(full_text, text)\n",
    "full_text = remove_stop_words(full_text, en_stopwords)"
   ]
  },
  {
   "cell_type": "code",
   "execution_count": 35,
   "metadata": {},
   "outputs": [
    {
     "name": "stdout",
     "output_type": "stream",
     "text": [
      "('ice', 'maker'): 0.220\n",
      "('extra', 'drawer'): 0.092\n",
      "('side', 'side'): 0.078\n",
      "('french', 'door'): 0.071\n",
      "('left', 'door'): 0.071\n",
      "('weeks', 'ago'): 0.064\n",
      "('middle', 'drawer'): 0.064\n",
      "('freezer', 'drawer'): 0.057\n",
      "('month', 'ago'): 0.057\n",
      "('much', 'room'): 0.043\n",
      "('water', 'ice'): 0.043\n",
      "('refrigerator', 'month'): 0.043\n",
      "('lots', 'space'): 0.043\n",
      "('deli', 'drawer'): 0.043\n",
      "('right', 'side'): 0.035\n",
      "('pull', 'drawer'): 0.035\n",
      "('plenty', 'room'): 0.035\n",
      "('door', 'doesnt'): 0.035\n",
      "('drawer', 'perfect'): 0.035\n",
      "('side', 'door'): 0.035\n",
      "('lots', 'room'): 0.028\n",
      "('bit', 'noisy'): 0.028\n",
      "('annoyingly', 'loud'): 0.028\n",
      "('drawer', 'warped'): 0.028\n",
      "('easy', 'access'): 0.028\n",
      "('still', 'getting'): 0.028\n",
      "('getting', 'used'): 0.028\n",
      "('refrigerator', 'one'): 0.028\n",
      "('new', 'one'): 0.028\n",
      "('door', 'refrigerator'): 0.028\n"
     ]
    }
   ],
   "source": [
    "## Tokenizando o texto, calculando a frequência utilizando bigramas e a porcentagem de aparição das palavras\n",
    "tokens = word_tokenize(full_text)\n",
    "bgs = nltk.bigrams(tokens)\n",
    "fdist = FreqDist(bgs)\n",
    "for key, value in fdist.most_common(30):\n",
    "    print('{}: {:.3f}' .format(key, value/len(WRX735SDHZ_info)) )"
   ]
  },
  {
   "cell_type": "markdown",
   "metadata": {},
   "source": [
    "### INSIGHTS:"
   ]
  },
  {
   "cell_type": "markdown",
   "metadata": {},
   "source": [
    "Olhando essa palavras, e a porcentagem com que elas aparecem:\n",
    "- A palavra **ice maker** apareceu em 22% dos comentários\n",
    "- Temos algumas palavras relacionadas a barulho:\n",
    "   - **bit noisy** apareceu em 2.8%, **annoyingly loud** (2.8%)\n",
    "- Temos muitas palavras com relação aos drawers:\n",
    "    - **extra drawer**(9.2%), **middle drawer**(6,4%), **freezer drawer** (5,7%), **deli drawer** (4,3%)\n",
    "- Temos palavras relacionadas ao espaço:\n",
    "    - como **much room**, **lots space**, **lots room**, **plenty room**\n",
    "\n",
    "#### A partir disso podemos supor algumas coisas\n",
    "- A galera elogia bastante os drawers desse modelo, seja ele qualquer tipo de drawer que tenha na geladeira. E também o espaço disponível pela geladeira\n",
    "- Porém tem algumas reclamações com relação ao barulho"
   ]
  },
  {
   "cell_type": "markdown",
   "metadata": {},
   "source": [
    "## 4 - Extraindo Features baseado em Marcas/Websites"
   ]
  },
  {
   "cell_type": "markdown",
   "metadata": {},
   "source": [
    "### 4.1 - Whirlpool"
   ]
  },
  {
   "cell_type": "code",
   "execution_count": 36,
   "metadata": {
    "scrolled": true
   },
   "outputs": [
    {
     "data": {
      "text/html": [
       "<div>\n",
       "<style scoped>\n",
       "    .dataframe tbody tr th:only-of-type {\n",
       "        vertical-align: middle;\n",
       "    }\n",
       "\n",
       "    .dataframe tbody tr th {\n",
       "        vertical-align: top;\n",
       "    }\n",
       "\n",
       "    .dataframe thead th {\n",
       "        text-align: right;\n",
       "    }\n",
       "</style>\n",
       "<table border=\"1\" class=\"dataframe\">\n",
       "  <thead>\n",
       "    <tr style=\"text-align: right;\">\n",
       "      <th></th>\n",
       "      <th>Website</th>\n",
       "      <th>Product</th>\n",
       "      <th>Brand</th>\n",
       "      <th>URL</th>\n",
       "      <th>Description</th>\n",
       "      <th>Technical Features</th>\n",
       "      <th>General Features</th>\n",
       "      <th>Comment#1</th>\n",
       "      <th>Comment#2</th>\n",
       "      <th>Rating</th>\n",
       "      <th>Available Colors</th>\n",
       "      <th>No. Colors</th>\n",
       "      <th>Full_Comment</th>\n",
       "      <th>polarity</th>\n",
       "      <th>subjectivity</th>\n",
       "    </tr>\n",
       "  </thead>\n",
       "  <tbody>\n",
       "    <tr>\n",
       "      <th>2</th>\n",
       "      <td>bestbuy_us</td>\n",
       "      <td>Refrigerators</td>\n",
       "      <td>Whirlpool</td>\n",
       "      <td>https://www.bestbuy.com/site/whirlpool-21-9-cu...</td>\n",
       "      <td>Whirlpool - 21.9 Cu. Ft. Bottom-Freezer Refrig...</td>\n",
       "      <td>'21.9':2 'bottom':6 'bottom-freezer':5 'cu':3 ...</td>\n",
       "      <td>{'brand': ['whirlpool'], 'Other_UPC': ['883049...</td>\n",
       "      <td>much room</td>\n",
       "      <td>love fridge much room french door style large ...</td>\n",
       "      <td>5.0</td>\n",
       "      <td>['3928039', '3928048', '3979801', '6112639']</td>\n",
       "      <td>4</td>\n",
       "      <td>much room love fridge much room french door st...</td>\n",
       "      <td>0.219048</td>\n",
       "      <td>0.271429</td>\n",
       "    </tr>\n",
       "    <tr>\n",
       "      <th>3</th>\n",
       "      <td>bestbuy_us</td>\n",
       "      <td>Refrigerators</td>\n",
       "      <td>Whirlpool</td>\n",
       "      <td>https://www.bestbuy.com/site/whirlpool-21-9-cu...</td>\n",
       "      <td>Whirlpool - 21.9 Cu. Ft. Bottom-Freezer Refrig...</td>\n",
       "      <td>'21.9':2 'black':9 'bottom':6 'bottom-freezer'...</td>\n",
       "      <td>{'brand': ['whirlpool'], 'Other_UPC': ['883049...</td>\n",
       "      <td>much room</td>\n",
       "      <td>love fridge much room french door style large ...</td>\n",
       "      <td>5.0</td>\n",
       "      <td>['3928039', '3928048', '3979801', '6112639']</td>\n",
       "      <td>4</td>\n",
       "      <td>much room love fridge much room french door st...</td>\n",
       "      <td>0.219048</td>\n",
       "      <td>0.271429</td>\n",
       "    </tr>\n",
       "    <tr>\n",
       "      <th>4</th>\n",
       "      <td>bestbuy_us</td>\n",
       "      <td>Refrigerators</td>\n",
       "      <td>Whirlpool</td>\n",
       "      <td>https://www.bestbuy.com/site/whirlpool-22-1-cu...</td>\n",
       "      <td>Whirlpool - 22.1 Cu. Ft. Bottom-Freezer Refrig...</td>\n",
       "      <td>'22.1':2 'black':9 'bottom':6 'bottom-freezer'...</td>\n",
       "      <td>{'brand': ['whirlpool'], 'Other_UPC': ['883049...</td>\n",
       "      <td>much room</td>\n",
       "      <td>love fridge much room french door style large ...</td>\n",
       "      <td>5.0</td>\n",
       "      <td>['3928039', '3928048', '3979801', '6112639']</td>\n",
       "      <td>4</td>\n",
       "      <td>much room love fridge much room french door st...</td>\n",
       "      <td>0.219048</td>\n",
       "      <td>0.271429</td>\n",
       "    </tr>\n",
       "    <tr>\n",
       "      <th>5</th>\n",
       "      <td>bestbuy_us</td>\n",
       "      <td>Refrigerators</td>\n",
       "      <td>Whirlpool</td>\n",
       "      <td>https://www.bestbuy.com/site/whirlpool-21-9-cu...</td>\n",
       "      <td>Whirlpool - 21.9 Cu. Ft. Bottom-Freezer Refrig...</td>\n",
       "      <td>'21.9':2 'bottom':6 'bottom-freezer':5 'cu':3 ...</td>\n",
       "      <td>{'brand': ['whirlpool'], 'Other_UPC': ['883049...</td>\n",
       "      <td>much room</td>\n",
       "      <td>love fridge much room french door style large ...</td>\n",
       "      <td>5.0</td>\n",
       "      <td>['3928039', '3928048', '3979801', '6112639']</td>\n",
       "      <td>4</td>\n",
       "      <td>much room love fridge much room french door st...</td>\n",
       "      <td>0.219048</td>\n",
       "      <td>0.271429</td>\n",
       "    </tr>\n",
       "    <tr>\n",
       "      <th>9</th>\n",
       "      <td>costco_us</td>\n",
       "      <td>Refrigerators</td>\n",
       "      <td>Whirlpool</td>\n",
       "      <td>https://www.costco.com/.product.100369172.html...</td>\n",
       "      <td>Whirlpool 28CuFt Side-by-Side Refrigerator in ...</td>\n",
       "      <td>'28cuft':2 'and':16 'by':5 'dispenser':18 'eve...</td>\n",
       "      <td>{'Brand': ['Whirlpool'], 'Color': ['Stainless ...</td>\n",
       "      <td>good product</td>\n",
       "      <td>bought product office pretty good exception wa...</td>\n",
       "      <td>4.0</td>\n",
       "      <td>['100369172']</td>\n",
       "      <td>1</td>\n",
       "      <td>good product bought product office pretty good...</td>\n",
       "      <td>0.550000</td>\n",
       "      <td>0.733333</td>\n",
       "    </tr>\n",
       "  </tbody>\n",
       "</table>\n",
       "</div>"
      ],
      "text/plain": [
       "      Website        Product      Brand  \\\n",
       "2  bestbuy_us  Refrigerators  Whirlpool   \n",
       "3  bestbuy_us  Refrigerators  Whirlpool   \n",
       "4  bestbuy_us  Refrigerators  Whirlpool   \n",
       "5  bestbuy_us  Refrigerators  Whirlpool   \n",
       "9   costco_us  Refrigerators  Whirlpool   \n",
       "\n",
       "                                                 URL  \\\n",
       "2  https://www.bestbuy.com/site/whirlpool-21-9-cu...   \n",
       "3  https://www.bestbuy.com/site/whirlpool-21-9-cu...   \n",
       "4  https://www.bestbuy.com/site/whirlpool-22-1-cu...   \n",
       "5  https://www.bestbuy.com/site/whirlpool-21-9-cu...   \n",
       "9  https://www.costco.com/.product.100369172.html...   \n",
       "\n",
       "                                         Description  \\\n",
       "2  Whirlpool - 21.9 Cu. Ft. Bottom-Freezer Refrig...   \n",
       "3  Whirlpool - 21.9 Cu. Ft. Bottom-Freezer Refrig...   \n",
       "4  Whirlpool - 22.1 Cu. Ft. Bottom-Freezer Refrig...   \n",
       "5  Whirlpool - 21.9 Cu. Ft. Bottom-Freezer Refrig...   \n",
       "9  Whirlpool 28CuFt Side-by-Side Refrigerator in ...   \n",
       "\n",
       "                                  Technical Features  \\\n",
       "2  '21.9':2 'bottom':6 'bottom-freezer':5 'cu':3 ...   \n",
       "3  '21.9':2 'black':9 'bottom':6 'bottom-freezer'...   \n",
       "4  '22.1':2 'black':9 'bottom':6 'bottom-freezer'...   \n",
       "5  '21.9':2 'bottom':6 'bottom-freezer':5 'cu':3 ...   \n",
       "9  '28cuft':2 'and':16 'by':5 'dispenser':18 'eve...   \n",
       "\n",
       "                                    General Features     Comment#1  \\\n",
       "2  {'brand': ['whirlpool'], 'Other_UPC': ['883049...     much room   \n",
       "3  {'brand': ['whirlpool'], 'Other_UPC': ['883049...     much room   \n",
       "4  {'brand': ['whirlpool'], 'Other_UPC': ['883049...     much room   \n",
       "5  {'brand': ['whirlpool'], 'Other_UPC': ['883049...     much room   \n",
       "9  {'Brand': ['Whirlpool'], 'Color': ['Stainless ...  good product   \n",
       "\n",
       "                                           Comment#2  Rating  \\\n",
       "2  love fridge much room french door style large ...     5.0   \n",
       "3  love fridge much room french door style large ...     5.0   \n",
       "4  love fridge much room french door style large ...     5.0   \n",
       "5  love fridge much room french door style large ...     5.0   \n",
       "9  bought product office pretty good exception wa...     4.0   \n",
       "\n",
       "                               Available Colors  No. Colors  \\\n",
       "2  ['3928039', '3928048', '3979801', '6112639']           4   \n",
       "3  ['3928039', '3928048', '3979801', '6112639']           4   \n",
       "4  ['3928039', '3928048', '3979801', '6112639']           4   \n",
       "5  ['3928039', '3928048', '3979801', '6112639']           4   \n",
       "9                                 ['100369172']           1   \n",
       "\n",
       "                                        Full_Comment  polarity  subjectivity  \n",
       "2  much room love fridge much room french door st...  0.219048      0.271429  \n",
       "3  much room love fridge much room french door st...  0.219048      0.271429  \n",
       "4  much room love fridge much room french door st...  0.219048      0.271429  \n",
       "5  much room love fridge much room french door st...  0.219048      0.271429  \n",
       "9  good product bought product office pretty good...  0.550000      0.733333  "
      ]
     },
     "execution_count": 36,
     "metadata": {},
     "output_type": "execute_result"
    }
   ],
   "source": [
    "whirlpool_data = data.loc[data['Brand'] == 'Whirlpool']\n",
    "whirlpool_data.head()"
   ]
  },
  {
   "cell_type": "code",
   "execution_count": 37,
   "metadata": {},
   "outputs": [],
   "source": [
    "## Juntando todos os comentários e removendo as stopwords\n",
    "\n",
    "full_text = ''\n",
    "\n",
    "for row in whirlpool_data.index:\n",
    "    text = whirlpool_data.loc[row, 'Full_Comment']\n",
    "    full_text = combine_text(full_text, text)\n",
    "full_text = remove_stop_words(full_text, en_stopwords)"
   ]
  },
  {
   "cell_type": "code",
   "execution_count": 38,
   "metadata": {},
   "outputs": [
    {
     "name": "stdout",
     "output_type": "stream",
     "text": [
      "('ice', 'maker'): 0.188\n",
      "('side', 'side'): 0.084\n",
      "('weeks', 'ago'): 0.060\n",
      "('month', 'ago'): 0.059\n",
      "('water', 'dispenser'): 0.048\n",
      "('french', 'door'): 0.043\n",
      "('lots', 'room'): 0.043\n",
      "('ice', 'water'): 0.043\n",
      "('stainless', 'steel'): 0.036\n",
      "('water', 'ice'): 0.034\n",
      "('old', 'one'): 0.033\n",
      "('plenty', 'room'): 0.031\n",
      "('new', 'refrigerator'): 0.029\n",
      "('freezer', 'bottom'): 0.027\n",
      "('bottom', 'freezer'): 0.027\n",
      "('year', 'old'): 0.025\n",
      "('much', 'room'): 0.025\n",
      "('works', 'well'): 0.024\n",
      "('months', 'ago'): 0.023\n",
      "('freezer', 'door'): 0.023\n",
      "('freezer', 'space'): 0.022\n",
      "('refrigerator', 'refrigerator'): 0.021\n",
      "('lots', 'space'): 0.020\n",
      "('door', 'shelves'): 0.020\n",
      "('door', 'refrigerator'): 0.020\n",
      "('whirlpool', 'refrigerator'): 0.020\n",
      "('top', 'shelf'): 0.019\n",
      "('easy', 'access'): 0.019\n",
      "('old', 'refrigerator'): 0.018\n",
      "('new', 'one'): 0.018\n"
     ]
    }
   ],
   "source": [
    "## Tokenizando o texto, calculando a frequência utilizando bigramas e a porcentagem de aparição das palavras\n",
    "tokens = word_tokenize(full_text)\n",
    "bgs = nltk.bigrams(tokens)\n",
    "fdist = FreqDist(bgs)\n",
    "for key, value in fdist.most_common(30):\n",
    "    print('{}: {:.3f}' .format(key, value/len(whirlpool_data)) )"
   ]
  },
  {
   "cell_type": "markdown",
   "metadata": {},
   "source": [
    "## 4.1.1 Quais caraterísticas aparecem em ratings mais baixos?"
   ]
  },
  {
   "cell_type": "code",
   "execution_count": 39,
   "metadata": {},
   "outputs": [],
   "source": [
    "whirlpool_data_bad = whirlpool_data.loc[whirlpool_data['Rating'] <=2]\n",
    "whirlpool_data_bad.reset_index(drop=True, inplace=True)"
   ]
  },
  {
   "cell_type": "code",
   "execution_count": 40,
   "metadata": {},
   "outputs": [],
   "source": [
    "## Juntando todos os comentários e removendo as stopwords\n",
    "full_text = ''\n",
    "\n",
    "for row in whirlpool_data_bad.index:\n",
    "    text = whirlpool_data_bad.loc[row, 'Full_Comment']\n",
    "    full_text = combine_text(full_text, text)\n",
    "full_text = remove_stop_words(full_text, en_stopwords)"
   ]
  },
  {
   "cell_type": "code",
   "execution_count": 41,
   "metadata": {
    "scrolled": true
   },
   "outputs": [
    {
     "name": "stdout",
     "output_type": "stream",
     "text": [
      "('ice', 'maker'): 0.288\n",
      "('freezer', 'door'): 0.084\n",
      "('stopped', 'working'): 0.067\n",
      "('shelves', 'bins'): 0.059\n",
      "('water', 'line'): 0.057\n",
      "('customer', 'service'): 0.047\n",
      "('cheaply', 'made'): 0.047\n",
      "('open', 'door'): 0.045\n",
      "('brand', 'new'): 0.043\n",
      "('maker', 'stopped'): 0.039\n",
      "('less', 'volume'): 0.039\n",
      "('internal', 'shelves'): 0.039\n",
      "('design', 'flaw'): 0.037\n",
      "('weeks', 'ago'): 0.035\n",
      "('door', 'shelves'): 0.035\n",
      "('poor', 'quality'): 0.035\n",
      "('door', 'handles'): 0.035\n",
      "('runs', 'loud'): 0.035\n",
      "('loud', 'ice'): 0.033\n",
      "('top', 'door'): 0.033\n",
      "('home', 'depot'): 0.033\n",
      "('new', 'refrigerator'): 0.033\n",
      "('didnt', 'work'): 0.033\n",
      "('light', 'freezer'): 0.033\n",
      "('right', 'side'): 0.031\n",
      "('water', 'dispenser'): 0.031\n",
      "('years', 'ago'): 0.029\n",
      "('inside', 'door'): 0.029\n",
      "('two', 'years'): 0.027\n",
      "('year', 'ago'): 0.027\n"
     ]
    }
   ],
   "source": [
    "## Tokenizando o texto, calculando a frequência utilizando bigramas e a porcentagem de aparição das palavras\n",
    "tokens = word_tokenize(full_text)\n",
    "bgs = nltk.bigrams(tokens)\n",
    "fdist = FreqDist(bgs)\n",
    "for key, value in fdist.most_common(30):\n",
    "    print('{}: {:.3f}' .format(key, value/len(whirlpool_data_bad)) )"
   ]
  },
  {
   "cell_type": "markdown",
   "metadata": {},
   "source": [
    "## Insights"
   ]
  },
  {
   "cell_type": "markdown",
   "metadata": {},
   "source": [
    "Olhando essa palavras, e a porcentagem com que elas aparecem:\n",
    "- A palavra **ice maker** apareceu em 27% dos comentários\n",
    "- Temos algumas palavras relacionadas ao fato de que algo parou de funcionar\n",
    "   - **didnt work** apareceu em 2.5%, **stopped working** (6%), **maker stopped**(3%)\n",
    "- Temos reclamações com relação as portas:\n",
    "    - a palavra **door** apareceu várias vezes como em **freezer door**(7%), **inside door**(3,65%), **door handles** (3%), **door shelves** (3,45%)\n",
    "- Temos palavras relacionadas a tempo:\n",
    "    - como **month ago**, **year ago**, **years ago**, **two years**, **weeks ago**\n",
    "\n",
    "#### A partir disso podemos supor algumas coisas\n",
    "- Os usuários tenham problemas com a geladeira, depois de pelo menos algumas semanas utilizando, alguns até anos depois\n",
    "- A maioria dos problemas relatados são com as portas da geladeira e do freezer\n",
    "- Mas há também vários problemas com o atendimento ao cliente (**customer service(4,3%)**), e as prateleiras(**shelves bins (5,8%)**) e **door shelves (3,45%)**\n",
    "- Além disso, aquelas torneiras para por água e para por gelo também são motivo de reclamação **(ice dispenser (2,3%))** e **(water dispenser (3,45%)**"
   ]
  },
  {
   "cell_type": "markdown",
   "metadata": {},
   "source": [
    "## 4.1.2 E Mais positivos?"
   ]
  },
  {
   "cell_type": "code",
   "execution_count": 42,
   "metadata": {},
   "outputs": [],
   "source": [
    "whirlpool_data_good = whirlpool_data.loc[whirlpool_data['Rating'] > 3]\n",
    "whirlpool_data_good.reset_index(drop=True, inplace=True)"
   ]
  },
  {
   "cell_type": "code",
   "execution_count": 43,
   "metadata": {},
   "outputs": [],
   "source": [
    "## Juntando todos os comentários e removendo as stopwords\n",
    "\n",
    "full_text = ''\n",
    "\n",
    "for row in whirlpool_data_good.index:\n",
    "    text = whirlpool_data_good.loc[row, 'Full_Comment']\n",
    "    full_text = combine_text(full_text, text)\n",
    "full_text = remove_stop_words(full_text, en_stopwords)"
   ]
  },
  {
   "cell_type": "code",
   "execution_count": 44,
   "metadata": {},
   "outputs": [
    {
     "name": "stdout",
     "output_type": "stream",
     "text": [
      "('ice', 'maker'): 0.168\n",
      "('side', 'side'): 0.092\n",
      "('month', 'ago'): 0.065\n",
      "('weeks', 'ago'): 0.064\n",
      "('lots', 'room'): 0.050\n",
      "('french', 'door'): 0.050\n",
      "('water', 'dispenser'): 0.048\n",
      "('ice', 'water'): 0.047\n",
      "('water', 'ice'): 0.039\n",
      "('old', 'one'): 0.038\n",
      "('plenty', 'room'): 0.037\n",
      "('stainless', 'steel'): 0.037\n",
      "('freezer', 'bottom'): 0.032\n",
      "('bottom', 'freezer'): 0.031\n",
      "('new', 'refrigerator'): 0.030\n",
      "('year', 'old'): 0.027\n",
      "('much', 'room'): 0.026\n",
      "('refrigerator', 'refrigerator'): 0.025\n",
      "('freezer', 'space'): 0.025\n",
      "('lots', 'space'): 0.025\n",
      "('works', 'well'): 0.022\n",
      "('room', 'freezer'): 0.022\n",
      "('door', 'refrigerator'): 0.021\n",
      "('easy', 'access'): 0.021\n",
      "('old', 'refrigerator'): 0.021\n",
      "('whirlpool', 'refrigerator'): 0.021\n",
      "('top', 'freezer'): 0.021\n",
      "('months', 'ago'): 0.020\n",
      "('space', 'refrigerator'): 0.019\n",
      "('counter', 'depth'): 0.018\n"
     ]
    }
   ],
   "source": [
    "## Tokenizando o texto, calculando a frequência utilizando bigramas e a porcentagem de aparição das palavras\n",
    "tokens = word_tokenize(full_text)\n",
    "bgs = nltk.bigrams(tokens)\n",
    "fdist = FreqDist(bgs)\n",
    "for key, value in fdist.most_common(30):\n",
    "    print('{}: {:.3f}' .format(key, value/len(whirlpool_data_good)) )"
   ]
  },
  {
   "cell_type": "markdown",
   "metadata": {},
   "source": [
    "## Insights:"
   ]
  },
  {
   "cell_type": "markdown",
   "metadata": {},
   "source": [
    "- A palavra **Ice Maker** aparece 16% dos reviews, o que é menos vezes que nos comentários negativos.\n",
    "    - Duas respostas para isso: ou é uma caraterística mais comum e a galera esquece de elogiar ou ela quebra mais que do que funciona de verdade\n",
    "- A cor **Staingless Steel** é bastante comentada, então a galera parece gostar dela.\n",
    "- Assim como na analise do modelo WRX735SDHZ que é da whirpool, também há vários comentários sobre o espaço disponível. Parece ser um comentário comum para a marca.\n",
    "- Uma coisa que eu to percebendo, é que independente da nota para o produto, há sempre comentários com palavras relacionadas ao tempo, como **weeks ago**, **months ago**, etc. O que me faz crer que independente do produto ser bom ou não, o consumidor tende a fazer comentários sobre a geladeira somente depois de um tempo utilizando ela\n",
    "                               "
   ]
  },
  {
   "cell_type": "markdown",
   "metadata": {},
   "source": [
    "## 4.2 General Electric"
   ]
  },
  {
   "cell_type": "code",
   "execution_count": 45,
   "metadata": {},
   "outputs": [
    {
     "data": {
      "text/html": [
       "<div>\n",
       "<style scoped>\n",
       "    .dataframe tbody tr th:only-of-type {\n",
       "        vertical-align: middle;\n",
       "    }\n",
       "\n",
       "    .dataframe tbody tr th {\n",
       "        vertical-align: top;\n",
       "    }\n",
       "\n",
       "    .dataframe thead th {\n",
       "        text-align: right;\n",
       "    }\n",
       "</style>\n",
       "<table border=\"1\" class=\"dataframe\">\n",
       "  <thead>\n",
       "    <tr style=\"text-align: right;\">\n",
       "      <th></th>\n",
       "      <th>Website</th>\n",
       "      <th>Product</th>\n",
       "      <th>Brand</th>\n",
       "      <th>URL</th>\n",
       "      <th>Description</th>\n",
       "      <th>Technical Features</th>\n",
       "      <th>General Features</th>\n",
       "      <th>Comment#1</th>\n",
       "      <th>Comment#2</th>\n",
       "      <th>Rating</th>\n",
       "      <th>Available Colors</th>\n",
       "      <th>No. Colors</th>\n",
       "      <th>Full_Comment</th>\n",
       "      <th>polarity</th>\n",
       "      <th>subjectivity</th>\n",
       "    </tr>\n",
       "  </thead>\n",
       "  <tbody>\n",
       "    <tr>\n",
       "      <th>0</th>\n",
       "      <td>lowes</td>\n",
       "      <td>Refrigerators</td>\n",
       "      <td>General Electric</td>\n",
       "      <td>https://www.lowes.com/pd/GE-25-1-cu-ft-Side-by...</td>\n",
       "      <td>GE 25.1-cu ft Side-by-Side Refrigerator with I...</td>\n",
       "      <td>'25.1':2 'black':13 'by':7 'cu':3 'ft':4 'ge':...</td>\n",
       "      <td>{'brand': ['GE', 'Ge'], 'model': ['GSS25IBNTS'...</td>\n",
       "      <td>functional</td>\n",
       "      <td>pros fingerprint resistant dont constantly wip...</td>\n",
       "      <td>3.0</td>\n",
       "      <td>['1000859768', '1000859852']</td>\n",
       "      <td>2</td>\n",
       "      <td>functional pros fingerprint resistant dont con...</td>\n",
       "      <td>0.250000</td>\n",
       "      <td>0.645833</td>\n",
       "    </tr>\n",
       "    <tr>\n",
       "      <th>1</th>\n",
       "      <td>lowes</td>\n",
       "      <td>Refrigerators</td>\n",
       "      <td>General Electric</td>\n",
       "      <td>https://www.lowes.com/pd/GE-25-4-cu-ft-Side-by...</td>\n",
       "      <td>GE 25.4-cu ft Side-by-Side Refrigerator with I...</td>\n",
       "      <td>'25.4':2 'by':7 'cu':3 'ft':4 'ge':1 'ice':11 ...</td>\n",
       "      <td>{'brand': ['GE', 'Ge'], 'model': ['GSS25LSLSS'...</td>\n",
       "      <td>reliable well built</td>\n",
       "      <td>second one model years issues gave someone nee...</td>\n",
       "      <td>5.0</td>\n",
       "      <td>['1000225785']</td>\n",
       "      <td>1</td>\n",
       "      <td>reliable well built second one model years iss...</td>\n",
       "      <td>0.000000</td>\n",
       "      <td>0.000000</td>\n",
       "    </tr>\n",
       "    <tr>\n",
       "      <th>2</th>\n",
       "      <td>homedepot</td>\n",
       "      <td>Refrigerators</td>\n",
       "      <td>General Electric</td>\n",
       "      <td>https://www.homedepot.com//p/GE-17-5-cu-ft-Top...</td>\n",
       "      <td>17.5 cu. ft. Top Freezer Refrigerator in Stain...</td>\n",
       "      <td>'17.5':1 'cu':2 'energy':10 'freezer':5 'ft':3...</td>\n",
       "      <td>{'brand': ['ge'], 'style': ['Top Freezer'], 'R...</td>\n",
       "      <td>seems like good product thou difficult adjusti...</td>\n",
       "      <td>seems like good product thou difficult adjusti...</td>\n",
       "      <td>4.0</td>\n",
       "      <td>['312036574']</td>\n",
       "      <td>1</td>\n",
       "      <td>seems like good product thou difficult adjusti...</td>\n",
       "      <td>0.204545</td>\n",
       "      <td>0.619318</td>\n",
       "    </tr>\n",
       "    <tr>\n",
       "      <th>3</th>\n",
       "      <td>homedepot</td>\n",
       "      <td>Refrigerators</td>\n",
       "      <td>General Electric</td>\n",
       "      <td>https://www.homedepot.com//p/GE-25-3-cu-ft-Sid...</td>\n",
       "      <td>25.3 cu. ft. Side by Side Refrigerator in Stai...</td>\n",
       "      <td>'25.3':1 'by':5 'cu':2 'ft':3 'in':8 'refriger...</td>\n",
       "      <td>{'brand': ['ge']}</td>\n",
       "      <td>great fridge price like fridge</td>\n",
       "      <td>great fridge price like fridge lot great size ...</td>\n",
       "      <td>5.0</td>\n",
       "      <td>['205599120']</td>\n",
       "      <td>1</td>\n",
       "      <td>great fridge price like fridge great fridge pr...</td>\n",
       "      <td>0.369444</td>\n",
       "      <td>0.525000</td>\n",
       "    </tr>\n",
       "    <tr>\n",
       "      <th>4</th>\n",
       "      <td>homedepot</td>\n",
       "      <td>Refrigerators</td>\n",
       "      <td>General Electric</td>\n",
       "      <td>https://www.homedepot.com//p/GE-Profile-21-9-c...</td>\n",
       "      <td>Profile 21.9 cu. ft. Side by Side Refrigerator...</td>\n",
       "      <td>'21.9':2 'by':6 'counter':12 'cu':3 'depth':13...</td>\n",
       "      <td>{'brand': ['ge']}</td>\n",
       "      <td>bought refrigerator everything looked fine beg...</td>\n",
       "      <td>bought refrigerator everything looked fine beg...</td>\n",
       "      <td>1.0</td>\n",
       "      <td>['206801835']</td>\n",
       "      <td>1</td>\n",
       "      <td>bought refrigerator everything looked fine beg...</td>\n",
       "      <td>0.079894</td>\n",
       "      <td>0.352116</td>\n",
       "    </tr>\n",
       "  </tbody>\n",
       "</table>\n",
       "</div>"
      ],
      "text/plain": [
       "     Website        Product             Brand  \\\n",
       "0      lowes  Refrigerators  General Electric   \n",
       "1      lowes  Refrigerators  General Electric   \n",
       "2  homedepot  Refrigerators  General Electric   \n",
       "3  homedepot  Refrigerators  General Electric   \n",
       "4  homedepot  Refrigerators  General Electric   \n",
       "\n",
       "                                                 URL  \\\n",
       "0  https://www.lowes.com/pd/GE-25-1-cu-ft-Side-by...   \n",
       "1  https://www.lowes.com/pd/GE-25-4-cu-ft-Side-by...   \n",
       "2  https://www.homedepot.com//p/GE-17-5-cu-ft-Top...   \n",
       "3  https://www.homedepot.com//p/GE-25-3-cu-ft-Sid...   \n",
       "4  https://www.homedepot.com//p/GE-Profile-21-9-c...   \n",
       "\n",
       "                                         Description  \\\n",
       "0  GE 25.1-cu ft Side-by-Side Refrigerator with I...   \n",
       "1  GE 25.4-cu ft Side-by-Side Refrigerator with I...   \n",
       "2  17.5 cu. ft. Top Freezer Refrigerator in Stain...   \n",
       "3  25.3 cu. ft. Side by Side Refrigerator in Stai...   \n",
       "4  Profile 21.9 cu. ft. Side by Side Refrigerator...   \n",
       "\n",
       "                                  Technical Features  \\\n",
       "0  '25.1':2 'black':13 'by':7 'cu':3 'ft':4 'ge':...   \n",
       "1  '25.4':2 'by':7 'cu':3 'ft':4 'ge':1 'ice':11 ...   \n",
       "2  '17.5':1 'cu':2 'energy':10 'freezer':5 'ft':3...   \n",
       "3  '25.3':1 'by':5 'cu':2 'ft':3 'in':8 'refriger...   \n",
       "4  '21.9':2 'by':6 'counter':12 'cu':3 'depth':13...   \n",
       "\n",
       "                                    General Features  \\\n",
       "0  {'brand': ['GE', 'Ge'], 'model': ['GSS25IBNTS'...   \n",
       "1  {'brand': ['GE', 'Ge'], 'model': ['GSS25LSLSS'...   \n",
       "2  {'brand': ['ge'], 'style': ['Top Freezer'], 'R...   \n",
       "3                                  {'brand': ['ge']}   \n",
       "4                                  {'brand': ['ge']}   \n",
       "\n",
       "                                           Comment#1  \\\n",
       "0                                         functional   \n",
       "1                                reliable well built   \n",
       "2  seems like good product thou difficult adjusti...   \n",
       "3                     great fridge price like fridge   \n",
       "4  bought refrigerator everything looked fine beg...   \n",
       "\n",
       "                                           Comment#2  Rating  \\\n",
       "0  pros fingerprint resistant dont constantly wip...     3.0   \n",
       "1  second one model years issues gave someone nee...     5.0   \n",
       "2  seems like good product thou difficult adjusti...     4.0   \n",
       "3  great fridge price like fridge lot great size ...     5.0   \n",
       "4  bought refrigerator everything looked fine beg...     1.0   \n",
       "\n",
       "               Available Colors  No. Colors  \\\n",
       "0  ['1000859768', '1000859852']           2   \n",
       "1                ['1000225785']           1   \n",
       "2                 ['312036574']           1   \n",
       "3                 ['205599120']           1   \n",
       "4                 ['206801835']           1   \n",
       "\n",
       "                                        Full_Comment  polarity  subjectivity  \n",
       "0  functional pros fingerprint resistant dont con...  0.250000      0.645833  \n",
       "1  reliable well built second one model years iss...  0.000000      0.000000  \n",
       "2  seems like good product thou difficult adjusti...  0.204545      0.619318  \n",
       "3  great fridge price like fridge great fridge pr...  0.369444      0.525000  \n",
       "4  bought refrigerator everything looked fine beg...  0.079894      0.352116  "
      ]
     },
     "execution_count": 45,
     "metadata": {},
     "output_type": "execute_result"
    }
   ],
   "source": [
    "GE_data = data.loc[data['Brand'] == 'General Electric']\n",
    "GE_data.reset_index(drop=True, inplace=True)\n",
    "GE_data.head()"
   ]
  },
  {
   "cell_type": "code",
   "execution_count": 46,
   "metadata": {},
   "outputs": [],
   "source": [
    "## Juntando todos os comentários e removendo as stopwords\n",
    "\n",
    "full_text = ''\n",
    "\n",
    "for row in GE_data.index:\n",
    "    text = GE_data.loc[row, 'Full_Comment']\n",
    "    full_text = combine_text(full_text, text)\n",
    "full_text = remove_stop_words(full_text, en_stopwords)"
   ]
  },
  {
   "cell_type": "code",
   "execution_count": 47,
   "metadata": {},
   "outputs": [
    {
     "name": "stdout",
     "output_type": "stream",
     "text": [
      "('ice', 'maker'): 0.176\n",
      "('side', 'side'): 0.077\n",
      "('water', 'dispenser'): 0.065\n",
      "('lots', 'room'): 0.059\n",
      "('water', 'ice'): 0.047\n",
      "('bottom', 'freezer'): 0.045\n",
      "('french', 'door'): 0.045\n",
      "('much', 'room'): 0.039\n",
      "('new', 'refrigerator'): 0.038\n",
      "('ice', 'water'): 0.038\n",
      "('counter', 'depth'): 0.036\n",
      "('much', 'space'): 0.036\n",
      "('lots', 'space'): 0.034\n",
      "('new', 'ge'): 0.034\n",
      "('plenty', 'room'): 0.031\n",
      "('ge', 'appliances'): 0.028\n",
      "('works', 'well'): 0.028\n",
      "('maker', 'door'): 0.027\n",
      "('ge', 'refrigerator'): 0.025\n",
      "('french', 'doors'): 0.025\n",
      "('old', 'one'): 0.024\n",
      "('freezer', 'door'): 0.023\n",
      "('stainless', 'steel'): 0.023\n",
      "('ge', 'profile'): 0.021\n",
      "('freezer', 'bottom'): 0.021\n",
      "('door', 'shelves'): 0.021\n",
      "('led', 'lighting'): 0.021\n",
      "('room', 'inside'): 0.020\n",
      "('door', 'door'): 0.020\n",
      "('use', 'space'): 0.020\n"
     ]
    }
   ],
   "source": [
    "## Tokenizando o texto, calculando a frequência utilizando bigramas e a porcentagem de aparição das palavras\n",
    "tokens = word_tokenize(full_text)\n",
    "bgs = nltk.bigrams(tokens)\n",
    "fdist = FreqDist(bgs)\n",
    "for key, value in fdist.most_common(30):\n",
    "    print('{}: {:.3f}' .format(key, value/len(GE_data)) )"
   ]
  },
  {
   "cell_type": "markdown",
   "metadata": {},
   "source": [
    "## 4.2.1 Quais caraterísticas aparecem em ratings mais baixos?"
   ]
  },
  {
   "cell_type": "code",
   "execution_count": 48,
   "metadata": {},
   "outputs": [],
   "source": [
    "GE_data_bad = GE_data.loc[GE_data['Rating'] <=2]\n",
    "GE_data_bad.reset_index(drop=True, inplace=True)"
   ]
  },
  {
   "cell_type": "code",
   "execution_count": 49,
   "metadata": {},
   "outputs": [],
   "source": [
    "## Juntando todos os comentários e removendo as stopwords\n",
    "\n",
    "full_text =''\n",
    "for row in GE_data_bad.index:\n",
    "    text = GE_data_bad.loc[row, 'Full_Comment']\n",
    "    full_text = combine_text(full_text, text)\n",
    "full_text = remove_stop_words(full_text, en_stopwords)"
   ]
  },
  {
   "cell_type": "code",
   "execution_count": 50,
   "metadata": {
    "scrolled": false
   },
   "outputs": [
    {
     "name": "stdout",
     "output_type": "stream",
     "text": [
      "('ice', 'maker'): 0.266\n",
      "('another', 'ge'): 0.076\n",
      "('brand', 'new'): 0.070\n",
      "('doesnt', 'work'): 0.066\n",
      "('two', 'years'): 0.063\n",
      "('water', 'door'): 0.063\n",
      "('service', 'call'): 0.060\n",
      "('freezer', 'door'): 0.060\n",
      "('buy', 'another'): 0.060\n",
      "('worked', 'since'): 0.057\n",
      "('beyond', 'repair'): 0.057\n",
      "('small', 'led'): 0.057\n",
      "('led', 'lights'): 0.057\n",
      "('opening', 'door'): 0.057\n",
      "('weak', 'lighting'): 0.057\n",
      "('ge', 'product'): 0.054\n",
      "('lighting', 'poor'): 0.054\n",
      "('ge', 'cafe'): 0.051\n",
      "('lasted', 'years'): 0.051\n",
      "('less', 'months'): 0.051\n",
      "('work', 'water'): 0.051\n",
      "('ge', 'appliance'): 0.047\n",
      "('months', 'started'): 0.047\n",
      "('ge', 'refrigerator'): 0.044\n",
      "('open', 'doors'): 0.044\n",
      "('started', 'making'): 0.044\n",
      "('cheaply', 'made'): 0.044\n",
      "('water', 'dispenser'): 0.044\n",
      "('product', 'buy'): 0.041\n",
      "('door', 'shelves'): 0.041\n"
     ]
    }
   ],
   "source": [
    "## Tokenizando o texto, calculando a frequência utilizando bigramas e a porcentagem de aparição das palavras\n",
    "tokens = word_tokenize(full_text)\n",
    "bgs = nltk.bigrams(tokens)\n",
    "fdist = FreqDist(bgs)\n",
    "for key, value in fdist.most_common(30):\n",
    "    print('{}: {:.3f}' .format(key, value/len(GE_data_bad)) )"
   ]
  },
  {
   "cell_type": "markdown",
   "metadata": {},
   "source": [
    "## Insights"
   ]
  },
  {
   "cell_type": "markdown",
   "metadata": {},
   "source": [
    "Olhando essa palavras, e a porcentagem com que elas aparecem:\n",
    "- A palavra **ice maker** apareceu em 26% dos comentários\n",
    "- Temos reclamações com relação as luzes:\n",
    "    - como em **small led**(5,7%), **led lights**(5,7%)), **weak lighting** (5,7%), **lighting poor** (5,4%)\n",
    "- Temos reclamações com relação as portas:\n",
    "    - a palavra **door** apareceu várias vezes como em **freezer door**(6%), **water door**(6,3%), e principalmente algum problema na abertura das portas, já que aparecem comentário com **open doors** (4,4%), e **opening door** (5,7%)"
   ]
  },
  {
   "cell_type": "markdown",
   "metadata": {},
   "source": [
    "## 4.2.2 E Mais positivos?"
   ]
  },
  {
   "cell_type": "code",
   "execution_count": 51,
   "metadata": {},
   "outputs": [],
   "source": [
    "GE_data_good = GE_data.loc[GE_data['Rating'] > 3]\n",
    "GE_data_good.reset_index(drop=True, inplace=True)"
   ]
  },
  {
   "cell_type": "code",
   "execution_count": 52,
   "metadata": {},
   "outputs": [],
   "source": [
    "## Juntando todos os comentários e removendo as stopwords\n",
    "full_text =''\n",
    "for row in GE_data_good.index:\n",
    "    text = GE_data_good.loc[row, 'Full_Comment']\n",
    "    full_text = combine_text(full_text, text)\n",
    "full_text = remove_stop_words(full_text, en_stopwords)"
   ]
  },
  {
   "cell_type": "code",
   "execution_count": 53,
   "metadata": {
    "scrolled": false
   },
   "outputs": [
    {
     "name": "stdout",
     "output_type": "stream",
     "text": [
      "('ice', 'maker'): 0.161\n",
      "('side', 'side'): 0.088\n",
      "('lots', 'room'): 0.068\n",
      "('water', 'dispenser'): 0.062\n",
      "('water', 'ice'): 0.051\n",
      "('bottom', 'freezer'): 0.048\n",
      "('french', 'door'): 0.046\n",
      "('new', 'refrigerator'): 0.042\n",
      "('much', 'room'): 0.040\n",
      "('counter', 'depth'): 0.040\n",
      "('much', 'space'): 0.040\n",
      "('lots', 'space'): 0.037\n",
      "('new', 'ge'): 0.037\n",
      "('ice', 'water'): 0.036\n",
      "('plenty', 'room'): 0.035\n",
      "('ge', 'appliances'): 0.031\n",
      "('works', 'well'): 0.029\n",
      "('maker', 'door'): 0.029\n",
      "('french', 'doors'): 0.028\n",
      "('ge', 'refrigerator'): 0.026\n",
      "('led', 'lighting'): 0.024\n",
      "('room', 'inside'): 0.024\n",
      "('door', 'door'): 0.023\n",
      "('slate', 'color'): 0.022\n",
      "('stainless', 'steel'): 0.022\n",
      "('old', 'one'): 0.022\n",
      "('freezer', 'bottom'): 0.022\n",
      "('freezer', 'door'): 0.021\n",
      "('ge', 'profile'): 0.020\n",
      "('space', 'freezer'): 0.020\n"
     ]
    }
   ],
   "source": [
    "## Tokenizando o texto, calculando a frequência utilizando bigramas e a porcentagem de aparição das palavras\n",
    "tokens = word_tokenize(full_text)\n",
    "bgs = nltk.bigrams(tokens)\n",
    "fdist = FreqDist(bgs)\n",
    "for key, value in fdist.most_common(30):\n",
    "    print('{}: {:.3f}' .format(key, value/len(GE_data_good)) )"
   ]
  },
  {
   "cell_type": "markdown",
   "metadata": {},
   "source": [
    "## Insights"
   ]
  },
  {
   "cell_type": "markdown",
   "metadata": {},
   "source": [
    "- A palavra **ice maker** aparece 16% das vezes\n",
    "- Temos diversos elogios com relação ao espaço assim como na whirpool:\n",
    "    - **lots room** , **much room**, **counter depth**, **much space**, **lots space**, **plenty room**, **space freezer**"
   ]
  },
  {
   "cell_type": "markdown",
   "metadata": {},
   "source": [
    "## 4.3 bestbuy_us "
   ]
  },
  {
   "cell_type": "code",
   "execution_count": 54,
   "metadata": {
    "scrolled": true
   },
   "outputs": [
    {
     "data": {
      "text/html": [
       "<div>\n",
       "<style scoped>\n",
       "    .dataframe tbody tr th:only-of-type {\n",
       "        vertical-align: middle;\n",
       "    }\n",
       "\n",
       "    .dataframe tbody tr th {\n",
       "        vertical-align: top;\n",
       "    }\n",
       "\n",
       "    .dataframe thead th {\n",
       "        text-align: right;\n",
       "    }\n",
       "</style>\n",
       "<table border=\"1\" class=\"dataframe\">\n",
       "  <thead>\n",
       "    <tr style=\"text-align: right;\">\n",
       "      <th></th>\n",
       "      <th>Website</th>\n",
       "      <th>Product</th>\n",
       "      <th>Brand</th>\n",
       "      <th>URL</th>\n",
       "      <th>Description</th>\n",
       "      <th>Technical Features</th>\n",
       "      <th>General Features</th>\n",
       "      <th>Comment#1</th>\n",
       "      <th>Comment#2</th>\n",
       "      <th>Rating</th>\n",
       "      <th>Available Colors</th>\n",
       "      <th>No. Colors</th>\n",
       "      <th>Full_Comment</th>\n",
       "      <th>polarity</th>\n",
       "      <th>subjectivity</th>\n",
       "    </tr>\n",
       "  </thead>\n",
       "  <tbody>\n",
       "    <tr>\n",
       "      <th>0</th>\n",
       "      <td>bestbuy_us</td>\n",
       "      <td>Refrigerators</td>\n",
       "      <td>Whirlpool</td>\n",
       "      <td>https://www.bestbuy.com/site/whirlpool-21-9-cu...</td>\n",
       "      <td>Whirlpool - 21.9 Cu. Ft. Bottom-Freezer Refrig...</td>\n",
       "      <td>'21.9':2 'bottom':6 'bottom-freezer':5 'cu':3 ...</td>\n",
       "      <td>{'brand': ['whirlpool'], 'Other_UPC': ['883049...</td>\n",
       "      <td>much room</td>\n",
       "      <td>love fridge much room french door style large ...</td>\n",
       "      <td>5.0</td>\n",
       "      <td>['3928039', '3928048', '3979801', '6112639']</td>\n",
       "      <td>4</td>\n",
       "      <td>much room love fridge much room french door st...</td>\n",
       "      <td>0.219048</td>\n",
       "      <td>0.271429</td>\n",
       "    </tr>\n",
       "    <tr>\n",
       "      <th>1</th>\n",
       "      <td>bestbuy_us</td>\n",
       "      <td>Refrigerators</td>\n",
       "      <td>Whirlpool</td>\n",
       "      <td>https://www.bestbuy.com/site/whirlpool-21-9-cu...</td>\n",
       "      <td>Whirlpool - 21.9 Cu. Ft. Bottom-Freezer Refrig...</td>\n",
       "      <td>'21.9':2 'black':9 'bottom':6 'bottom-freezer'...</td>\n",
       "      <td>{'brand': ['whirlpool'], 'Other_UPC': ['883049...</td>\n",
       "      <td>much room</td>\n",
       "      <td>love fridge much room french door style large ...</td>\n",
       "      <td>5.0</td>\n",
       "      <td>['3928039', '3928048', '3979801', '6112639']</td>\n",
       "      <td>4</td>\n",
       "      <td>much room love fridge much room french door st...</td>\n",
       "      <td>0.219048</td>\n",
       "      <td>0.271429</td>\n",
       "    </tr>\n",
       "    <tr>\n",
       "      <th>2</th>\n",
       "      <td>bestbuy_us</td>\n",
       "      <td>Refrigerators</td>\n",
       "      <td>Whirlpool</td>\n",
       "      <td>https://www.bestbuy.com/site/whirlpool-22-1-cu...</td>\n",
       "      <td>Whirlpool - 22.1 Cu. Ft. Bottom-Freezer Refrig...</td>\n",
       "      <td>'22.1':2 'black':9 'bottom':6 'bottom-freezer'...</td>\n",
       "      <td>{'brand': ['whirlpool'], 'Other_UPC': ['883049...</td>\n",
       "      <td>much room</td>\n",
       "      <td>love fridge much room french door style large ...</td>\n",
       "      <td>5.0</td>\n",
       "      <td>['3928039', '3928048', '3979801', '6112639']</td>\n",
       "      <td>4</td>\n",
       "      <td>much room love fridge much room french door st...</td>\n",
       "      <td>0.219048</td>\n",
       "      <td>0.271429</td>\n",
       "    </tr>\n",
       "    <tr>\n",
       "      <th>3</th>\n",
       "      <td>bestbuy_us</td>\n",
       "      <td>Refrigerators</td>\n",
       "      <td>Whirlpool</td>\n",
       "      <td>https://www.bestbuy.com/site/whirlpool-21-9-cu...</td>\n",
       "      <td>Whirlpool - 21.9 Cu. Ft. Bottom-Freezer Refrig...</td>\n",
       "      <td>'21.9':2 'bottom':6 'bottom-freezer':5 'cu':3 ...</td>\n",
       "      <td>{'brand': ['whirlpool'], 'Other_UPC': ['883049...</td>\n",
       "      <td>much room</td>\n",
       "      <td>love fridge much room french door style large ...</td>\n",
       "      <td>5.0</td>\n",
       "      <td>['3928039', '3928048', '3979801', '6112639']</td>\n",
       "      <td>4</td>\n",
       "      <td>much room love fridge much room french door st...</td>\n",
       "      <td>0.219048</td>\n",
       "      <td>0.271429</td>\n",
       "    </tr>\n",
       "    <tr>\n",
       "      <th>4</th>\n",
       "      <td>bestbuy_us</td>\n",
       "      <td>Refrigerators</td>\n",
       "      <td>LG</td>\n",
       "      <td>https://www.bestbuy.com/site/lg-24-5-cu-ft-fre...</td>\n",
       "      <td>LG - 24.5 Cu. Ft. French Door Refrigerator wit...</td>\n",
       "      <td>'24.5':2 'cu':3 'door':6 'fi':11 'french':5 'f...</td>\n",
       "      <td>{'brand': ['lg'], 'Other_UPC': ['772454071928'...</td>\n",
       "      <td>far nice refrigerator</td>\n",
       "      <td>roomy refrigerator slim ice maker gives lot ro...</td>\n",
       "      <td>5.0</td>\n",
       "      <td>['6360730', '6403041']</td>\n",
       "      <td>2</td>\n",
       "      <td>far nice refrigerator roomy refrigerator slim ...</td>\n",
       "      <td>0.144167</td>\n",
       "      <td>0.708333</td>\n",
       "    </tr>\n",
       "  </tbody>\n",
       "</table>\n",
       "</div>"
      ],
      "text/plain": [
       "      Website        Product      Brand  \\\n",
       "0  bestbuy_us  Refrigerators  Whirlpool   \n",
       "1  bestbuy_us  Refrigerators  Whirlpool   \n",
       "2  bestbuy_us  Refrigerators  Whirlpool   \n",
       "3  bestbuy_us  Refrigerators  Whirlpool   \n",
       "4  bestbuy_us  Refrigerators         LG   \n",
       "\n",
       "                                                 URL  \\\n",
       "0  https://www.bestbuy.com/site/whirlpool-21-9-cu...   \n",
       "1  https://www.bestbuy.com/site/whirlpool-21-9-cu...   \n",
       "2  https://www.bestbuy.com/site/whirlpool-22-1-cu...   \n",
       "3  https://www.bestbuy.com/site/whirlpool-21-9-cu...   \n",
       "4  https://www.bestbuy.com/site/lg-24-5-cu-ft-fre...   \n",
       "\n",
       "                                         Description  \\\n",
       "0  Whirlpool - 21.9 Cu. Ft. Bottom-Freezer Refrig...   \n",
       "1  Whirlpool - 21.9 Cu. Ft. Bottom-Freezer Refrig...   \n",
       "2  Whirlpool - 22.1 Cu. Ft. Bottom-Freezer Refrig...   \n",
       "3  Whirlpool - 21.9 Cu. Ft. Bottom-Freezer Refrig...   \n",
       "4  LG - 24.5 Cu. Ft. French Door Refrigerator wit...   \n",
       "\n",
       "                                  Technical Features  \\\n",
       "0  '21.9':2 'bottom':6 'bottom-freezer':5 'cu':3 ...   \n",
       "1  '21.9':2 'black':9 'bottom':6 'bottom-freezer'...   \n",
       "2  '22.1':2 'black':9 'bottom':6 'bottom-freezer'...   \n",
       "3  '21.9':2 'bottom':6 'bottom-freezer':5 'cu':3 ...   \n",
       "4  '24.5':2 'cu':3 'door':6 'fi':11 'french':5 'f...   \n",
       "\n",
       "                                    General Features              Comment#1  \\\n",
       "0  {'brand': ['whirlpool'], 'Other_UPC': ['883049...              much room   \n",
       "1  {'brand': ['whirlpool'], 'Other_UPC': ['883049...              much room   \n",
       "2  {'brand': ['whirlpool'], 'Other_UPC': ['883049...              much room   \n",
       "3  {'brand': ['whirlpool'], 'Other_UPC': ['883049...              much room   \n",
       "4  {'brand': ['lg'], 'Other_UPC': ['772454071928'...  far nice refrigerator   \n",
       "\n",
       "                                           Comment#2  Rating  \\\n",
       "0  love fridge much room french door style large ...     5.0   \n",
       "1  love fridge much room french door style large ...     5.0   \n",
       "2  love fridge much room french door style large ...     5.0   \n",
       "3  love fridge much room french door style large ...     5.0   \n",
       "4  roomy refrigerator slim ice maker gives lot ro...     5.0   \n",
       "\n",
       "                               Available Colors  No. Colors  \\\n",
       "0  ['3928039', '3928048', '3979801', '6112639']           4   \n",
       "1  ['3928039', '3928048', '3979801', '6112639']           4   \n",
       "2  ['3928039', '3928048', '3979801', '6112639']           4   \n",
       "3  ['3928039', '3928048', '3979801', '6112639']           4   \n",
       "4                        ['6360730', '6403041']           2   \n",
       "\n",
       "                                        Full_Comment  polarity  subjectivity  \n",
       "0  much room love fridge much room french door st...  0.219048      0.271429  \n",
       "1  much room love fridge much room french door st...  0.219048      0.271429  \n",
       "2  much room love fridge much room french door st...  0.219048      0.271429  \n",
       "3  much room love fridge much room french door st...  0.219048      0.271429  \n",
       "4  far nice refrigerator roomy refrigerator slim ...  0.144167      0.708333  "
      ]
     },
     "execution_count": 54,
     "metadata": {},
     "output_type": "execute_result"
    }
   ],
   "source": [
    "BB_data = data.loc[data['Website'] == 'bestbuy_us']\n",
    "BB_data.reset_index(drop=True, inplace=True)\n",
    "BB_data.head()"
   ]
  },
  {
   "cell_type": "code",
   "execution_count": 55,
   "metadata": {},
   "outputs": [],
   "source": [
    "## Juntando todos os comentários e removendo as stopwords\n",
    "full_text = ''\n",
    "\n",
    "for row in BB_data.index:\n",
    "    text = BB_data.loc[row, 'Full_Comment']\n",
    "    full_text = combine_text(full_text, text)\n",
    "full_text = remove_stop_words(full_text, en_stopwords)"
   ]
  },
  {
   "cell_type": "code",
   "execution_count": 56,
   "metadata": {
    "scrolled": false
   },
   "outputs": [
    {
     "name": "stdout",
     "output_type": "stream",
     "text": [
      "('ice', 'maker'): 0.228\n",
      "('water', 'dispenser'): 0.077\n",
      "('stainless', 'steel'): 0.074\n",
      "('side', 'side'): 0.060\n",
      "('water', 'ice'): 0.051\n",
      "('ice', 'water'): 0.042\n",
      "('french', 'door'): 0.042\n",
      "('counter', 'depth'): 0.040\n",
      "('black', 'stainless'): 0.037\n",
      "('new', 'refrigerator'): 0.033\n",
      "('plenty', 'room'): 0.032\n",
      "('lots', 'room'): 0.032\n",
      "('ice', 'dispenser'): 0.032\n",
      "('door', 'door'): 0.028\n",
      "('refrigerator', 'refrigerator'): 0.027\n",
      "('works', 'well'): 0.027\n",
      "('french', 'doors'): 0.026\n",
      "('lots', 'space'): 0.025\n",
      "('freezer', 'space'): 0.022\n",
      "('ice', 'machine'): 0.021\n",
      "('water', 'pitcher'): 0.020\n",
      "('bottom', 'freezer'): 0.020\n",
      "('much', 'room'): 0.020\n",
      "('easy', 'access'): 0.020\n",
      "('fingerprint', 'resistant'): 0.020\n",
      "('old', 'one'): 0.019\n",
      "('year', 'old'): 0.018\n",
      "('plenty', 'space'): 0.018\n",
      "('storage', 'space'): 0.018\n",
      "('freezer', 'drawer'): 0.017\n"
     ]
    }
   ],
   "source": [
    "## Tokenizando o texto, calculando a frequência utilizando bigramas e a porcentagem de aparição das palavras\n",
    "tokens = word_tokenize(full_text)\n",
    "bgs = nltk.bigrams(tokens)\n",
    "fdist = FreqDist(bgs)\n",
    "for key, value in fdist.most_common(30):\n",
    "    print('{}: {:.3f}' .format(key, value/len(BB_data)) )"
   ]
  },
  {
   "cell_type": "markdown",
   "metadata": {},
   "source": [
    "## 4.3.1 Quais caraterísticas aparecem em ratings mais baixos?"
   ]
  },
  {
   "cell_type": "code",
   "execution_count": 57,
   "metadata": {},
   "outputs": [],
   "source": [
    "BB_data_bad = BB_data.loc[BB_data['Rating'] <=2]\n",
    "BB_data_bad.reset_index(drop=True, inplace=True)"
   ]
  },
  {
   "cell_type": "code",
   "execution_count": 58,
   "metadata": {},
   "outputs": [],
   "source": [
    "## Juntando todos os comentários e removendo as stopwords\n",
    "full_text =''\n",
    "for row in BB_data_bad.index:\n",
    "    text = BB_data_bad.loc[row, 'Full_Comment']\n",
    "    full_text = combine_text(full_text, text)\n",
    "full_text = remove_stop_words(full_text, en_stopwords)"
   ]
  },
  {
   "cell_type": "code",
   "execution_count": 59,
   "metadata": {
    "scrolled": false
   },
   "outputs": [
    {
     "name": "stdout",
     "output_type": "stream",
     "text": [
      "('ice', 'maker'): 0.261\n",
      "('stopped', 'working'): 0.080\n",
      "('customer', 'service'): 0.080\n",
      "('water', 'dispenser'): 0.068\n",
      "('dont', 'buy'): 0.060\n",
      "('new', 'door'): 0.060\n",
      "('extended', 'warranty'): 0.056\n",
      "('ice', 'dispenser'): 0.048\n",
      "('doesnt', 'work'): 0.048\n",
      "('making', 'ice'): 0.048\n",
      "('door', 'bins'): 0.048\n",
      "('many', 'issues'): 0.044\n",
      "('buy', 'another'): 0.044\n",
      "('years', 'old'): 0.044\n",
      "('stainless', 'steel'): 0.044\n",
      "('geek', 'squad'): 0.040\n",
      "('new', 'one'): 0.040\n",
      "('years', 'ago'): 0.040\n",
      "('water', 'ice'): 0.036\n",
      "('waste', 'money'): 0.036\n",
      "('open', 'door'): 0.036\n",
      "('quit', 'cooling'): 0.036\n",
      "('tested', 'temp'): 0.036\n",
      "('stopped', 'making'): 0.036\n",
      "('within', 'weeks'): 0.036\n",
      "('lower', 'end'): 0.036\n",
      "('end', 'model'): 0.036\n",
      "('days', 'later'): 0.036\n",
      "('service', 'call'): 0.036\n",
      "('another', 'model'): 0.036\n"
     ]
    }
   ],
   "source": [
    "## Tokenizando o texto, calculando a frequência utilizando bigramas e a porcentagem de aparição das palavras\n",
    "tokens = word_tokenize(full_text)\n",
    "bgs = nltk.bigrams(tokens)\n",
    "fdist = FreqDist(bgs)\n",
    "for key, value in fdist.most_common(30):\n",
    "    print('{}: {:.3f}' .format(key, value/len(BB_data_bad)) )"
   ]
  },
  {
   "cell_type": "markdown",
   "metadata": {},
   "source": [
    "## Insights"
   ]
  },
  {
   "cell_type": "markdown",
   "metadata": {},
   "source": [
    "- Como sempre a palavra que mais aparece é **ice maker** (26%)\n",
    "- A palavra **many issues** apareceu 4,4% das vezes\n",
    "- Tivemos algumas reclamações com relação ao atendimento ao cliente do site (muito provavelmente) como:\n",
    "    - **customer service** (8,8%), **service call** (3,6%)]\n",
    "    - e até mesmo palavras que envolvem a garantia do produto. (**extended warranty** (5,6%))\n",
    "- Tivemos algumas reclamações com o fato da geladeira parar de gelar (**quit cooling** (3,6%))\n",
    "- Uma outra coisa interessante é que uma das empresas subsidiárias do site Best Buy,  e que fornece serviços de suporte ao consumidor, a **geek squad**, apareceu em 4% das vezes. "
   ]
  },
  {
   "cell_type": "markdown",
   "metadata": {},
   "source": [
    "## 4.3.2 E Mais positivos?"
   ]
  },
  {
   "cell_type": "code",
   "execution_count": 60,
   "metadata": {},
   "outputs": [],
   "source": [
    "BB_data_good = BB_data.loc[BB_data['Rating'] >3]\n",
    "BB_data_good.reset_index(drop=True, inplace=True)"
   ]
  },
  {
   "cell_type": "code",
   "execution_count": 61,
   "metadata": {},
   "outputs": [],
   "source": [
    "## Juntando todos os comentários e removendo as stopwords\n",
    "full_text =''\n",
    "for row in BB_data_good.index:\n",
    "    text = BB_data_good.loc[row, 'Full_Comment']\n",
    "    full_text = combine_text(full_text, text)\n",
    "full_text = remove_stop_words(full_text, en_stopwords)"
   ]
  },
  {
   "cell_type": "code",
   "execution_count": 62,
   "metadata": {
    "scrolled": false
   },
   "outputs": [
    {
     "name": "stdout",
     "output_type": "stream",
     "text": [
      "('ice', 'maker'): 0.207\n",
      "('stainless', 'steel'): 0.081\n",
      "('water', 'dispenser'): 0.072\n",
      "('side', 'side'): 0.071\n",
      "('water', 'ice'): 0.051\n",
      "('french', 'door'): 0.050\n",
      "('counter', 'depth'): 0.046\n",
      "('black', 'stainless'): 0.044\n",
      "('ice', 'water'): 0.041\n",
      "('plenty', 'room'): 0.039\n",
      "('lots', 'room'): 0.039\n",
      "('new', 'refrigerator'): 0.035\n",
      "('door', 'door'): 0.033\n",
      "('refrigerator', 'refrigerator'): 0.033\n",
      "('works', 'well'): 0.032\n",
      "('french', 'doors'): 0.031\n",
      "('ice', 'dispenser'): 0.030\n",
      "('lots', 'space'): 0.029\n",
      "('freezer', 'space'): 0.025\n",
      "('much', 'room'): 0.024\n",
      "('water', 'pitcher'): 0.024\n",
      "('easy', 'access'): 0.023\n",
      "('bottom', 'freezer'): 0.022\n",
      "('fingerprint', 'resistant'): 0.022\n",
      "('old', 'one'): 0.021\n",
      "('plenty', 'space'): 0.021\n",
      "('storage', 'space'): 0.020\n",
      "('maker', 'door'): 0.020\n",
      "('ice', 'machine'): 0.019\n",
      "('highly', 'recommend'): 0.019\n"
     ]
    }
   ],
   "source": [
    "## Tokenizando o texto, calculando a frequência utilizando bigramas e a porcentagem de aparição das palavras\n",
    "\n",
    "tokens = word_tokenize(full_text)\n",
    "bgs = nltk.bigrams(tokens)\n",
    "fdist = FreqDist(bgs)\n",
    "for key, value in fdist.most_common(30):\n",
    "    print('{}: {:.3f}' .format(key, value/len(BB_data_good)) )"
   ]
  },
  {
   "cell_type": "markdown",
   "metadata": {},
   "source": [
    "## Insights"
   ]
  },
  {
   "cell_type": "markdown",
   "metadata": {},
   "source": [
    "- Como sempre a palavra que mais aparece é **ice maker** (20%)\n",
    "- Temos diversos elogios com relação ao espaço assim como na whirpool:\n",
    "    - **lots room** , **much room**, **counter depth**, **much space**, **lots space**, **plenty room** **storage space**\n",
    "- E até sobre as cores dos modelos: **stainless steel** e **black stainless**"
   ]
  },
  {
   "cell_type": "markdown",
   "metadata": {},
   "source": [
    "# Insights Gerais"
   ]
  },
  {
   "cell_type": "markdown",
   "metadata": {},
   "source": [
    "- As pessoas que elogiam tender a falar da mesma coisa: espaço, freezer\n",
    "\n",
    "- O ice maker em geral desagrada e agrada os consumidores, sempre sendo a palavra que mais aparece\n",
    "\n",
    "- Quando se filtra por uma marca especifica, os comentários negativos geralmente pegam em questão a alguma defeito do produto em si, enquanto ao se filtrar pelo site, vemos mais comentários relacionados ao serviço ao consumidor."
   ]
  }
 ],
 "metadata": {
  "colab": {
   "name": "Untitled0.ipynb",
   "provenance": []
  },
  "kernelspec": {
   "display_name": "Python 3",
   "language": "python",
   "name": "python3"
  },
  "language_info": {
   "codemirror_mode": {
    "name": "ipython",
    "version": 3
   },
   "file_extension": ".py",
   "mimetype": "text/x-python",
   "name": "python",
   "nbconvert_exporter": "python",
   "pygments_lexer": "ipython3",
   "version": "3.6.9"
  }
 },
 "nbformat": 4,
 "nbformat_minor": 1
}
